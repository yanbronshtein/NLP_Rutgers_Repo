{
 "cells": [
  {
   "cell_type": "markdown",
   "metadata": {},
   "source": [
    "# Homework 4"
   ]
  },
  {
   "cell_type": "markdown",
   "metadata": {},
   "source": [
    "In this assignment, you will build and test a Neural Network model of product reviews using Python's Scikit-learn package.\n",
    "\n",
    "The dataset is provided with the homework and is the same dataset that was provided with Homework 2 and 3. It contains reviews for six of the review topics used in the paper John Blitzer, Mark Dredze, and Fernando Pereira: Biographies, Bollywood, Boom-boxes and Blenders: Domain Adaptation for Sentiment Classification. In Proceedings of the 45th Annual Meeting of the Association of Computational Linguistics (ACL 2007). The data has been formatted so that there is one review per line, and the texts have been tokenized and normalized.\n",
    "\n",
    "A line in the file is organized in columns as follows:\n",
    "\n",
    "0: topic category label (books, camera, dvd, health, music, or software)<br>\n",
    "1: sentiment category label (pos or neg)<br>\n",
    "2: document identifier<br>\n",
    "3 and on: the actual review\n",
    "\n",
    "Here is an example of a line:\n",
    "\n",
    "<i>health pos 691.txt smaller size did not fit me or my son . it would be nice if you could use perhaps a hat size to determine right size . standard size worked fine .</i>\n",
    "\n",
    "IMPORTANT: Your submission must be a Jupyter Notebook (.ipynb) file that is organized into sections as in this notebook file. You should edit this file to insert your answers and submit the resulting file. You can insert cells as needed, however keep your code well-organized and easy to understand."
   ]
  },
  {
   "cell_type": "code",
   "execution_count": 1,
   "metadata": {},
   "outputs": [],
   "source": [
    "# you may insert your imports in this cell\n",
    "%matplotlib inline\n",
    "import numpy as np\n",
    "import pandas as pd\n",
    "\n",
    "import matplotlib.pyplot as plt\n",
    "import seaborn as sns\n",
    "\n",
    "from sklearn.feature_extraction.text import CountVectorizer\n",
    "from sklearn.feature_extraction.text import TfidfVectorizer\n",
    "\n",
    "from sklearn.naive_bayes import MultinomialNB\n",
    "from sklearn.pipeline import make_pipeline\n",
    "\n",
    "from sklearn.metrics import confusion_matrix\n",
    "from sklearn.metrics import f1_score\n",
    "\n",
    "from sklearn.model_selection import train_test_split\n",
    "from sklearn.neural_network import MLPClassifier\n",
    "\n",
    "from gensim.test.utils import datapath, get_tmpfile\n",
    "from gensim.models import KeyedVectors\n",
    "from gensim.scripts.glove2word2vec import glove2word2vec\n",
    "\n",
    "from nltk.corpus import stopwords\n",
    "from nltk.tokenize import RegexpTokenizer\n",
    "\n",
    "import string\n",
    "stopset = stopwords.words('english') + list(string.punctuation)\n",
    "\n",
    "import warnings\n",
    "warnings.filterwarnings('ignore')"
   ]
  },
  {
   "cell_type": "markdown",
   "metadata": {},
   "source": [
    "## Part I - 5 Points"
   ]
  },
  {
   "cell_type": "markdown",
   "metadata": {},
   "source": [
    "Write a function named <i>read_corpus</i> that takes a filename for the dataset and the position of the category label on each line and returns the reviews and labels as two separate lists. \n",
    "\n",
    "Invoke your function with the filename of the dataset provided with this assignment and <b>0</b> as the position of the category label (<b>topic</b>), save the results in variables, and then print out the folowing:\n",
    " \n",
    " (1) any two reviews and their corresponding labels (Note: the labels should be one of (books, camera, dvd, health, music, or software))<br>\n",
    " (2) number of reviews (reviews will be referred to as data in the rest of the assignment) <br> \n",
    " (3) number of labels"
   ]
  },
  {
   "cell_type": "code",
   "execution_count": 2,
   "metadata": {},
   "outputs": [],
   "source": [
    "# PART I: extract data and labels \n",
    "def read_corpus(filename, category_position):\n",
    "    ## fill in your code below this line\n",
    "    \n",
    "    all_data = []\n",
    "    all_labels = []\n",
    "    with open(filename, encoding='utf8') as f:\n",
    "        for line in f:\n",
    "            tokens = line.strip().split()\n",
    "            data = tokens[3:]\n",
    "            label = tokens[category_position]\n",
    "            all_data.append(' '.join(data))\n",
    "            all_labels.append(label)\n",
    "    \n",
    "    \n",
    "    \n",
    "    return all_data, all_labels"
   ]
  },
  {
   "cell_type": "code",
   "execution_count": 55,
   "metadata": {},
   "outputs": [
    {
     "name": "stdout",
     "output_type": "stream",
     "text": [
      "REVIEW #0: \n",
      "LABEL:  music\n",
      "DATA:  i bought this album because i loved the title song . it 's such a great song , how bad can the rest of the album be , right ? well , the rest of the songs are just filler and are n't worth the money i paid for this . it 's either shameless bubblegum or oversentimentalized depressing tripe . kenny chesney is a popular artist and as a result he is in the cookie cutter category of the nashville music scene . he 's gotta pump out the albums so the record company can keep lining their pockets while the suckers out there keep buying this garbage to perpetuate more garbage coming out of that town . i 'll get down off my soapbox now . but country music really needs to get back to it 's roots and stop this pop nonsense . what country music really is and what it is considered to be by mainstream are two different things .\n",
      "REVIEW #2: \n",
      "LABEL:  books\n",
      "DATA:  i have introduced many of my ell , high school students to lois lowery and the depth of her characters . she is a brilliant writer and capable of inspiring fierce passion in her readers as they encounter shocking details of her utopian worlds . i was anxious to read this companion novel and had planned to share it with my class this january . although the series is written for 6th graders and older , this book 's simplicity , in its message , language and writing style will inspire no one . i am sadly disappointed\n",
      "# REVIEWS IN CORPUS: 11914\n",
      "# LABELS IN CORPUS  11914\n",
      "# UNIQUE LABELS IN CORPUS:  6\n"
     ]
    }
   ],
   "source": [
    "# code for \n",
    "#(1) invoking the read_corpus function\n",
    "#(2) generating output for  \n",
    "    #(i) any two reviews and their corresponding labels\n",
    "    #(ii) number of reviews\n",
    "    #(iii) number of labels\n",
    "\n",
    "### fill your code below this line and run this cell to SHOW YOUR OUTPUT\n",
    "# code for \n",
    "#(1) invoking the read_corpus function\n",
    "path = \"../data/HW4_data/all_reviews.txt\"\n",
    "all_data, all_labels = read_corpus(path, category_position=0)\n",
    "print(\"REVIEW #0: \")\n",
    "print(\"LABEL: \", all_labels[0])\n",
    "print(\"DATA: \", all_data[0])\n",
    "\n",
    "print(\"REVIEW #2: \")\n",
    "print(\"LABEL: \", all_labels[2])\n",
    "print(\"DATA: \", all_data[2])\n",
    "\n",
    "\n",
    "print(\"# REVIEWS IN CORPUS:\", len(all_data))\n",
    "print(\"# LABELS IN CORPUS \", len((all_labels)))\n",
    "print(\"# UNIQUE LABELS IN CORPUS: \", len(set(all_labels)))"
   ]
  },
  {
   "cell_type": "markdown",
   "metadata": {},
   "source": [
    "## Part II - 10 Points"
   ]
  },
  {
   "cell_type": "markdown",
   "metadata": {},
   "source": [
    "(1) Use the <i>train_test_split</i> utility in Scikit-learn's <i>model_selection</i>  library to split the data and labels into 4 arrays (based on a 80/20 split): X_train, X_test, y_train, y_test. \n",
    "\n",
    "X_train should contain the data for training, and X_test should contain the data for testing. y_train should contain the labels for training, and y_test should contain the labels for testing. \n",
    "\n",
    "(2) Print out the len of X_train and y_train.\n",
    "\n",
    "(3) Using the \"assert\" statement in Python, confirm that the number of samples in the training data and training labels match. Additionally, confirm that the number of samples in the test data and test labels match. Assert is used as follows: \n",
    "assert(cond). Try executing the following two statements to see how this works."
   ]
  },
  {
   "cell_type": "code",
   "execution_count": 32,
   "metadata": {},
   "outputs": [
    {
     "name": "stdout",
     "output_type": "stream",
     "text": [
      "Length of X_train: 9531\n",
      "Length of y_train: 9531\n"
     ]
    }
   ],
   "source": [
    "X_train, X_test, y_train, y_test = train_test_split(all_data, all_labels, train_size=.8)\n",
    "print('Length of X_train:', len(X_train)); print('Length of y_train:', len(y_train))"
   ]
  },
  {
   "cell_type": "code",
   "execution_count": 41,
   "metadata": {},
   "outputs": [],
   "source": [
    "len_xtrain = len(X_train)\n",
    "len_ytrain = len(y_train)\n",
    "err_msg = f\"The number of samples in xtrain: {len_xtrain} and y_train: {len_ytrain} do not match\"\n",
    "\n",
    "assert len_xtrain==len_ytrain, err_msg"
   ]
  },
  {
   "cell_type": "markdown",
   "metadata": {},
   "source": [
    "## Part III - 20 points"
   ]
  },
  {
   "cell_type": "markdown",
   "metadata": {},
   "source": [
    "Using the MLPClassifier module from Scikit-learn package, build a neural network model on the training data and predict the labels for the test_data. You can refer to https://scikit-learn.org/stable/modules/generated/sklearn.neural_network.MLPClassifier.html for details on this module. \n",
    "\n",
    "The inputs to the model should be a TF-IDF representation of the training data. You can follow the framework used in Homework 2 to achieve this. \n",
    "\n",
    "Use a single hidden layer in the neural network architecture with either 100 or 50 units. \n",
    "\n",
    "Use \"verbose=true\" to see the training results in each epoch. "
   ]
  },
  {
   "cell_type": "code",
   "execution_count": null,
   "metadata": {},
   "outputs": [],
   "source": []
  },
  {
   "cell_type": "code",
   "execution_count": 43,
   "metadata": {},
   "outputs": [
    {
     "name": "stdout",
     "output_type": "stream",
     "text": [
      "Iteration 1, loss = 1.59979838\n",
      "Iteration 2, loss = 0.98206853\n",
      "Iteration 3, loss = 0.48937226\n",
      "Iteration 4, loss = 0.26304904\n",
      "Iteration 5, loss = 0.16145285\n",
      "Iteration 6, loss = 0.10838583\n",
      "Iteration 7, loss = 0.07712138\n",
      "Iteration 8, loss = 0.05716411\n",
      "Iteration 9, loss = 0.04385806\n",
      "Iteration 10, loss = 0.03461640\n",
      "Iteration 11, loss = 0.02808127\n",
      "Iteration 12, loss = 0.02319299\n",
      "Iteration 13, loss = 0.01953262\n",
      "Iteration 14, loss = 0.01672203\n",
      "Iteration 15, loss = 0.01451084\n",
      "Iteration 16, loss = 0.01275989\n",
      "Iteration 17, loss = 0.01139385\n",
      "Iteration 18, loss = 0.01020469\n",
      "Iteration 19, loss = 0.00924599\n",
      "Iteration 20, loss = 0.00846844\n",
      "Iteration 21, loss = 0.00778606\n",
      "Iteration 22, loss = 0.00720943\n",
      "Iteration 23, loss = 0.00672193\n",
      "Iteration 24, loss = 0.00629567\n",
      "Iteration 25, loss = 0.00592726\n",
      "Iteration 26, loss = 0.00560256\n",
      "Iteration 27, loss = 0.00531584\n",
      "Iteration 28, loss = 0.00506454\n",
      "Iteration 29, loss = 0.00483576\n",
      "Iteration 30, loss = 0.00463395\n",
      "Iteration 31, loss = 0.00445240\n",
      "Iteration 32, loss = 0.00429111\n",
      "Iteration 33, loss = 0.00414230\n",
      "Iteration 34, loss = 0.00400811\n",
      "Iteration 35, loss = 0.00388468\n",
      "Iteration 36, loss = 0.00377404\n",
      "Iteration 37, loss = 0.00366854\n",
      "Iteration 38, loss = 0.00357466\n",
      "Iteration 39, loss = 0.00348645\n",
      "Iteration 40, loss = 0.00340529\n",
      "Iteration 41, loss = 0.00333014\n",
      "Iteration 42, loss = 0.00326088\n",
      "Iteration 43, loss = 0.00319515\n",
      "Iteration 44, loss = 0.00313308\n",
      "Iteration 45, loss = 0.00307639\n",
      "Iteration 46, loss = 0.00302163\n",
      "Iteration 47, loss = 0.00297121\n",
      "Iteration 48, loss = 0.00292240\n",
      "Training loss did not improve more than tol=0.000100 for 10 consecutive epochs. Stopping.\n"
     ]
    },
    {
     "data": {
      "text/plain": [
       "Pipeline(memory=None,\n",
       "         steps=[('tfidfvectorizer',\n",
       "                 TfidfVectorizer(analyzer='word', binary=False,\n",
       "                                 decode_error='strict',\n",
       "                                 dtype=<class 'numpy.float64'>,\n",
       "                                 encoding='utf-8', input='content',\n",
       "                                 lowercase=True, max_df=1.0, max_features=None,\n",
       "                                 min_df=1, ngram_range=(1, 1), norm='l2',\n",
       "                                 preprocessor=None, smooth_idf=True,\n",
       "                                 stop_words=None, strip_accents=None,\n",
       "                                 sublinear_tf=False,\n",
       "                                 token...\n",
       "                               batch_size='auto', beta_1=0.9, beta_2=0.999,\n",
       "                               early_stopping=False, epsilon=1e-08,\n",
       "                               hidden_layer_sizes=(100,),\n",
       "                               learning_rate='constant',\n",
       "                               learning_rate_init=0.001, max_fun=15000,\n",
       "                               max_iter=200, momentum=0.9, n_iter_no_change=10,\n",
       "                               nesterovs_momentum=True, power_t=0.5,\n",
       "                               random_state=None, shuffle=True, solver='adam',\n",
       "                               tol=0.0001, validation_fraction=0.1,\n",
       "                               verbose=True, warm_start=False))],\n",
       "         verbose=False)"
      ]
     },
     "execution_count": 43,
     "metadata": {},
     "output_type": "execute_result"
    }
   ],
   "source": [
    "#run this cell to see all the options for MLPClassifier\n",
    "model = make_pipeline(TfidfVectorizer(), MLPClassifier(verbose=True))\n",
    "model.fit(X_train, y_train)"
   ]
  },
  {
   "cell_type": "code",
   "execution_count": 45,
   "metadata": {},
   "outputs": [],
   "source": [
    "pred_labels = model.predict(X_test)"
   ]
  },
  {
   "cell_type": "markdown",
   "metadata": {},
   "source": [
    "## Part IV - 10 Points"
   ]
  },
  {
   "cell_type": "markdown",
   "metadata": {},
   "source": [
    "(1) Generate and display the confusion matrix of the predictions of your model on the test data as a heatmap plot. \n",
    "\n",
    "(2) Compute and display the microaveraged and macroaveraged F1 scores for the predictions of your model on the test data."
   ]
  },
  {
   "cell_type": "code",
   "execution_count": 46,
   "metadata": {},
   "outputs": [
    {
     "data": {
      "text/plain": [
       "Text(-3.0000000000000018, 0.5, 'predicted label')"
      ]
     },
     "execution_count": 46,
     "metadata": {},
     "output_type": "execute_result"
    },
    {
     "data": {
      "image/png": "[encoded data removed]",
      "text/plain": [
       "<Figure size 144x144 with 1 Axes>"
      ]
     },
     "metadata": {
      "needs_background": "light"
     },
     "output_type": "display_data"
    }
   ],
   "source": [
    "mat = confusion_matrix(y_test, pred_labels)\n",
    "plt.figure(figsize=(2,2))\n",
    "\n",
    "sns.heatmap(mat.T, square=True, annot=True, fmt='d', cbar=False,\n",
    "            xticklabels=np.unique(y_train), yticklabels=np.unique(y_train))\n",
    "\n",
    "plt.xlabel('true label')\n",
    "plt.ylabel('predicted label')"
   ]
  },
  {
   "cell_type": "code",
   "execution_count": 49,
   "metadata": {},
   "outputs": [
    {
     "name": "stdout",
     "output_type": "stream",
     "text": [
      "Microaveraged F1 score: 0.9286613512379354\n",
      "Macroaveraged F1 score: 0.9280340694873424\n"
     ]
    }
   ],
   "source": [
    "print('Microaveraged F1 score:', f1_score(y_test, pred_labels, average='micro'))\n",
    "print('Macroaveraged F1 score:', f1_score(y_test, pred_labels, average='macro'))"
   ]
  },
  {
   "cell_type": "markdown",
   "metadata": {},
   "source": [
    "## Part V - 20 Points"
   ]
  },
  {
   "cell_type": "markdown",
   "metadata": {},
   "source": [
    "Repeat Parts III & IV for 2 neural network architectures different from the one used in Part III. You can vary the number of hidden layers and/or number of hidden units in a layer. Clearly document what kind of architecture you are using through comments. E.g. # 2 hidden layers with 50 units in each layer. Additionally, in one of the architectures, set the learning rate to a value different from the default value. You may also change the default values of other parameters. "
   ]
  },
  {
   "cell_type": "code",
   "execution_count": 52,
   "metadata": {},
   "outputs": [
    {
     "name": "stdout",
     "output_type": "stream",
     "text": [
      "Iteration 1, loss = 1.70434053\n",
      "Iteration 2, loss = 1.10904156\n",
      "Iteration 3, loss = 0.38217089\n",
      "Iteration 4, loss = 0.11639893\n",
      "Iteration 5, loss = 0.04623477\n",
      "Iteration 6, loss = 0.02245701\n",
      "Iteration 7, loss = 0.01253229\n",
      "Iteration 8, loss = 0.00788985\n",
      "Iteration 9, loss = 0.00545992\n",
      "Iteration 10, loss = 0.00402042\n",
      "Iteration 11, loss = 0.00312736\n",
      "Iteration 12, loss = 0.00254530\n",
      "Iteration 13, loss = 0.00212712\n",
      "Iteration 14, loss = 0.00182961\n",
      "Iteration 15, loss = 0.00158721\n",
      "Iteration 16, loss = 0.00137336\n",
      "Iteration 17, loss = 0.00121416\n",
      "Iteration 18, loss = 0.00109255\n",
      "Iteration 19, loss = 0.00100171\n",
      "Iteration 20, loss = 0.00092753\n",
      "Iteration 21, loss = 0.00086706\n",
      "Iteration 22, loss = 0.00081588\n",
      "Iteration 23, loss = 0.00077295\n",
      "Iteration 24, loss = 0.00073652\n",
      "Iteration 25, loss = 0.00070619\n",
      "Iteration 26, loss = 0.00067945\n",
      "Iteration 27, loss = 0.00065618\n",
      "Iteration 28, loss = 0.00063624\n",
      "Iteration 29, loss = 0.00061821\n",
      "Training loss did not improve more than tol=0.000100 for 10 consecutive epochs. Stopping.\n"
     ]
    },
    {
     "data": {
      "text/plain": [
       "Pipeline(memory=None,\n",
       "         steps=[('tfidfvectorizer',\n",
       "                 TfidfVectorizer(analyzer='word', binary=False,\n",
       "                                 decode_error='strict',\n",
       "                                 dtype=<class 'numpy.float64'>,\n",
       "                                 encoding='utf-8', input='content',\n",
       "                                 lowercase=True, max_df=1.0, max_features=None,\n",
       "                                 min_df=1, ngram_range=(1, 1), norm='l2',\n",
       "                                 preprocessor=None, smooth_idf=True,\n",
       "                                 stop_words=None, strip_accents=None,\n",
       "                                 sublinear_tf=False,\n",
       "                                 token...\n",
       "                               batch_size='auto', beta_1=0.9, beta_2=0.999,\n",
       "                               early_stopping=False, epsilon=1e-08,\n",
       "                               hidden_layer_sizes=(50, 25, 50),\n",
       "                               learning_rate='invscaling',\n",
       "                               learning_rate_init=0.001, max_fun=15000,\n",
       "                               max_iter=200, momentum=0.9, n_iter_no_change=10,\n",
       "                               nesterovs_momentum=True, power_t=0.5,\n",
       "                               random_state=None, shuffle=True, solver='adam',\n",
       "                               tol=0.0001, validation_fraction=0.1,\n",
       "                               verbose=True, warm_start=False))],\n",
       "         verbose=False)"
      ]
     },
     "execution_count": 52,
     "metadata": {},
     "output_type": "execute_result"
    }
   ],
   "source": [
    "# 3 hidden layers with 50 neurons in the first, 25 in the second, and 50 in the last and invscaling learning rate\n",
    "#learning_rate = 'invscaling'\n",
    "\n",
    "model2 = make_pipeline(TfidfVectorizer(), MLPClassifier(verbose=True,\n",
    "                                                        hidden_layer_sizes=(50,25,50),\n",
    "                                                       learning_rate='invscaling'))\n",
    "model2.fit(X_train, y_train)"
   ]
  },
  {
   "cell_type": "code",
   "execution_count": 53,
   "metadata": {},
   "outputs": [
    {
     "data": {
      "text/plain": [
       "Text(-3.0000000000000018, 0.5, 'predicted label')"
      ]
     },
     "execution_count": 53,
     "metadata": {},
     "output_type": "execute_result"
    },
    {
     "data": {
      "image/png": "[encoded data removed]",
      "text/plain": [
       "<Figure size 144x144 with 1 Axes>"
      ]
     },
     "metadata": {
      "needs_background": "light"
     },
     "output_type": "display_data"
    }
   ],
   "source": [
    "pred_labels2 = model2.predict(X_test)\n",
    "mat2 = confusion_matrix(y_test, pred_labels2)\n",
    "plt.figure(figsize=(2,2))\n",
    "\n",
    "sns.heatmap(mat2.T, square=True, annot=True, fmt='d', cbar=False,\n",
    "            xticklabels=np.unique(y_train), yticklabels=np.unique(y_train))\n",
    "\n",
    "plt.xlabel('true label')\n",
    "plt.ylabel('predicted label')"
   ]
  },
  {
   "cell_type": "code",
   "execution_count": 54,
   "metadata": {},
   "outputs": [
    {
     "name": "stdout",
     "output_type": "stream",
     "text": [
      "Microaveraged F1 score for new model: 0.9181703734788083\n",
      "Macroaveraged F1 score for new model: 0.9171782152966381\n"
     ]
    }
   ],
   "source": [
    "print('Microaveraged F1 score for new model:', f1_score(y_test, pred_labels2, average='micro'))\n",
    "print('Macroaveraged F1 score for new model:', f1_score(y_test, pred_labels2, average='macro'))"
   ]
  },
  {
   "cell_type": "markdown",
   "metadata": {},
   "source": [
    "## Part VI - 25 Points"
   ]
  },
  {
   "cell_type": "markdown",
   "metadata": {},
   "source": [
    "Repeat Parts III & IV with word embeddings as input to the model instead of TF_IDF scores. You will have to change the set up of your experiment to do this. \n",
    "\n",
    "You may use the code below to build an input matrix of embedding vectors. calc_doc_embedding is a function from Homework 3.\n",
    "\n",
    "X_train_embed = np.vstack([calc_doc_embedding(doc, wv, 100, OOV_embed) for doc in X_train])\n",
    "\n",
    "What do you notice about training the model with embeddings? Can you easily scale to larger architectures with embeddings as compared to Part III? Describe your observations in Part VIII. \n",
    "\n",
    "Try to scale to a large architecture (3-4 layers) in this part of the assignment. You need to show your results for 1 architecture only. "
   ]
  },
  {
   "cell_type": "code",
   "execution_count": 56,
   "metadata": {},
   "outputs": [
    {
     "data": {
      "text/plain": [
       "(400001, 100)"
      ]
     },
     "execution_count": 56,
     "metadata": {},
     "output_type": "execute_result"
    }
   ],
   "source": [
    "glove_file = datapath('/Users/yanivbronshtein/Coding/Rutgers/NLP_Rutgers_Repo/data/HW4_data/glove.6B.100d.txt')\n",
    "word2vec_text_file = get_tmpfile(\"glove.6B.100d.txt\")\n",
    "glove2word2vec(glove_file, word2vec_text_file)"
   ]
  },
  {
   "cell_type": "code",
   "execution_count": 57,
   "metadata": {},
   "outputs": [],
   "source": [
    "wv = KeyedVectors.load_word2vec_format(word2vec_text_file)"
   ]
  },
  {
   "cell_type": "code",
   "execution_count": 59,
   "metadata": {},
   "outputs": [],
   "source": [
    "def calc_doc_embedding(doc, embeddings, embed_size, OOV_embed):\n",
    "    word_count = 0\n",
    "    doc_embed = np.zeros(embed_size, dtype=float)\n",
    "    \n",
    "    for word in doc.split():\n",
    "        if word not in stopset:\n",
    "            if word in embeddings:\n",
    "                word_embedding = embeddings[word]                \n",
    "            elif word in OOV_embed:\n",
    "                word_embedding = OOV_embed[word]                \n",
    "            else:\n",
    "                word_embedding = np.random.random(embed_size)\n",
    "                OOV_embed[word] = word_embedding\n",
    "                \n",
    "            doc_embed += word_embedding\n",
    "            word_count += 1\n",
    "            \n",
    "    doc_embed /= word_count\n",
    "    return doc_embed"
   ]
  },
  {
   "cell_type": "code",
   "execution_count": 60,
   "metadata": {},
   "outputs": [],
   "source": [
    "OOV_embed = {}\n",
    "X_train_embed = np.vstack([calc_doc_embedding(doc, wv, 100, OOV_embed) for doc in X_train])\n",
    "X_test_embed = np.vstack([calc_doc_embedding(doc, wv, 100, OOV_embed) for doc in X_test])"
   ]
  },
  {
   "cell_type": "code",
   "execution_count": 61,
   "metadata": {},
   "outputs": [
    {
     "name": "stdout",
     "output_type": "stream",
     "text": [
      "Iteration 1, loss = 1.47299969\n",
      "Iteration 2, loss = 0.90143784\n",
      "Iteration 3, loss = 0.63986089\n",
      "Iteration 4, loss = 0.52705400\n",
      "Iteration 5, loss = 0.47094359\n",
      "Iteration 6, loss = 0.43582511\n",
      "Iteration 7, loss = 0.41537712\n",
      "Iteration 8, loss = 0.39871411\n",
      "Iteration 9, loss = 0.38861706\n",
      "Iteration 10, loss = 0.37856380\n",
      "Iteration 11, loss = 0.37305563\n",
      "Iteration 12, loss = 0.36686066\n",
      "Iteration 13, loss = 0.36085789\n",
      "Iteration 14, loss = 0.35608485\n",
      "Iteration 15, loss = 0.35079016\n",
      "Iteration 16, loss = 0.34776993\n",
      "Iteration 17, loss = 0.34553592\n",
      "Iteration 18, loss = 0.34110899\n",
      "Iteration 19, loss = 0.33887475\n",
      "Iteration 20, loss = 0.33750646\n",
      "Iteration 21, loss = 0.33377555\n",
      "Iteration 22, loss = 0.32998053\n",
      "Iteration 23, loss = 0.33054432\n",
      "Iteration 24, loss = 0.32620365\n",
      "Iteration 25, loss = 0.32507508\n",
      "Iteration 26, loss = 0.32338190\n",
      "Iteration 27, loss = 0.32136909\n",
      "Iteration 28, loss = 0.31991274\n",
      "Iteration 29, loss = 0.31700284\n",
      "Iteration 30, loss = 0.31559167\n",
      "Iteration 31, loss = 0.31251006\n",
      "Iteration 32, loss = 0.31184082\n",
      "Iteration 33, loss = 0.30905254\n",
      "Iteration 34, loss = 0.30901367\n",
      "Iteration 35, loss = 0.30571098\n",
      "Iteration 36, loss = 0.30454142\n",
      "Iteration 37, loss = 0.30444616\n",
      "Iteration 38, loss = 0.30238176\n",
      "Iteration 39, loss = 0.29877772\n",
      "Iteration 40, loss = 0.30036252\n",
      "Iteration 41, loss = 0.29695488\n",
      "Iteration 42, loss = 0.29584331\n",
      "Iteration 43, loss = 0.29340724\n",
      "Iteration 44, loss = 0.29095936\n",
      "Iteration 45, loss = 0.28951963\n",
      "Iteration 46, loss = 0.28827457\n",
      "Iteration 47, loss = 0.28763233\n",
      "Iteration 48, loss = 0.28608538\n",
      "Iteration 49, loss = 0.28573225\n",
      "Iteration 50, loss = 0.28422720\n",
      "Iteration 51, loss = 0.28230885\n",
      "Iteration 52, loss = 0.27938144\n",
      "Iteration 53, loss = 0.27944762\n",
      "Iteration 54, loss = 0.27750253\n",
      "Iteration 55, loss = 0.27725714\n",
      "Iteration 56, loss = 0.27424797\n",
      "Iteration 57, loss = 0.27484294\n",
      "Iteration 58, loss = 0.27209869\n",
      "Iteration 59, loss = 0.26871661\n",
      "Iteration 60, loss = 0.26755561\n",
      "Iteration 61, loss = 0.26556113\n",
      "Iteration 62, loss = 0.26469350\n",
      "Iteration 63, loss = 0.26353058\n",
      "Iteration 64, loss = 0.26270523\n",
      "Iteration 65, loss = 0.26035300\n",
      "Iteration 66, loss = 0.25859910\n",
      "Iteration 67, loss = 0.25939721\n",
      "Iteration 68, loss = 0.25780515\n",
      "Iteration 69, loss = 0.25599548\n",
      "Iteration 70, loss = 0.25476190\n",
      "Iteration 71, loss = 0.25474374\n",
      "Iteration 72, loss = 0.25353547\n",
      "Iteration 73, loss = 0.25140390\n",
      "Iteration 74, loss = 0.25119791\n",
      "Iteration 75, loss = 0.24991113\n",
      "Iteration 76, loss = 0.24625255\n",
      "Iteration 77, loss = 0.24536708\n",
      "Iteration 78, loss = 0.24310921\n",
      "Iteration 79, loss = 0.24265048\n",
      "Iteration 80, loss = 0.24204918\n",
      "Iteration 81, loss = 0.23916468\n",
      "Iteration 82, loss = 0.23777762\n",
      "Iteration 83, loss = 0.23736600\n",
      "Iteration 84, loss = 0.23635108\n",
      "Iteration 85, loss = 0.23468341\n",
      "Iteration 86, loss = 0.23391536\n",
      "Iteration 87, loss = 0.23316937\n",
      "Iteration 88, loss = 0.23264150\n",
      "Iteration 89, loss = 0.22966652\n",
      "Iteration 90, loss = 0.22788114\n",
      "Iteration 91, loss = 0.22756408\n",
      "Iteration 92, loss = 0.22619371\n",
      "Iteration 93, loss = 0.22479630\n",
      "Iteration 94, loss = 0.22472444\n",
      "Iteration 95, loss = 0.22212920\n",
      "Iteration 96, loss = 0.22183386\n",
      "Iteration 97, loss = 0.21834219\n",
      "Iteration 98, loss = 0.21969641\n",
      "Iteration 99, loss = 0.21781931\n",
      "Iteration 100, loss = 0.21876706\n",
      "Iteration 101, loss = 0.21598280\n",
      "Iteration 102, loss = 0.21440757\n",
      "Iteration 103, loss = 0.21217685\n",
      "Iteration 104, loss = 0.21118642\n",
      "Iteration 105, loss = 0.21096772\n",
      "Iteration 106, loss = 0.20928987\n",
      "Iteration 107, loss = 0.21024029\n",
      "Iteration 108, loss = 0.20678714\n",
      "Iteration 109, loss = 0.20793529\n",
      "Iteration 110, loss = 0.20491973\n",
      "Iteration 111, loss = 0.20542492\n",
      "Iteration 112, loss = 0.20198460\n",
      "Iteration 113, loss = 0.20189646\n",
      "Iteration 114, loss = 0.20015864\n",
      "Iteration 115, loss = 0.20064938\n",
      "Iteration 116, loss = 0.19822187\n",
      "Iteration 117, loss = 0.19721249\n",
      "Iteration 118, loss = 0.19566804\n",
      "Iteration 119, loss = 0.19849620\n",
      "Iteration 120, loss = 0.19377167\n",
      "Iteration 121, loss = 0.19227220\n",
      "Iteration 122, loss = 0.19377313\n",
      "Iteration 123, loss = 0.19314502\n",
      "Iteration 124, loss = 0.19005607\n",
      "Iteration 125, loss = 0.19160927\n",
      "Iteration 126, loss = 0.18755007\n",
      "Iteration 127, loss = 0.18707849\n",
      "Iteration 128, loss = 0.18710371\n",
      "Iteration 129, loss = 0.18587397\n",
      "Iteration 130, loss = 0.18553522\n",
      "Iteration 131, loss = 0.18627405\n",
      "Iteration 132, loss = 0.18309956\n",
      "Iteration 133, loss = 0.18276534\n",
      "Iteration 134, loss = 0.17981035\n",
      "Iteration 135, loss = 0.18014103\n",
      "Iteration 136, loss = 0.17895406\n",
      "Iteration 137, loss = 0.17824647\n",
      "Iteration 138, loss = 0.17584572\n",
      "Iteration 139, loss = 0.17563600\n",
      "Iteration 140, loss = 0.17584170\n",
      "Iteration 141, loss = 0.17405204\n",
      "Iteration 142, loss = 0.17206794\n",
      "Iteration 143, loss = 0.17140133\n",
      "Iteration 144, loss = 0.17042617\n",
      "Iteration 145, loss = 0.17165485\n",
      "Iteration 146, loss = 0.16876665\n",
      "Iteration 147, loss = 0.16936429\n",
      "Iteration 148, loss = 0.16707140\n",
      "Iteration 149, loss = 0.16656511\n",
      "Iteration 150, loss = 0.16621909\n",
      "Iteration 151, loss = 0.16253063\n",
      "Iteration 152, loss = 0.16238208\n",
      "Iteration 153, loss = 0.16450797\n",
      "Iteration 154, loss = 0.16189413\n",
      "Iteration 155, loss = 0.16073902\n",
      "Iteration 156, loss = 0.15921527\n",
      "Iteration 157, loss = 0.15781336\n",
      "Iteration 158, loss = 0.16066540\n",
      "Iteration 159, loss = 0.15730947\n",
      "Iteration 160, loss = 0.15607611\n",
      "Iteration 161, loss = 0.15478735\n",
      "Iteration 162, loss = 0.15419303\n",
      "Iteration 163, loss = 0.15426594\n",
      "Iteration 164, loss = 0.15214556\n",
      "Iteration 165, loss = 0.15250742\n",
      "Iteration 166, loss = 0.15304626\n",
      "Iteration 167, loss = 0.14896405\n",
      "Iteration 168, loss = 0.14975894\n",
      "Iteration 169, loss = 0.14896538\n",
      "Iteration 170, loss = 0.14699000\n",
      "Iteration 171, loss = 0.14784725\n",
      "Iteration 172, loss = 0.14639232\n",
      "Iteration 173, loss = 0.14404866\n",
      "Iteration 174, loss = 0.14475080\n",
      "Iteration 175, loss = 0.14293735\n",
      "Iteration 176, loss = 0.14135347\n",
      "Iteration 177, loss = 0.14127364\n",
      "Iteration 178, loss = 0.13996785\n",
      "Iteration 179, loss = 0.14038758\n",
      "Iteration 180, loss = 0.13901766\n",
      "Iteration 181, loss = 0.13787666\n",
      "Iteration 182, loss = 0.13857796\n",
      "Iteration 183, loss = 0.13554572\n",
      "Iteration 184, loss = 0.13395555\n",
      "Iteration 185, loss = 0.13570222\n",
      "Iteration 186, loss = 0.13651251\n",
      "Iteration 187, loss = 0.13256793\n",
      "Iteration 188, loss = 0.13117369\n",
      "Iteration 189, loss = 0.13192718\n",
      "Iteration 190, loss = 0.12989333\n",
      "Iteration 191, loss = 0.12893069\n",
      "Iteration 192, loss = 0.12897589\n",
      "Iteration 193, loss = 0.12825066\n",
      "Iteration 194, loss = 0.12880861\n",
      "Iteration 195, loss = 0.12624121\n",
      "Iteration 196, loss = 0.12675109\n",
      "Iteration 197, loss = 0.12432020\n",
      "Iteration 198, loss = 0.12785254\n",
      "Iteration 199, loss = 0.12376924\n",
      "Iteration 200, loss = 0.12310242\n"
     ]
    },
    {
     "ename": "AttributeError",
     "evalue": "'numpy.ndarray' object has no attribute 'lower'",
     "output_type": "error",
     "traceback": [
      "\u001b[0;31m---------------------------------------------------------------------------\u001b[0m",
      "\u001b[0;31mAttributeError\u001b[0m                            Traceback (most recent call last)",
      "\u001b[0;32m<ipython-input-61-17ebef70e143>\u001b[0m in \u001b[0;36m<module>\u001b[0;34m\u001b[0m\n\u001b[1;32m      1\u001b[0m \u001b[0mmodel3\u001b[0m \u001b[0;34m=\u001b[0m \u001b[0mMLPClassifier\u001b[0m\u001b[0;34m(\u001b[0m\u001b[0mverbose\u001b[0m\u001b[0;34m=\u001b[0m\u001b[0;32mTrue\u001b[0m\u001b[0;34m)\u001b[0m \u001b[0;31m# 1 hidden layer with 100 units\u001b[0m\u001b[0;34m\u001b[0m\u001b[0;34m\u001b[0m\u001b[0m\n\u001b[1;32m      2\u001b[0m \u001b[0mmodel3\u001b[0m\u001b[0;34m.\u001b[0m\u001b[0mfit\u001b[0m\u001b[0;34m(\u001b[0m\u001b[0mX_train_embed\u001b[0m\u001b[0;34m,\u001b[0m \u001b[0my_train\u001b[0m\u001b[0;34m)\u001b[0m\u001b[0;34m;\u001b[0m\u001b[0;34m\u001b[0m\u001b[0;34m\u001b[0m\u001b[0m\n\u001b[0;32m----> 3\u001b[0;31m \u001b[0mpred_labels3\u001b[0m \u001b[0;34m=\u001b[0m \u001b[0mmodel\u001b[0m\u001b[0;34m.\u001b[0m\u001b[0mpredict\u001b[0m\u001b[0;34m(\u001b[0m\u001b[0mX_test_embed\u001b[0m\u001b[0;34m)\u001b[0m\u001b[0;34m\u001b[0m\u001b[0;34m\u001b[0m\u001b[0m\n\u001b[0m",
      "\u001b[0;32m~/opt/anaconda3/lib/python3.7/site-packages/sklearn/utils/metaestimators.py\u001b[0m in \u001b[0;36m<lambda>\u001b[0;34m(*args, **kwargs)\u001b[0m\n\u001b[1;32m    114\u001b[0m \u001b[0;34m\u001b[0m\u001b[0m\n\u001b[1;32m    115\u001b[0m         \u001b[0;31m# lambda, but not partial, allows help() to work with update_wrapper\u001b[0m\u001b[0;34m\u001b[0m\u001b[0;34m\u001b[0m\u001b[0;34m\u001b[0m\u001b[0m\n\u001b[0;32m--> 116\u001b[0;31m         \u001b[0mout\u001b[0m \u001b[0;34m=\u001b[0m \u001b[0;32mlambda\u001b[0m \u001b[0;34m*\u001b[0m\u001b[0margs\u001b[0m\u001b[0;34m,\u001b[0m \u001b[0;34m**\u001b[0m\u001b[0mkwargs\u001b[0m\u001b[0;34m:\u001b[0m \u001b[0mself\u001b[0m\u001b[0;34m.\u001b[0m\u001b[0mfn\u001b[0m\u001b[0;34m(\u001b[0m\u001b[0mobj\u001b[0m\u001b[0;34m,\u001b[0m \u001b[0;34m*\u001b[0m\u001b[0margs\u001b[0m\u001b[0;34m,\u001b[0m \u001b[0;34m**\u001b[0m\u001b[0mkwargs\u001b[0m\u001b[0;34m)\u001b[0m\u001b[0;34m\u001b[0m\u001b[0;34m\u001b[0m\u001b[0m\n\u001b[0m\u001b[1;32m    117\u001b[0m         \u001b[0;31m# update the docstring of the returned function\u001b[0m\u001b[0;34m\u001b[0m\u001b[0;34m\u001b[0m\u001b[0;34m\u001b[0m\u001b[0m\n\u001b[1;32m    118\u001b[0m         \u001b[0mupdate_wrapper\u001b[0m\u001b[0;34m(\u001b[0m\u001b[0mout\u001b[0m\u001b[0;34m,\u001b[0m \u001b[0mself\u001b[0m\u001b[0;34m.\u001b[0m\u001b[0mfn\u001b[0m\u001b[0;34m)\u001b[0m\u001b[0;34m\u001b[0m\u001b[0;34m\u001b[0m\u001b[0m\n",
      "\u001b[0;32m~/opt/anaconda3/lib/python3.7/site-packages/sklearn/pipeline.py\u001b[0m in \u001b[0;36mpredict\u001b[0;34m(self, X, **predict_params)\u001b[0m\n\u001b[1;32m    417\u001b[0m         \u001b[0mXt\u001b[0m \u001b[0;34m=\u001b[0m \u001b[0mX\u001b[0m\u001b[0;34m\u001b[0m\u001b[0;34m\u001b[0m\u001b[0m\n\u001b[1;32m    418\u001b[0m         \u001b[0;32mfor\u001b[0m \u001b[0m_\u001b[0m\u001b[0;34m,\u001b[0m \u001b[0mname\u001b[0m\u001b[0;34m,\u001b[0m \u001b[0mtransform\u001b[0m \u001b[0;32min\u001b[0m \u001b[0mself\u001b[0m\u001b[0;34m.\u001b[0m\u001b[0m_iter\u001b[0m\u001b[0;34m(\u001b[0m\u001b[0mwith_final\u001b[0m\u001b[0;34m=\u001b[0m\u001b[0;32mFalse\u001b[0m\u001b[0;34m)\u001b[0m\u001b[0;34m:\u001b[0m\u001b[0;34m\u001b[0m\u001b[0;34m\u001b[0m\u001b[0m\n\u001b[0;32m--> 419\u001b[0;31m             \u001b[0mXt\u001b[0m \u001b[0;34m=\u001b[0m \u001b[0mtransform\u001b[0m\u001b[0;34m.\u001b[0m\u001b[0mtransform\u001b[0m\u001b[0;34m(\u001b[0m\u001b[0mXt\u001b[0m\u001b[0;34m)\u001b[0m\u001b[0;34m\u001b[0m\u001b[0;34m\u001b[0m\u001b[0m\n\u001b[0m\u001b[1;32m    420\u001b[0m         \u001b[0;32mreturn\u001b[0m \u001b[0mself\u001b[0m\u001b[0;34m.\u001b[0m\u001b[0msteps\u001b[0m\u001b[0;34m[\u001b[0m\u001b[0;34m-\u001b[0m\u001b[0;36m1\u001b[0m\u001b[0;34m]\u001b[0m\u001b[0;34m[\u001b[0m\u001b[0;34m-\u001b[0m\u001b[0;36m1\u001b[0m\u001b[0;34m]\u001b[0m\u001b[0;34m.\u001b[0m\u001b[0mpredict\u001b[0m\u001b[0;34m(\u001b[0m\u001b[0mXt\u001b[0m\u001b[0;34m,\u001b[0m \u001b[0;34m**\u001b[0m\u001b[0mpredict_params\u001b[0m\u001b[0;34m)\u001b[0m\u001b[0;34m\u001b[0m\u001b[0;34m\u001b[0m\u001b[0m\n\u001b[1;32m    421\u001b[0m \u001b[0;34m\u001b[0m\u001b[0m\n",
      "\u001b[0;32m~/opt/anaconda3/lib/python3.7/site-packages/sklearn/feature_extraction/text.py\u001b[0m in \u001b[0;36mtransform\u001b[0;34m(self, raw_documents, copy)\u001b[0m\n\u001b[1;32m   1896\u001b[0m                    \"be removed in 0.24.\")\n\u001b[1;32m   1897\u001b[0m             \u001b[0mwarnings\u001b[0m\u001b[0;34m.\u001b[0m\u001b[0mwarn\u001b[0m\u001b[0;34m(\u001b[0m\u001b[0mmsg\u001b[0m\u001b[0;34m,\u001b[0m \u001b[0mFutureWarning\u001b[0m\u001b[0;34m)\u001b[0m\u001b[0;34m\u001b[0m\u001b[0;34m\u001b[0m\u001b[0m\n\u001b[0;32m-> 1898\u001b[0;31m         \u001b[0mX\u001b[0m \u001b[0;34m=\u001b[0m \u001b[0msuper\u001b[0m\u001b[0;34m(\u001b[0m\u001b[0;34m)\u001b[0m\u001b[0;34m.\u001b[0m\u001b[0mtransform\u001b[0m\u001b[0;34m(\u001b[0m\u001b[0mraw_documents\u001b[0m\u001b[0;34m)\u001b[0m\u001b[0;34m\u001b[0m\u001b[0;34m\u001b[0m\u001b[0m\n\u001b[0m\u001b[1;32m   1899\u001b[0m         \u001b[0;32mreturn\u001b[0m \u001b[0mself\u001b[0m\u001b[0;34m.\u001b[0m\u001b[0m_tfidf\u001b[0m\u001b[0;34m.\u001b[0m\u001b[0mtransform\u001b[0m\u001b[0;34m(\u001b[0m\u001b[0mX\u001b[0m\u001b[0;34m,\u001b[0m \u001b[0mcopy\u001b[0m\u001b[0;34m=\u001b[0m\u001b[0;32mFalse\u001b[0m\u001b[0;34m)\u001b[0m\u001b[0;34m\u001b[0m\u001b[0;34m\u001b[0m\u001b[0m\n\u001b[1;32m   1900\u001b[0m \u001b[0;34m\u001b[0m\u001b[0m\n",
      "\u001b[0;32m~/opt/anaconda3/lib/python3.7/site-packages/sklearn/feature_extraction/text.py\u001b[0m in \u001b[0;36mtransform\u001b[0;34m(self, raw_documents)\u001b[0m\n\u001b[1;32m   1268\u001b[0m \u001b[0;34m\u001b[0m\u001b[0m\n\u001b[1;32m   1269\u001b[0m         \u001b[0;31m# use the same matrix-building strategy as fit_transform\u001b[0m\u001b[0;34m\u001b[0m\u001b[0;34m\u001b[0m\u001b[0;34m\u001b[0m\u001b[0m\n\u001b[0;32m-> 1270\u001b[0;31m         \u001b[0m_\u001b[0m\u001b[0;34m,\u001b[0m \u001b[0mX\u001b[0m \u001b[0;34m=\u001b[0m \u001b[0mself\u001b[0m\u001b[0;34m.\u001b[0m\u001b[0m_count_vocab\u001b[0m\u001b[0;34m(\u001b[0m\u001b[0mraw_documents\u001b[0m\u001b[0;34m,\u001b[0m \u001b[0mfixed_vocab\u001b[0m\u001b[0;34m=\u001b[0m\u001b[0;32mTrue\u001b[0m\u001b[0;34m)\u001b[0m\u001b[0;34m\u001b[0m\u001b[0;34m\u001b[0m\u001b[0m\n\u001b[0m\u001b[1;32m   1271\u001b[0m         \u001b[0;32mif\u001b[0m \u001b[0mself\u001b[0m\u001b[0;34m.\u001b[0m\u001b[0mbinary\u001b[0m\u001b[0;34m:\u001b[0m\u001b[0;34m\u001b[0m\u001b[0;34m\u001b[0m\u001b[0m\n\u001b[1;32m   1272\u001b[0m             \u001b[0mX\u001b[0m\u001b[0;34m.\u001b[0m\u001b[0mdata\u001b[0m\u001b[0;34m.\u001b[0m\u001b[0mfill\u001b[0m\u001b[0;34m(\u001b[0m\u001b[0;36m1\u001b[0m\u001b[0;34m)\u001b[0m\u001b[0;34m\u001b[0m\u001b[0;34m\u001b[0m\u001b[0m\n",
      "\u001b[0;32m~/opt/anaconda3/lib/python3.7/site-packages/sklearn/feature_extraction/text.py\u001b[0m in \u001b[0;36m_count_vocab\u001b[0;34m(self, raw_documents, fixed_vocab)\u001b[0m\n\u001b[1;32m   1129\u001b[0m         \u001b[0;32mfor\u001b[0m \u001b[0mdoc\u001b[0m \u001b[0;32min\u001b[0m \u001b[0mraw_documents\u001b[0m\u001b[0;34m:\u001b[0m\u001b[0;34m\u001b[0m\u001b[0;34m\u001b[0m\u001b[0m\n\u001b[1;32m   1130\u001b[0m             \u001b[0mfeature_counter\u001b[0m \u001b[0;34m=\u001b[0m \u001b[0;34m{\u001b[0m\u001b[0;34m}\u001b[0m\u001b[0;34m\u001b[0m\u001b[0;34m\u001b[0m\u001b[0m\n\u001b[0;32m-> 1131\u001b[0;31m             \u001b[0;32mfor\u001b[0m \u001b[0mfeature\u001b[0m \u001b[0;32min\u001b[0m \u001b[0manalyze\u001b[0m\u001b[0;34m(\u001b[0m\u001b[0mdoc\u001b[0m\u001b[0;34m)\u001b[0m\u001b[0;34m:\u001b[0m\u001b[0;34m\u001b[0m\u001b[0;34m\u001b[0m\u001b[0m\n\u001b[0m\u001b[1;32m   1132\u001b[0m                 \u001b[0;32mtry\u001b[0m\u001b[0;34m:\u001b[0m\u001b[0;34m\u001b[0m\u001b[0;34m\u001b[0m\u001b[0m\n\u001b[1;32m   1133\u001b[0m                     \u001b[0mfeature_idx\u001b[0m \u001b[0;34m=\u001b[0m \u001b[0mvocabulary\u001b[0m\u001b[0;34m[\u001b[0m\u001b[0mfeature\u001b[0m\u001b[0;34m]\u001b[0m\u001b[0;34m\u001b[0m\u001b[0;34m\u001b[0m\u001b[0m\n",
      "\u001b[0;32m~/opt/anaconda3/lib/python3.7/site-packages/sklearn/feature_extraction/text.py\u001b[0m in \u001b[0;36m_analyze\u001b[0;34m(doc, analyzer, tokenizer, ngrams, preprocessor, decoder, stop_words)\u001b[0m\n\u001b[1;32m    101\u001b[0m     \u001b[0;32melse\u001b[0m\u001b[0;34m:\u001b[0m\u001b[0;34m\u001b[0m\u001b[0;34m\u001b[0m\u001b[0m\n\u001b[1;32m    102\u001b[0m         \u001b[0;32mif\u001b[0m \u001b[0mpreprocessor\u001b[0m \u001b[0;32mis\u001b[0m \u001b[0;32mnot\u001b[0m \u001b[0;32mNone\u001b[0m\u001b[0;34m:\u001b[0m\u001b[0;34m\u001b[0m\u001b[0;34m\u001b[0m\u001b[0m\n\u001b[0;32m--> 103\u001b[0;31m             \u001b[0mdoc\u001b[0m \u001b[0;34m=\u001b[0m \u001b[0mpreprocessor\u001b[0m\u001b[0;34m(\u001b[0m\u001b[0mdoc\u001b[0m\u001b[0;34m)\u001b[0m\u001b[0;34m\u001b[0m\u001b[0;34m\u001b[0m\u001b[0m\n\u001b[0m\u001b[1;32m    104\u001b[0m         \u001b[0;32mif\u001b[0m \u001b[0mtokenizer\u001b[0m \u001b[0;32mis\u001b[0m \u001b[0;32mnot\u001b[0m \u001b[0;32mNone\u001b[0m\u001b[0;34m:\u001b[0m\u001b[0;34m\u001b[0m\u001b[0;34m\u001b[0m\u001b[0m\n\u001b[1;32m    105\u001b[0m             \u001b[0mdoc\u001b[0m \u001b[0;34m=\u001b[0m \u001b[0mtokenizer\u001b[0m\u001b[0;34m(\u001b[0m\u001b[0mdoc\u001b[0m\u001b[0;34m)\u001b[0m\u001b[0;34m\u001b[0m\u001b[0;34m\u001b[0m\u001b[0m\n",
      "\u001b[0;32m~/opt/anaconda3/lib/python3.7/site-packages/sklearn/feature_extraction/text.py\u001b[0m in \u001b[0;36m_preprocess\u001b[0;34m(doc, accent_function, lower)\u001b[0m\n\u001b[1;32m     66\u001b[0m     \"\"\"\n\u001b[1;32m     67\u001b[0m     \u001b[0;32mif\u001b[0m \u001b[0mlower\u001b[0m\u001b[0;34m:\u001b[0m\u001b[0;34m\u001b[0m\u001b[0;34m\u001b[0m\u001b[0m\n\u001b[0;32m---> 68\u001b[0;31m         \u001b[0mdoc\u001b[0m \u001b[0;34m=\u001b[0m \u001b[0mdoc\u001b[0m\u001b[0;34m.\u001b[0m\u001b[0mlower\u001b[0m\u001b[0;34m(\u001b[0m\u001b[0;34m)\u001b[0m\u001b[0;34m\u001b[0m\u001b[0;34m\u001b[0m\u001b[0m\n\u001b[0m\u001b[1;32m     69\u001b[0m     \u001b[0;32mif\u001b[0m \u001b[0maccent_function\u001b[0m \u001b[0;32mis\u001b[0m \u001b[0;32mnot\u001b[0m \u001b[0;32mNone\u001b[0m\u001b[0;34m:\u001b[0m\u001b[0;34m\u001b[0m\u001b[0;34m\u001b[0m\u001b[0m\n\u001b[1;32m     70\u001b[0m         \u001b[0mdoc\u001b[0m \u001b[0;34m=\u001b[0m \u001b[0maccent_function\u001b[0m\u001b[0;34m(\u001b[0m\u001b[0mdoc\u001b[0m\u001b[0;34m)\u001b[0m\u001b[0;34m\u001b[0m\u001b[0;34m\u001b[0m\u001b[0m\n",
      "\u001b[0;31mAttributeError\u001b[0m: 'numpy.ndarray' object has no attribute 'lower'"
     ]
    }
   ],
   "source": [
    "model3 = MLPClassifier(verbose=True) # 1 hidden layer with 100 units\n",
    "model3.fit(X_train_embed, y_train)\n"
   ]
  },
  {
   "cell_type": "code",
   "execution_count": 64,
   "metadata": {},
   "outputs": [],
   "source": [
    "pred_labels3 = model3.predict(X_test_embed)"
   ]
  },
  {
   "cell_type": "code",
   "execution_count": 65,
   "metadata": {},
   "outputs": [
    {
     "data": {
      "text/plain": [
       "Text(-3.0000000000000018, 0.5, 'predicted label')"
      ]
     },
     "execution_count": 65,
     "metadata": {},
     "output_type": "execute_result"
    },
    {
     "data": {
      "image/png": "[encoded data removed]",
      "text/plain": [
       "<Figure size 144x144 with 1 Axes>"
      ]
     },
     "metadata": {
      "needs_background": "light"
     },
     "output_type": "display_data"
    }
   ],
   "source": [
    "mat3 = confusion_matrix(y_test, pred_labels3)\n",
    "plt.figure(figsize=(2,2))\n",
    "\n",
    "sns.heatmap(mat.T, square=True, annot=True, fmt='d', cbar=False,\n",
    "            xticklabels=np.unique(y_train), yticklabels=np.unique(y_train))\n",
    "\n",
    "plt.xlabel('true label')\n",
    "plt.ylabel('predicted label')"
   ]
  },
  {
   "cell_type": "code",
   "execution_count": 66,
   "metadata": {},
   "outputs": [
    {
     "name": "stdout",
     "output_type": "stream",
     "text": [
      "Microaveraged F1 score for third model using word embeddings: 0.8913134704154427\n",
      "Macroaveraged F1 score for third model using word embeddings:: 0.8901698190102388\n"
     ]
    }
   ],
   "source": [
    "print('Microaveraged F1 score for third model using word embeddings:', f1_score(y_test, pred_labels3, average='micro'))\n",
    "print('Macroaveraged F1 score for third model using word embeddings::', f1_score(y_test, pred_labels3, average='macro'))"
   ]
  },
  {
   "cell_type": "code",
   "execution_count": 67,
   "metadata": {},
   "outputs": [
    {
     "name": "stdout",
     "output_type": "stream",
     "text": [
      "Iteration 1, loss = 1.17842317\n",
      "Iteration 2, loss = 0.48392061\n",
      "Iteration 3, loss = 0.40469536\n",
      "Iteration 4, loss = 0.36857154\n",
      "Iteration 5, loss = 0.34980336\n",
      "Iteration 6, loss = 0.34390229\n",
      "Iteration 7, loss = 0.34345972\n",
      "Iteration 8, loss = 0.32298063\n",
      "Iteration 9, loss = 0.31072979\n",
      "Iteration 10, loss = 0.30852660\n",
      "Iteration 11, loss = 0.30936505\n",
      "Iteration 12, loss = 0.29009161\n",
      "Iteration 13, loss = 0.28059565\n",
      "Iteration 14, loss = 0.28327058\n",
      "Iteration 15, loss = 0.26790010\n",
      "Iteration 16, loss = 0.25651981\n",
      "Iteration 17, loss = 0.25443526\n",
      "Iteration 18, loss = 0.24661034\n",
      "Iteration 19, loss = 0.23775478\n",
      "Iteration 20, loss = 0.23555579\n",
      "Iteration 21, loss = 0.22183431\n",
      "Iteration 22, loss = 0.22512034\n",
      "Iteration 23, loss = 0.20887339\n",
      "Iteration 24, loss = 0.20286370\n",
      "Iteration 25, loss = 0.19944056\n",
      "Iteration 26, loss = 0.19071532\n",
      "Iteration 27, loss = 0.18321493\n",
      "Iteration 28, loss = 0.16681465\n",
      "Iteration 29, loss = 0.17136119\n",
      "Iteration 30, loss = 0.16534914\n",
      "Iteration 31, loss = 0.16418167\n",
      "Iteration 32, loss = 0.14573868\n",
      "Iteration 33, loss = 0.13884028\n",
      "Iteration 34, loss = 0.13290765\n",
      "Iteration 35, loss = 0.12767968\n",
      "Iteration 36, loss = 0.12777356\n",
      "Iteration 37, loss = 0.11116791\n",
      "Iteration 38, loss = 0.11747447\n",
      "Iteration 39, loss = 0.10654565\n",
      "Iteration 40, loss = 0.09410446\n",
      "Iteration 41, loss = 0.09755250\n",
      "Iteration 42, loss = 0.08600990\n",
      "Iteration 43, loss = 0.08273665\n",
      "Iteration 44, loss = 0.07862049\n",
      "Iteration 45, loss = 0.07888013\n",
      "Iteration 46, loss = 0.06255652\n",
      "Iteration 47, loss = 0.06608547\n",
      "Iteration 48, loss = 0.06583716\n",
      "Iteration 49, loss = 0.07368511\n",
      "Iteration 50, loss = 0.05526998\n",
      "Iteration 51, loss = 0.05081684\n",
      "Iteration 52, loss = 0.04000639\n",
      "Iteration 53, loss = 0.04270947\n",
      "Iteration 54, loss = 0.03841402\n",
      "Iteration 55, loss = 0.04579226\n",
      "Iteration 56, loss = 0.02897643\n",
      "Iteration 57, loss = 0.03283623\n",
      "Iteration 58, loss = 0.06538708\n",
      "Iteration 59, loss = 0.05121342\n",
      "Iteration 60, loss = 0.03366049\n",
      "Iteration 61, loss = 0.02165213\n",
      "Iteration 62, loss = 0.01908865\n",
      "Iteration 63, loss = 0.01435078\n",
      "Iteration 64, loss = 0.01213056\n",
      "Iteration 65, loss = 0.01148962\n",
      "Iteration 66, loss = 0.01166083\n",
      "Iteration 67, loss = 0.01763171\n",
      "Iteration 68, loss = 0.00975048\n",
      "Iteration 69, loss = 0.00761515\n",
      "Iteration 70, loss = 0.00668838\n",
      "Iteration 71, loss = 0.00798697\n",
      "Iteration 72, loss = 0.00761194\n",
      "Iteration 73, loss = 0.00445042\n",
      "Iteration 74, loss = 0.00425974\n",
      "Iteration 75, loss = 0.00398267\n",
      "Iteration 76, loss = 0.00389257\n",
      "Iteration 77, loss = 0.00275915\n",
      "Iteration 78, loss = 0.00309628\n",
      "Iteration 79, loss = 0.00233042\n",
      "Iteration 80, loss = 0.00188451\n",
      "Iteration 81, loss = 0.00161688\n",
      "Iteration 82, loss = 0.00150852\n",
      "Iteration 83, loss = 0.00148789\n",
      "Iteration 84, loss = 0.00120926\n",
      "Iteration 85, loss = 0.00112784\n",
      "Iteration 86, loss = 0.00114178\n",
      "Iteration 87, loss = 0.00097361\n",
      "Iteration 88, loss = 0.00090522\n",
      "Iteration 89, loss = 0.00086714\n",
      "Iteration 90, loss = 0.00082135\n",
      "Iteration 91, loss = 0.00084773\n",
      "Iteration 92, loss = 0.00080040\n",
      "Iteration 93, loss = 0.00076534\n",
      "Iteration 94, loss = 0.00073668\n",
      "Iteration 95, loss = 0.00070431\n",
      "Iteration 96, loss = 0.00067891\n",
      "Iteration 97, loss = 0.00065935\n",
      "Iteration 98, loss = 0.00064738\n",
      "Training loss did not improve more than tol=0.000100 for 10 consecutive epochs. Stopping.\n"
     ]
    },
    {
     "data": {
      "text/plain": [
       "MLPClassifier(activation='relu', alpha=0.0001, batch_size='auto', beta_1=0.9,\n",
       "              beta_2=0.999, early_stopping=False, epsilon=1e-08,\n",
       "              hidden_layer_sizes=(150, 100, 100, 150), learning_rate='constant',\n",
       "              learning_rate_init=0.001, max_fun=15000, max_iter=200,\n",
       "              momentum=0.9, n_iter_no_change=10, nesterovs_momentum=True,\n",
       "              power_t=0.5, random_state=None, shuffle=True, solver='adam',\n",
       "              tol=0.0001, validation_fraction=0.1, verbose=True,\n",
       "              warm_start=False)"
      ]
     },
     "execution_count": 67,
     "metadata": {},
     "output_type": "execute_result"
    }
   ],
   "source": [
    "#Network with 4 hidden layers: 150 in first hidden, 100 in the next 3, and 150 in the last hidden layer\n",
    "model4 = MLPClassifier(verbose=True, hidden_layer_sizes=(150,100,100,150)) # 1 hidden layer with 100 units\n",
    "model4.fit(X_train_embed, y_train)"
   ]
  },
  {
   "cell_type": "code",
   "execution_count": 68,
   "metadata": {},
   "outputs": [
    {
     "data": {
      "text/plain": [
       "Text(-3.0000000000000018, 0.5, 'predicted label')"
      ]
     },
     "execution_count": 68,
     "metadata": {},
     "output_type": "execute_result"
    },
    {
     "data": {
      "image/png": "[encoded data removed]",
      "text/plain": [
       "<Figure size 144x144 with 1 Axes>"
      ]
     },
     "metadata": {
      "needs_background": "light"
     },
     "output_type": "display_data"
    }
   ],
   "source": [
    "pred_labels4 = model4.predict(X_test_embed)\n",
    "mat4 = confusion_matrix(y_test, pred_labels4)\n",
    "plt.figure(figsize=(2,2))\n",
    "\n",
    "sns.heatmap(mat.T, square=True, annot=True, fmt='d', cbar=False,\n",
    "            xticklabels=np.unique(y_train), yticklabels=np.unique(y_train))\n",
    "\n",
    "plt.xlabel('true label')\n",
    "plt.ylabel('predicted label')"
   ]
  },
  {
   "cell_type": "code",
   "execution_count": 69,
   "metadata": {},
   "outputs": [
    {
     "name": "stdout",
     "output_type": "stream",
     "text": [
      "Microaveraged F1 score for 4th model with word embeddings: 0.8850188837599664\n",
      "Macroaveraged F1 score for 4th model with word embeddings:: 0.8840697507925445\n"
     ]
    }
   ],
   "source": [
    "print('Microaveraged F1 score for 4th model with word embeddings:', f1_score(y_test, pred_labels4, average='micro'))\n",
    "print('Macroaveraged F1 score for 4th model with word embeddings::', f1_score(y_test, pred_labels4, average='macro'))"
   ]
  },
  {
   "cell_type": "markdown",
   "metadata": {},
   "source": [
    "## Part VII - Points 5"
   ]
  },
  {
   "cell_type": "markdown",
   "metadata": {},
   "source": [
    "Print out the topic predictions of the model on 5 reviews of your own such as \"This is a great movie to watch\". You can use the <i>predict</i> function of your model as in <i>model.predict(input)</i>. Make sure that the input is in the right format (as expected by the model)."
   ]
  },
  {
   "cell_type": "code",
   "execution_count": 70,
   "metadata": {},
   "outputs": [],
   "source": [
    "r1 = 'This is best movie of all time'\n",
    "r2 = 'The acting in this movie was terrible'\n",
    "r3 = 'The actors in this movie are A-list'\n",
    "r4 = 'This movie is extremely dull and boring'\n",
    "r5 = 'The soundtrack in this movie was legendary'\n",
    "\n",
    "all_reviews = [r1,r2,r3,r4]"
   ]
  },
  {
   "cell_type": "code",
   "execution_count": 72,
   "metadata": {},
   "outputs": [
    {
     "data": {
      "text/plain": [
       "array(['dvd', 'dvd', 'dvd', 'dvd'], dtype='<U8')"
      ]
     },
     "execution_count": 72,
     "metadata": {},
     "output_type": "execute_result"
    }
   ],
   "source": [
    "new_X_embed = np.vstack([calc_doc_embedding(doc, wv, 100, OOV_embed) for doc in all_reviews])\n",
    "model5 = MLPClassifier(hidden_layer_sizes=(150,100,100,150))\n",
    "model5.fit(X_train_embed, y_train).predict(new_X_embed)\n",
    "pred_labels5 = model5.predict(new_X_embed)\n",
    "pred_labels5"
   ]
  },
  {
   "cell_type": "markdown",
   "metadata": {},
   "source": [
    "## Part VIII - Points 5"
   ]
  },
  {
   "cell_type": "markdown",
   "metadata": {},
   "source": [
    "Write 10-20 lines describing your observations for the experiments in this assignment. "
   ]
  },
  {
   "cell_type": "markdown",
   "metadata": {},
   "source": [
    "The model trained with embeddings is a lot faster than with tf-idf.<br>\n",
    "However, it seems there are many more iterations because more steps were needed to reduce loss.<br>\n",
    "I successfully scaled to 4 layers with a lot more neurons in each layer.<br>\n",
    "The biggest disadvantage is the lower F1-scores. With tf-idf, the f1 scores were over 0.91 while for word embeddings, they were under 0.9<br>\n",
    "Model 4 had the worst performance<br>"
   ]
  },
  {
   "cell_type": "code",
   "execution_count": null,
   "metadata": {},
   "outputs": [],
   "source": []
  }
 ],
 "metadata": {
  "kernelspec": {
   "display_name": "Python 3",
   "language": "python",
   "name": "python3"
  },
  "language_info": {
   "codemirror_mode": {
    "name": "ipython",
    "version": 3
   },
   "file_extension": ".py",
   "mimetype": "text/x-python",
   "name": "python",
   "nbconvert_exporter": "python",
   "pygments_lexer": "ipython3",
   "version": "3.7.6"
  },
  "toc": {
   "base_numbering": 1,
   "nav_menu": {},
   "number_sections": true,
   "sideBar": true,
   "skip_h1_title": false,
   "title_cell": "Table of Contents",
   "title_sidebar": "Contents",
   "toc_cell": false,
   "toc_position": {},
   "toc_section_display": true,
   "toc_window_display": true
  }
 },
 "nbformat": 4,
 "nbformat_minor": 2
}
