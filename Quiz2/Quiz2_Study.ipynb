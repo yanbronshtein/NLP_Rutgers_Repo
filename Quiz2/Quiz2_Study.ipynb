{
 "cells": [
  {
   "cell_type": "code",
   "execution_count": 1,
   "metadata": {},
   "outputs": [],
   "source": [
    "import numpy as np"
   ]
  },
  {
   "cell_type": "code",
   "execution_count": 4,
   "metadata": {},
   "outputs": [],
   "source": [
    "def del_cost(my_char):\n",
    "    return 1\n",
    "\n",
    "def ins_cost(my_char):\n",
    "    return 1\n",
    "\n",
    "def sub_cost(source_char, dest_char):\n",
    "    if source_char == dest_char:\n",
    "        return 0\n",
    "    else:\n",
    "        return 2"
   ]
  },
  {
   "cell_type": "code",
   "execution_count": 7,
   "metadata": {},
   "outputs": [],
   "source": [
    "def min_edit_dist(source, target):\n",
    "    n,m  = len(source), len(target)\n",
    "    #Create a distance matrix distance[n+1, m+1]\n",
    "    D = np.zeros((n+1, m+1))\n",
    "    #D[0,0] = 0\n",
    "    for i in range(1,n):\n",
    "        D[i,0] = D[i-1,0] + del_cost(source[i])\n",
    "    for j in range(1,m):\n",
    "        D[0,j] = D[0,j-1] + ins_cost(target[j])\n",
    "        \n",
    "    #Recurrence Relation:\n",
    "    for i in range(1, n):\n",
    "        for j in range(1, m):\n",
    "            D[i,j] = min(D[i,j+1] + del_cost(source[i]),\n",
    "                        D[i-1,j-1] + sub_cost(source[i], target[j]),\n",
    "                        D[i,j-1] + ins_cost(target[j]))\n",
    "            \n",
    "    return D[n,m]"
   ]
  },
  {
   "cell_type": "code",
   "execution_count": null,
   "metadata": {},
   "outputs": [],
   "source": [
    "def min_edit_dist_v2(source, target):\n",
    "    n"
   ]
  },
  {
   "cell_type": "code",
   "execution_count": 17,
   "metadata": {},
   "outputs": [],
   "source": [
    "source, target = \"intention\", \"execution\"\n",
    "n,m  = len(source), len(target)\n",
    "#Create a distance matrix distance[n+1, m+1]\n",
    "D = np.zeros((n+1, m+1))\n",
    "#D[0,0] = 0\n",
    "for i in range(1,n):\n",
    "    D[i,0] = D[i-1,0] + del_cost(source[i])\n",
    "for j in range(1,m):\n",
    "    D[0,j] = D[0,j-1] + ins_cost(target[j])"
   ]
  },
  {
   "cell_type": "code",
   "execution_count": 18,
   "metadata": {},
   "outputs": [
    {
     "data": {
      "text/plain": [
       "array([[0., 1., 2., 3., 4., 5., 6., 7., 8., 0.],\n",
       "       [1., 0., 0., 0., 0., 0., 0., 0., 0., 0.],\n",
       "       [2., 0., 0., 0., 0., 0., 0., 0., 0., 0.],\n",
       "       [3., 0., 0., 0., 0., 0., 0., 0., 0., 0.],\n",
       "       [4., 0., 0., 0., 0., 0., 0., 0., 0., 0.],\n",
       "       [5., 0., 0., 0., 0., 0., 0., 0., 0., 0.],\n",
       "       [6., 0., 0., 0., 0., 0., 0., 0., 0., 0.],\n",
       "       [7., 0., 0., 0., 0., 0., 0., 0., 0., 0.],\n",
       "       [8., 0., 0., 0., 0., 0., 0., 0., 0., 0.],\n",
       "       [0., 0., 0., 0., 0., 0., 0., 0., 0., 0.]])"
      ]
     },
     "execution_count": 18,
     "metadata": {},
     "output_type": "execute_result"
    }
   ],
   "source": [
    "D"
   ]
  },
  {
   "cell_type": "code",
   "execution_count": 8,
   "metadata": {},
   "outputs": [
    {
     "data": {
      "text/plain": [
       "0.0"
      ]
     },
     "execution_count": 8,
     "metadata": {},
     "output_type": "execute_result"
    }
   ],
   "source": [
    "min_edit_dist(source=\"intention\", target=\"execution\")"
   ]
  },
  {
   "cell_type": "code",
   "execution_count": null,
   "metadata": {},
   "outputs": [],
   "source": [
    "a"
   ]
  }
 ],
 "metadata": {
  "kernelspec": {
   "display_name": "Python 3",
   "language": "python",
   "name": "python3"
  },
  "language_info": {
   "codemirror_mode": {
    "name": "ipython",
    "version": 3
   },
   "file_extension": ".py",
   "mimetype": "text/x-python",
   "name": "python",
   "nbconvert_exporter": "python",
   "pygments_lexer": "ipython3",
   "version": "3.7.6"
  }
 },
 "nbformat": 4,
 "nbformat_minor": 4
}
