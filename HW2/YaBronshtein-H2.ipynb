{
 "cells": [
  {
   "cell_type": "markdown",
   "metadata": {},
   "source": [
    "# Homework 2"
   ]
  },
  {
   "cell_type": "markdown",
   "metadata": {},
   "source": [
    "This assignment requires you to build and test a Naive Bayes model of product reviews using Python's scikit-learn package. \n",
    "\n",
    "The dataset is provided with the homework and contains six of the review topics used in the paper <i>John Blitzer, Mark Dredze, and Fernando Pereira: Biographies, Bollywood, Boom-boxes and Blenders: Domain Adaptation for Sentiment Classification. In Proceedings of the 45th Annual Meeting of the Association of Computational Linguistics (ACL 2007).</i> The data has been formatted so that there is one review per line, and the texts have been tokenized and normalized. \n",
    "\n",
    "A line in the file is organized in columns as follows:\n",
    "\n",
    "0: <b> topic</b> category label (books, camera, dvd, health, music, or software) <br>\n",
    "1: <b>sentiment</b> category label (pos or neg) <br>\n",
    "2: document identifier <br>\n",
    "3 and on: the actual review  <br>\n",
    "    \n",
    "    \n",
    "Here is an example of a line:\n",
    "\n",
    "<b>health pos 691.txt</b> <i>smaller size did not fit me or my son . it would be nice if you could use perhaps a hat size to determine right size . standard size worked fine . </i>\n",
    "\n",
    "IMPORTANT: Your submission must be a Jupyter Notebook (.ipynb) file that is organized into sections as in this notebook file. You may choose to edit this file to insert your answers and submit the resulting file.\n"
   ]
  },
  {
   "cell_type": "markdown",
   "metadata": {},
   "source": [
    "## Part I  - 10 Points"
   ]
  },
  {
   "cell_type": "markdown",
   "metadata": {},
   "source": [
    "Write a function named <i>read_corpus</i> that takes a filename for the dataset and the position of the category label on each line and returns the reviews and labels as two separate lists. Invoke your function with the filename of the dataset provided with this assignment and 1 as the position of the category label (sentiment), save the results in variables, and then print out the folowing:\n",
    " \n",
    " (1) any two reviews and their corresponding labels <br>\n",
    " (2) number of reviews (reviews will be referred to as data in the rest of the assignment) <br> \n",
    " (3) number of labels"
   ]
  },
  {
   "cell_type": "markdown",
   "metadata": {},
   "source": [
    "**Import statements**"
   ]
  },
  {
   "cell_type": "code",
   "execution_count": 1,
   "metadata": {},
   "outputs": [],
   "source": [
    "from sklearn.feature_extraction.text import CountVectorizer\n",
    "import numpy as np\n",
    "import matplotlib.pyplot as plt\n",
    "import seaborn as sns; sns.set()\n",
    "import pandas as pd\n",
    "from sklearn.feature_extraction.text import TfidfVectorizer\n",
    "from sklearn.datasets import fetch_20newsgroups\n",
    "from sklearn.feature_extraction.text import TfidfVectorizer\n",
    "from sklearn.naive_bayes import MultinomialNB\n",
    "from sklearn.pipeline import make_pipeline\n",
    "from sklearn.metrics import confusion_matrix, f1_score\n",
    "import string\n",
    "%matplotlib inline\n"
   ]
  },
  {
   "cell_type": "code",
   "execution_count": 2,
   "metadata": {},
   "outputs": [],
   "source": [
    "# PART I: extract data and labels \n",
    "def read_corpus(filename, category_position):\n",
    "    ## fill in your code below this line\n",
    "    \n",
    "    all_data = []\n",
    "    all_labels = []\n",
    "    with open(filename, encoding='utf8') as f:\n",
    "        for line in f:\n",
    "            tokens = line.strip().split()\n",
    "            data = tokens[3:]\n",
    "            label = tokens[category_position]\n",
    "            all_data.append(' '.join(data))\n",
    "            all_labels.append(label)\n",
    "    \n",
    "    \n",
    "    \n",
    "    return all_data, all_labels"
   ]
  },
  {
   "cell_type": "code",
   "execution_count": 1,
   "metadata": {},
   "outputs": [
    {
     "ename": "NameError",
     "evalue": "name 'read_corpus' is not defined",
     "output_type": "error",
     "traceback": [
      "\u001b[0;31m---------------------------------------------------------------------------\u001b[0m",
      "\u001b[0;31mNameError\u001b[0m                                 Traceback (most recent call last)",
      "\u001b[0;32m<ipython-input-1-914d9a49d2eb>\u001b[0m in \u001b[0;36m<module>\u001b[0;34m\u001b[0m\n\u001b[1;32m      2\u001b[0m \u001b[0;31m#(1) invoking the read_corpus function\u001b[0m\u001b[0;34m\u001b[0m\u001b[0;34m\u001b[0m\u001b[0;34m\u001b[0m\u001b[0m\n\u001b[1;32m      3\u001b[0m \u001b[0mpath\u001b[0m \u001b[0;34m=\u001b[0m \u001b[0;34m\"../data/HW2_data/all_reviews.txt\"\u001b[0m\u001b[0;34m\u001b[0m\u001b[0;34m\u001b[0m\u001b[0m\n\u001b[0;32m----> 4\u001b[0;31m \u001b[0mall_data\u001b[0m\u001b[0;34m,\u001b[0m \u001b[0mall_labels\u001b[0m \u001b[0;34m=\u001b[0m \u001b[0mread_corpus\u001b[0m\u001b[0;34m(\u001b[0m\u001b[0mpath\u001b[0m\u001b[0;34m,\u001b[0m \u001b[0mcategory_position\u001b[0m\u001b[0;34m=\u001b[0m\u001b[0;36m0\u001b[0m\u001b[0;34m)\u001b[0m\u001b[0;34m\u001b[0m\u001b[0;34m\u001b[0m\u001b[0m\n\u001b[0m\u001b[1;32m      5\u001b[0m \u001b[0mprint\u001b[0m\u001b[0;34m(\u001b[0m\u001b[0;34m\"REVIEW #0: \"\u001b[0m\u001b[0;34m)\u001b[0m\u001b[0;34m\u001b[0m\u001b[0;34m\u001b[0m\u001b[0m\n\u001b[1;32m      6\u001b[0m \u001b[0mprint\u001b[0m\u001b[0;34m(\u001b[0m\u001b[0;34m\"LABEL: \"\u001b[0m\u001b[0;34m,\u001b[0m \u001b[0mall_labels\u001b[0m\u001b[0;34m[\u001b[0m\u001b[0;36m0\u001b[0m\u001b[0;34m]\u001b[0m\u001b[0;34m)\u001b[0m\u001b[0;34m\u001b[0m\u001b[0;34m\u001b[0m\u001b[0m\n",
      "\u001b[0;31mNameError\u001b[0m: name 'read_corpus' is not defined"
     ]
    }
   ],
   "source": [
    "# code for \n",
    "#(1) invoking the read_corpus function\n",
    "path = \"../data/HW2_data/all_reviews.txt\"\n",
    "all_data, all_labels = read_corpus(path, category_position=1)\n",
    "print(\"REVIEW #0: \")\n",
    "print(\"LABEL: \", all_labels[0])\n",
    "print(\"DATA: \", all_data[0])\n",
    "\n",
    "print(\"REVIEW #2: \")\n",
    "print(\"LABEL: \", all_labels[2])\n",
    "print(\"DATA: \", all_data[2])\n",
    "\n",
    "\n",
    "print(\"# REVIEWS IN CORPUS:\", len(all_data))\n",
    "print(\"# LABELS IN CORPUS \", len((all_labels)))\n",
    "print(\"# UNIQUE LABELS IN CORPUS: \", len(set(all_labels)))\n"
   ]
  },
  {
   "cell_type": "markdown",
   "metadata": {},
   "source": [
    "## Part II - 20 Points"
   ]
  },
  {
   "cell_type": "markdown",
   "metadata": {},
   "source": [
    "Write a function called <i>split_data</i> that takes the following as parameters: \n",
    "\n",
    "(1) data <br>\n",
    "(2) labels <br>\n",
    "(3) a split point which is a number between 0 and 1 (say, 0.8)  <br>\n",
    "\n",
    "\n",
    "The function should split the data into two sets <i>train_data</i> and <i>test_data</i> based on the split point. For instance, if the split point is 0.8, then <i>train_data</i> should be 80% of the data (selection should start from the beginning) and <i>test_dat</i>a should be the rest (20%) of the data. The labels should be split in a similar fashion. \n",
    "\n",
    "The function should return 4 lists as follows:\n",
    "\n",
    "(1) train_data <br>\n",
    "(2) test_data <br>\n",
    "(3) train_labels <br>\n",
    "(4) test_labels <br>"
   ]
  },
  {
   "cell_type": "code",
   "execution_count": 4,
   "metadata": {},
   "outputs": [],
   "source": [
    "# PART II: code for function split_data\n",
    "def split_data(all_data, all_labels, split_point):\n",
    "    #put your code below this line\n",
    "    data_split_idx = int(split_point*len(all_data))\n",
    "    labels_split_idx = int(split_point*len(all_labels))\n",
    "    train_data,test_data = all_data[:data_split_idx], all_data[data_split_idx:]\n",
    "    train_labels, test_labels = all_labels[:labels_split_idx], all_labels[labels_split_idx:]\n",
    "\n",
    "    return train_data, test_data, train_labels, test_labels"
   ]
  },
  {
   "cell_type": "code",
   "execution_count": 5,
   "metadata": {},
   "outputs": [
    {
     "name": "stdout",
     "output_type": "stream",
     "text": [
      "i bought this album because i loved the title song . it 's such a great song , how bad can the rest of the album be , right ? well , the rest of the songs are just filler and are n't worth the money i paid for this . it 's either shameless bubblegum or oversentimentalized depressing tripe . kenny chesney is a popular artist and as a result he is in the cookie cutter category of the nashville music scene . he 's gotta pump out the albums so the record company can keep lining their pockets while the suckers out there keep buying this garbage to perpetuate more garbage coming out of that town . i 'll get down off my soapbox now . but country music really needs to get back to it 's roots and stop this pop nonsense . what country music really is and what it is considered to be by mainstream are two different things . \n",
      "\n",
      "neg \n",
      "\n",
      "# REVIEWS IN TRAINING DATA: 9531\n",
      "# LABELS IN TRAINING DATA: 9531\n",
      "\n",
      "\n",
      "do not buy this iron . it 's fabulous while it works , for which it does merit the one star . but it broke in less than a week . it overheated , or something , and then would n't turn on again . but here 's the kicker : if you buy it from amazon , the company wo n't honor the warranty . i do n't have particularly heavy-duty hair . this is just totally unacceptable . \n",
      "\n",
      "neg \n",
      "\n",
      "# REVIEWS IN TEST DATA: 2383\n",
      "# LABELS IN TEST DATA: 2383\n"
     ]
    }
   ],
   "source": [
    "train_data, test_data, train_labels, test_labels = split_data(all_data, all_labels, .8)\n",
    "\n",
    "print(train_data[0], '\\n')\n",
    "print(train_labels[0], '\\n')\n",
    "\n",
    "print('# REVIEWS IN TRAINING DATA:', len(train_data))\n",
    "print('# LABELS IN TRAINING DATA:', len(train_labels))\n",
    "\n",
    "print('\\n')\n",
    "\n",
    "print(test_data[0], '\\n')\n",
    "print(test_labels[0], '\\n')\n",
    "\n",
    "print('# REVIEWS IN TEST DATA:', len(test_data))\n",
    "print('# LABELS IN TEST DATA:', len(test_labels))"
   ]
  },
  {
   "cell_type": "markdown",
   "metadata": {},
   "source": [
    "## Part III - 20 points"
   ]
  },
  {
   "cell_type": "markdown",
   "metadata": {},
   "source": [
    "Using the MultinomialNB module from scikit-learn package (see sample code in NaiveBayes.ipynb on Canvas under Text Classification), build a model and predict the labels for the test_data. "
   ]
  },
  {
   "cell_type": "code",
   "execution_count": 6,
   "metadata": {},
   "outputs": [
    {
     "data": {
      "text/plain": [
       "Pipeline(memory=None,\n",
       "         steps=[('tfidfvectorizer',\n",
       "                 TfidfVectorizer(analyzer='word', binary=False,\n",
       "                                 decode_error='strict',\n",
       "                                 dtype=<class 'numpy.float64'>,\n",
       "                                 encoding='utf-8', input='content',\n",
       "                                 lowercase=True, max_df=1.0, max_features=None,\n",
       "                                 min_df=1, ngram_range=(1, 1), norm='l2',\n",
       "                                 preprocessor=None, smooth_idf=True,\n",
       "                                 stop_words=None, strip_accents=None,\n",
       "                                 sublinear_tf=False,\n",
       "                                 token_pattern='(?u)\\\\b\\\\w\\\\w+\\\\b',\n",
       "                                 tokenizer=None, use_idf=True,\n",
       "                                 vocabulary=None)),\n",
       "                ('multinomialnb',\n",
       "                 MultinomialNB(alpha=1.0, class_prior=None, fit_prior=True))],\n",
       "         verbose=False)"
      ]
     },
     "execution_count": 6,
     "metadata": {},
     "output_type": "execute_result"
    }
   ],
   "source": [
    "# PART III: put your code after this line and run the cell(s). \n",
    "# You may use multiple cells\n",
    "model = make_pipeline(TfidfVectorizer(), MultinomialNB())\n",
    "model.fit(train_data, train_labels)"
   ]
  },
  {
   "cell_type": "code",
   "execution_count": 7,
   "metadata": {},
   "outputs": [],
   "source": [
    "labels = model.predict(test_data)"
   ]
  },
  {
   "cell_type": "markdown",
   "metadata": {},
   "source": [
    "## Part IV - 20 points"
   ]
  },
  {
   "cell_type": "markdown",
   "metadata": {},
   "source": [
    "Generate and display the confusion matrix of your model as a heatmap plot. "
   ]
  },
  {
   "cell_type": "code",
   "execution_count": 8,
   "metadata": {},
   "outputs": [
    {
     "data": {
      "text/plain": [
       "Text(21.5, 0.5, 'predicted label')"
      ]
     },
     "execution_count": 8,
     "metadata": {},
     "output_type": "execute_result"
    },
    {
     "data": {
      "image/png": "[encoded data removed]",
      "text/plain": [
       "<Figure size 360x360 with 1 Axes>"
      ]
     },
     "metadata": {
      "needs_background": "light"
     },
     "output_type": "display_data"
    }
   ],
   "source": [
    "mat = confusion_matrix(test_labels, labels)\n",
    "plt.figure(figsize=(5,5))\n",
    "\n",
    "sns.heatmap(mat.T, square=True, annot=True, fmt='d', cbar=False,\n",
    "            xticklabels=np.unique(train_labels), yticklabels=np.unique(train_labels))\n",
    "\n",
    "plt.xlabel('true label'); plt.ylabel('predicted label')"
   ]
  },
  {
   "cell_type": "markdown",
   "metadata": {},
   "source": [
    "### The numbers are cut-off due to a heatmap glitch so I have printed the matrix here"
   ]
  },
  {
   "cell_type": "code",
   "execution_count": 9,
   "metadata": {},
   "outputs": [
    {
     "data": {
      "text/plain": [
       "array([[1016,  194],\n",
       "       [ 214,  959]])"
      ]
     },
     "execution_count": 9,
     "metadata": {},
     "output_type": "execute_result"
    }
   ],
   "source": [
    "mat.T"
   ]
  },
  {
   "cell_type": "markdown",
   "metadata": {},
   "source": [
    "## Part V - 10 points"
   ]
  },
  {
   "cell_type": "markdown",
   "metadata": {},
   "source": [
    "Using modules from scikit-learn, compute and display the microaveraged and macroaveraged F1 scores for your predictions (this was not provided in the sample code, so you will have to figure this out by searching online). "
   ]
  },
  {
   "cell_type": "code",
   "execution_count": 10,
   "metadata": {},
   "outputs": [
    {
     "name": "stdout",
     "output_type": "stream",
     "text": [
      "Microaveraged F1 score: 0.8287872429710449\n",
      "Macroaveraged F1 score: 0.8286892293813344\n"
     ]
    }
   ],
   "source": [
    "# PART V: put your code after this line and run the cell to display the scores\n",
    "print('Microaveraged F1 score:', f1_score(test_labels, labels, average='micro'))\n",
    "print('Macroaveraged F1 score:', f1_score(test_labels, labels, average='macro'))\n"
   ]
  },
  {
   "cell_type": "markdown",
   "metadata": {},
   "source": [
    "## Part VI - 20 points"
   ]
  },
  {
   "cell_type": "markdown",
   "metadata": {},
   "source": [
    "Repeat Parts I - V  for the topic category label  (books, camera, dvd, health, music, or software) in the dataset. Insert cells after this cell to show your code and output. You must invoke some of the functions you have defined in the earlier parts of this assignment to avoid repeating all of the code."
   ]
  },
  {
   "cell_type": "code",
   "execution_count": 11,
   "metadata": {},
   "outputs": [
    {
     "name": "stdout",
     "output_type": "stream",
     "text": [
      "[\"i bought this album because i loved the title song . it 's such a great song , how bad can the rest of the album be , right ? well , the rest of the songs are just filler and are n't worth the money i paid for this . it 's either shameless bubblegum or oversentimentalized depressing tripe . kenny chesney is a popular artist and as a result he is in the cookie cutter category of the nashville music scene . he 's gotta pump out the albums so the record company can keep lining their pockets while the suckers out there keep buying this garbage to perpetuate more garbage coming out of that town . i 'll get down off my soapbox now . but country music really needs to get back to it 's roots and stop this pop nonsense . what country music really is and what it is considered to be by mainstream are two different things .\", 'i was misled and thought i was buying the entire cd and it contains one song'] \n",
      "\n",
      "['music', 'music'] \n",
      "\n",
      "TOTAL # OF REVIEWS: 11914\n",
      "TOTAL # OF LABELS: 11914\n"
     ]
    }
   ],
   "source": [
    "all_data_v2, all_labels_v2 = read_corpus(path, category_position=0) #Now use index 0 instead of 1\n",
    "\n",
    "\n",
    "print(all_data_v2[:2], '\\n')\n",
    "print(all_labels_v2[:2], '\\n')\n",
    "\n",
    "print('TOTAL # OF REVIEWS:', len(all_data_v2))\n",
    "print('TOTAL # OF LABELS:', len(all_labels_v2))"
   ]
  },
  {
   "cell_type": "code",
   "execution_count": 12,
   "metadata": {},
   "outputs": [
    {
     "name": "stdout",
     "output_type": "stream",
     "text": [
      "i bought this album because i loved the title song . it 's such a great song , how bad can the rest of the album be , right ? well , the rest of the songs are just filler and are n't worth the money i paid for this . it 's either shameless bubblegum or oversentimentalized depressing tripe . kenny chesney is a popular artist and as a result he is in the cookie cutter category of the nashville music scene . he 's gotta pump out the albums so the record company can keep lining their pockets while the suckers out there keep buying this garbage to perpetuate more garbage coming out of that town . i 'll get down off my soapbox now . but country music really needs to get back to it 's roots and stop this pop nonsense . what country music really is and what it is considered to be by mainstream are two different things . \n",
      "\n",
      "music \n",
      "\n",
      "# REVIEWS IN TRAINING DATA 9531\n",
      "# LABELS IN TRAINING DATA 9531\n",
      "\n",
      "\n",
      "do not buy this iron . it 's fabulous while it works , for which it does merit the one star . but it broke in less than a week . it overheated , or something , and then would n't turn on again . but here 's the kicker : if you buy it from amazon , the company wo n't honor the warranty . i do n't have particularly heavy-duty hair . this is just totally unacceptable . \n",
      "\n",
      "health \n",
      "\n",
      "# REVIEWS IN TEST DATA 2383\n",
      "# LABELS IN TEST DATA 2383\n"
     ]
    }
   ],
   "source": [
    "train_data_v2, test_data_v2, train_labels_v2, test_labels_v2 = split_data(all_data_v2, all_labels_v2, .8)\n",
    "\n",
    "print(train_data_v2[0], '\\n')\n",
    "print(train_labels_v2[0], '\\n')\n",
    "\n",
    "print('# REVIEWS IN TRAINING DATA', len(train_data_v2))\n",
    "print('# LABELS IN TRAINING DATA', len(train_labels_v2))\n",
    "\n",
    "print('\\n')\n",
    "\n",
    "print(test_data_v2[0], '\\n')\n",
    "print(test_labels_v2[0], '\\n')\n",
    "\n",
    "print('# REVIEWS IN TEST DATA', len(test_data_v2))\n",
    "print('# LABELS IN TEST DATA', len(test_labels_v2))"
   ]
  },
  {
   "cell_type": "code",
   "execution_count": 13,
   "metadata": {},
   "outputs": [],
   "source": [
    "model_v2 = make_pipeline(TfidfVectorizer(), MultinomialNB())\n",
    "model_v2.fit(train_data, train_labels_v2)\n",
    "labels_v2 = model_v2.predict(test_data_v2)"
   ]
  },
  {
   "cell_type": "code",
   "execution_count": 14,
   "metadata": {},
   "outputs": [
    {
     "data": {
      "text/plain": [
       "Text(21.5, 0.5, 'predicted label')"
      ]
     },
     "execution_count": 14,
     "metadata": {},
     "output_type": "execute_result"
    },
    {
     "data": {
      "image/png": "[encoded data removed]",
      "text/plain": [
       "<Figure size 360x360 with 1 Axes>"
      ]
     },
     "metadata": {
      "needs_background": "light"
     },
     "output_type": "display_data"
    }
   ],
   "source": [
    "mat_v2 = confusion_matrix(test_labels_v2, labels_v2)\n",
    "plt.figure(figsize=(5,5))\n",
    "\n",
    "sns.heatmap(mat_v2.T, square=True, annot=True, fmt='d', cbar=False,\n",
    "            xticklabels=np.unique(train_labels_v2), yticklabels=np.unique(train_labels_v2))\n",
    "\n",
    "plt.xlabel('true label'); plt.ylabel('predicted label')"
   ]
  },
  {
   "cell_type": "markdown",
   "metadata": {},
   "source": [
    "# Given that my data is cutoff, I have decided to print the confusion matrix on its own"
   ]
  },
  {
   "cell_type": "code",
   "execution_count": 15,
   "metadata": {},
   "outputs": [
    {
     "data": {
      "text/plain": [
       "array([[347,   0,  15,   7,   3,   2],\n",
       "       [  3, 373,   7,  76,   4,  11],\n",
       "       [ 18,   0, 366,   1,   9,   4],\n",
       "       [  1,   3,   3, 336,   2,   1],\n",
       "       [  2,   1,  15,   1, 395,   0],\n",
       "       [  6,   7,   5,  13,   9, 337]])"
      ]
     },
     "execution_count": 15,
     "metadata": {},
     "output_type": "execute_result"
    }
   ],
   "source": [
    "mat_v2.T"
   ]
  },
  {
   "cell_type": "code",
   "execution_count": 16,
   "metadata": {},
   "outputs": [
    {
     "name": "stdout",
     "output_type": "stream",
     "text": [
      "Microaveraged F1 score: 0.9039026437263953\n",
      "Macroaveraged F1 score: 0.9042775666100223\n"
     ]
    }
   ],
   "source": [
    "print('Microaveraged F1 score:', f1_score(test_labels_v2, labels_v2, average='micro'))\n",
    "print('Macroaveraged F1 score:', f1_score(test_labels_v2, labels_v2, average='macro'))"
   ]
  },
  {
   "cell_type": "code",
   "execution_count": null,
   "metadata": {},
   "outputs": [],
   "source": []
  }
 ],
 "metadata": {
  "anaconda-cloud": {},
  "kernelspec": {
   "display_name": "Python 3",
   "language": "python",
   "name": "python3"
  },
  "language_info": {
   "codemirror_mode": {
    "name": "ipython",
    "version": 3
   },
   "file_extension": ".py",
   "mimetype": "text/x-python",
   "name": "python",
   "nbconvert_exporter": "python",
   "pygments_lexer": "ipython3",
   "version": "3.7.6"
  },
  "toc": {
   "base_numbering": 1,
   "nav_menu": {},
   "number_sections": true,
   "sideBar": true,
   "skip_h1_title": false,
   "title_cell": "Table of Contents",
   "title_sidebar": "Contents",
   "toc_cell": false,
   "toc_position": {},
   "toc_section_display": true,
   "toc_window_display": true
  }
 },
 "nbformat": 4,
 "nbformat_minor": 1
}
