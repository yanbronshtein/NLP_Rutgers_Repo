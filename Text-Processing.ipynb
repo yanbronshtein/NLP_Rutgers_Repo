{
 "cells": [
  {
   "cell_type": "markdown",
   "metadata": {},
   "source": [
    "# Regular Expressions"
   ]
  },
  {
   "cell_type": "code",
   "execution_count": 5,
   "metadata": {},
   "outputs": [],
   "source": [
    "import re\n",
    "# Python offers three kinds of matching with regular expressions\n",
    "# (1) re.match matches the pattern with the beginning of the string\n",
    "# (2) re.search matches the pattern anywhere in the string, but only \n",
    "# retrieves the first occurrence. \n",
    "# (3) re.findall finds all matches in the string."
   ]
  },
  {
   "cell_type": "code",
   "execution_count": 6,
   "metadata": {},
   "outputs": [
    {
     "name": "stdout",
     "output_type": "stream",
     "text": [
      "STRING: data science MATCH: <re.Match object; span=(0, 1), match='d'>\n",
      "STRING: 1datascine123 MATCH: <re.Match object; span=(0, 1), match='1'>\n",
      "STRING: 123 MATCH: <re.Match object; span=(0, 1), match='1'>\n",
      "*3az does not match\n"
     ]
    }
   ],
   "source": [
    "# tries to match a lowercase letter or a digit at the beginning of a string\n",
    "# if there is a match, the result shows where the match occured (span) \n",
    "# and the matched substring (match)\n",
    "l = ['data science', '1datascine123', '123', '*3az']\n",
    "for e in l:\n",
    "    match = re.match(\"[a-z0-9]\",e)\n",
    "    if match:\n",
    "        print('STRING:',e,'MATCH:',match)\n",
    "    else:\n",
    "        print(e, \"does not match\")"
   ]
  },
  {
   "cell_type": "code",
   "execution_count": null,
   "metadata": {},
   "outputs": [],
   "source": [
    "# tries to match a lowercase letter or a digit at the beginning of a string\n",
    "# if there is a match, the result shows where the match occured (span) \n",
    "# and the matched substring (match)\n",
    "l = ['data science', '1datascine123', '123', '*3az']\n",
    "for e in l:\n",
    "    match = re.match(\"[a-z0-9]\",e)\n",
    "    if match:\n",
    "        print('STRING:',e,'MATCH:',match)\n",
    "    else:\n",
    "        print(e, \"does not match\")"
   ]
  },
  {
   "cell_type": "code",
   "execution_count": 3,
   "metadata": {},
   "outputs": [
    {
     "name": "stdout",
     "output_type": "stream",
     "text": [
      "STRING: data science MATCH: <re.Match object; span=(0, 1), match='d'>\n",
      "STRING: 1datascine123 MATCH: <re.Match object; span=(0, 1), match='1'>\n",
      "STRING: 123 MATCH: <re.Match object; span=(0, 1), match='1'>\n",
      "STRING: *3az MATCH: <re.Match object; span=(1, 2), match='3'>\n"
     ]
    }
   ],
   "source": [
    "# using search\n",
    "l = ['data science', '1datascine123', '123', '*3az']\n",
    "for e in l:\n",
    "    match=re.search(\"[a-z0-9]\",e)\n",
    "    if match:\n",
    "        print('STRING:',e,'MATCH:',match)\n",
    "    else:\n",
    "        print(e, \"does not match\")"
   ]
  },
  {
   "cell_type": "code",
   "execution_count": 4,
   "metadata": {},
   "outputs": [
    {
     "name": "stdout",
     "output_type": "stream",
     "text": [
      "STRING: data sc2ienc5e MATCH: c2\n",
      "STRING: 2datascine123 MATCH: e1\n",
      "123 does not match\n"
     ]
    }
   ],
   "source": [
    "# cleaner output, different pattern (starts with a lowercase letter followed by a digit)\n",
    "l = ['data sc2ienc5e', '2datascine123', '123']\n",
    "for e in l:\n",
    "    match = re.search(\"[a-z][0-9]\",e)\n",
    "    if match:\n",
    "        print('STRING:',e,'MATCH:',match.group(0))\n",
    "    else:\n",
    "        print(e, \"does not match\")"
   ]
  },
  {
   "cell_type": "code",
   "execution_count": 22,
   "metadata": {},
   "outputs": [
    {
     "name": "stdout",
     "output_type": "stream",
     "text": [
      "STRING: data sc2ienc5e MATCH: ['c2', 'c5']\n",
      "STRING: 1datascine123 MATCH: ['e1']\n",
      "STRING: 123 MATCH: []\n"
     ]
    }
   ],
   "source": [
    "# using findall\n",
    "l = ['data sc2ienc5e', '1datascine123', '123']\n",
    "for e in l:\n",
    "    match=re.findall(\"[a-z][0-9]\",e)\n",
    "    print('STRING:',e,'MATCH:',match)"
   ]
  },
  {
   "cell_type": "code",
   "execution_count": 23,
   "metadata": {},
   "outputs": [
    {
     "name": "stdout",
     "output_type": "stream",
     "text": [
      "Boy is  no match\n",
      "STRING: B:ddd: MATCH: B:ddd:\n",
      "C:ddd: no match\n",
      "B:ddd  no match\n",
      "STRING: B:ddd:xxx MATCH: B:ddd:\n"
     ]
    }
   ],
   "source": [
    "# pattern is starts with a B, followed by :, followed by one or more characters \n",
    "# that are not spaces, followed by a colon\n",
    "# + is greedy here; matches as much as possible\n",
    "# r prefix for the string tells Python to preserve any backslash\n",
    "l2 = ['Boy is ','B:ddd:','C:ddd:','B:ddd ', 'B:ddd:xxx']\n",
    "for e in l2:\n",
    "    match = re.match(r'^B:\\S+:',e)\n",
    "    if (match):\n",
    "        print('STRING:',e,'MATCH:',match.group(0))\n",
    "    else: \n",
    "        print(e,'no match')"
   ]
  },
  {
   "cell_type": "code",
   "execution_count": 24,
   "metadata": {},
   "outputs": [
    {
     "name": "stdout",
     "output_type": "stream",
     "text": [
      "Boy is  no match\n",
      "STRING: B:ddd: MATCH: B:d\n",
      "C:ddd: no match\n",
      "STRING: B:ddd  MATCH: B:d\n"
     ]
    }
   ],
   "source": [
    "# non-greedy match with the use of ?, no colon in pattern\n",
    "l2 = ['Boy is ','B:ddd:','C:ddd:','B:ddd ']\n",
    "for e in l2:\n",
    "    match = re.match(r'^B:\\S+?',e)\n",
    "    if (match):\n",
    "        print('STRING:',e,'MATCH:',match.group(0))\n",
    "    else: \n",
    "        print(e,'no match')"
   ]
  },
  {
   "cell_type": "code",
   "execution_count": 80,
   "metadata": {},
   "outputs": [
    {
     "name": "stdout",
     "output_type": "stream",
     "text": [
      "['India, the Beatles visited the Maharishi Mahesh Yogi in India.']\n",
      "\n",
      "['1960', '1943', '2001', '1940', '1980', '1942', '1940', '1990', '1935', '1977', '1936', '1959', '1932', '1956', '1957', '1960', '1962', '1963', '1964', '1964', '1964', '1965', '1965', '1966', '1967', '1967', '1968', '1968', '1968', '1969', '1933', '1970', '1969', '1940', '1970', '1971', '1970', '1971', '1970', '1980', '1990', '2001', '1988']\n",
      "\n",
      "['in 1956. Paul', 'in 1957. Fourteen', 'in 1960.\\nWhen', 'January 1964, hit', 'in 1964 the', 'July 1965. It', 'and 1966 albums', 'In 1968 they', 'July 1968. A', 'of 1968 and', 'before 1970 impossible', 'in 1970. The', 'in 1971, got', 'of 1970 all', 'In 1971 McCartney', 'in 1988. Lennon']\n"
     ]
    }
   ],
   "source": [
    "#with files\n",
    "f = open('../data/beatles_biography.txt', 'r')\n",
    "# read the entire file\n",
    "filestring = f.read()\n",
    "#Feed the file text into findall(); it returns a list of all the found strings\n",
    "strings = re.findall(r'India.*', filestring)\n",
    "print(strings)\n",
    "print()\n",
    "#find occurrences of a year (e.g. 1974)\n",
    "datestrings = re.findall(r'[0-9]{4}', filestring)\n",
    "print(datestrings)\n",
    "print()\n",
    "#find years with some context before and after\n",
    "# note this pattern is not able to pull up all instances of years\n",
    "# can you change the pattern to include more years?\n",
    "datestrings = re.findall(r'[A-Za-z]+\\s[0-9]{4}[.,\\s]\\s*[A-Za-z]*', filestring)\n",
    "print(datestrings)"
   ]
  },
  {
   "cell_type": "markdown",
   "metadata": {},
   "source": [
    "# Tokenizing and Stemming"
   ]
  },
  {
   "cell_type": "code",
   "execution_count": 2,
   "metadata": {},
   "outputs": [
    {
     "name": "stdout",
     "output_type": "stream",
     "text": [
      "showing info https://raw.githubusercontent.com/nltk/nltk_data/gh-pages/index.xml\n"
     ]
    },
    {
     "data": {
      "text/plain": [
       "True"
      ]
     },
     "execution_count": 2,
     "metadata": {},
     "output_type": "execute_result"
    }
   ],
   "source": [
    "# This will open a separate window where you have to select the packages to download. \n",
    "# Select all.\n",
    "import nltk\n",
    "nltk.download()"
   ]
  },
  {
   "cell_type": "code",
   "execution_count": 3,
   "metadata": {},
   "outputs": [
    {
     "data": {
      "text/plain": [
       "['At',\n",
       " 'eight',\n",
       " \"o'clock\",\n",
       " 'on',\n",
       " 'Thursday',\n",
       " 'morning',\n",
       " 'Arthur',\n",
       " 'did',\n",
       " \"n't\",\n",
       " 'feel',\n",
       " 'very',\n",
       " 'good',\n",
       " '.']"
      ]
     },
     "execution_count": 3,
     "metadata": {},
     "output_type": "execute_result"
    }
   ],
   "source": [
    "sentence = \"\"\"At eight o'clock on Thursday morning\n",
    "... Arthur didn't feel very good.\"\"\"\n",
    "tokens = nltk.word_tokenize(sentence)\n",
    "tokens"
   ]
  },
  {
   "cell_type": "code",
   "execution_count": 21,
   "metadata": {},
   "outputs": [
    {
     "data": {
      "text/plain": [
       "['Rutgers', 'offers', 'an', 'MS', 'in', 'Data', 'Science']"
      ]
     },
     "execution_count": 21,
     "metadata": {},
     "output_type": "execute_result"
    }
   ],
   "source": [
    "# use of regular expression in tokenization\n",
    "text = 'Rutgers offers an MS in Data Science.'\n",
    "pattern = r'[A-Za-z]+'\n",
    "nltk.regexp_tokenize(text, pattern)"
   ]
  },
  {
   "cell_type": "code",
   "execution_count": 30,
   "metadata": {},
   "outputs": [
    {
     "name": "stdout",
     "output_type": "stream",
     "text": [
      "caress fli die mule deni die agre own humbl size meet state siez item sensat tradit refer colon plot\n"
     ]
    }
   ],
   "source": [
    "# note the use of ( ) to break the line into multiple lines\n",
    "from nltk.stem.porter import *\n",
    "stemmer = PorterStemmer()\n",
    "plurals = (['caresses', 'flies', 'dies', 'mules', 'denied','died', 'agreed', 'owned', \n",
    "            'humbled', 'sized','meeting', 'stating', 'siezing', 'itemization',\n",
    "            'sensational', 'traditional', 'reference', 'colonizer','plotted'])\n",
    "singles = [stemmer.stem(plural) for plural in plurals]\n",
    "print(' '.join(singles))"
   ]
  },
  {
   "cell_type": "code",
   "execution_count": null,
   "metadata": {},
   "outputs": [],
   "source": []
  }
 ],
 "metadata": {
  "anaconda-cloud": {},
  "kernelspec": {
   "display_name": "Python 3",
   "language": "python",
   "name": "python3"
  },
  "language_info": {
   "codemirror_mode": {
    "name": "ipython",
    "version": 3
   },
   "file_extension": ".py",
   "mimetype": "text/x-python",
   "name": "python",
   "nbconvert_exporter": "python",
   "pygments_lexer": "ipython3",
   "version": "3.7.6"
  },
  "toc": {
   "base_numbering": 1,
   "nav_menu": {},
   "number_sections": true,
   "sideBar": true,
   "skip_h1_title": false,
   "title_cell": "Table of Contents",
   "title_sidebar": "Contents",
   "toc_cell": false,
   "toc_position": {},
   "toc_section_display": true,
   "toc_window_display": false
  }
 },
 "nbformat": 4,
 "nbformat_minor": 1
}
