{
 "cells": [
  {
   "cell_type": "code",
   "execution_count": 5,
   "metadata": {},
   "outputs": [
    {
     "name": "stdout",
     "output_type": "stream",
     "text": [
      "Requirement already satisfied: transformers in /Users/yanivbronshtein/opt/anaconda3/lib/python3.7/site-packages (4.12.5)\n",
      "Requirement already satisfied: huggingface-hub<1.0,>=0.1.0 in /Users/yanivbronshtein/opt/anaconda3/lib/python3.7/site-packages (from transformers) (0.1.2)\n",
      "Requirement already satisfied: tqdm>=4.27 in /Users/yanivbronshtein/opt/anaconda3/lib/python3.7/site-packages (from transformers) (4.42.1)\n",
      "Requirement already satisfied: requests in /Users/yanivbronshtein/opt/anaconda3/lib/python3.7/site-packages (from transformers) (2.22.0)\n",
      "Requirement already satisfied: tokenizers<0.11,>=0.10.1 in /Users/yanivbronshtein/opt/anaconda3/lib/python3.7/site-packages (from transformers) (0.10.3)\n",
      "Requirement already satisfied: numpy>=1.17 in /Users/yanivbronshtein/opt/anaconda3/lib/python3.7/site-packages (from transformers) (1.21.4)\n",
      "Requirement already satisfied: filelock in /Users/yanivbronshtein/opt/anaconda3/lib/python3.7/site-packages (from transformers) (3.0.12)\n",
      "Requirement already satisfied: importlib-metadata in /Users/yanivbronshtein/opt/anaconda3/lib/python3.7/site-packages (from transformers) (1.5.0)\n",
      "Requirement already satisfied: packaging>=20.0 in /Users/yanivbronshtein/opt/anaconda3/lib/python3.7/site-packages (from transformers) (21.3)\n",
      "Requirement already satisfied: regex!=2019.12.17 in /Users/yanivbronshtein/opt/anaconda3/lib/python3.7/site-packages (from transformers) (2021.11.10)\n",
      "Requirement already satisfied: sacremoses in /Users/yanivbronshtein/opt/anaconda3/lib/python3.7/site-packages (from transformers) (0.0.46)\n",
      "Requirement already satisfied: pyyaml>=5.1 in /Users/yanivbronshtein/opt/anaconda3/lib/python3.7/site-packages (from transformers) (5.3)\n",
      "Requirement already satisfied: typing-extensions>=3.7.4.3 in /Users/yanivbronshtein/opt/anaconda3/lib/python3.7/site-packages (from huggingface-hub<1.0,>=0.1.0->transformers) (4.0.0)\n",
      "Requirement already satisfied: pyparsing!=3.0.5,>=2.0.2 in /Users/yanivbronshtein/opt/anaconda3/lib/python3.7/site-packages (from packaging>=20.0->transformers) (2.4.6)\n",
      "Requirement already satisfied: zipp>=0.5 in /Users/yanivbronshtein/opt/anaconda3/lib/python3.7/site-packages (from importlib-metadata->transformers) (2.2.0)\n",
      "Requirement already satisfied: certifi>=2017.4.17 in /Users/yanivbronshtein/opt/anaconda3/lib/python3.7/site-packages (from requests->transformers) (2019.11.28)\n",
      "Requirement already satisfied: urllib3!=1.25.0,!=1.25.1,<1.26,>=1.21.1 in /Users/yanivbronshtein/opt/anaconda3/lib/python3.7/site-packages (from requests->transformers) (1.25.8)\n",
      "Requirement already satisfied: chardet<3.1.0,>=3.0.2 in /Users/yanivbronshtein/opt/anaconda3/lib/python3.7/site-packages (from requests->transformers) (3.0.4)\n",
      "Requirement already satisfied: idna<2.9,>=2.5 in /Users/yanivbronshtein/opt/anaconda3/lib/python3.7/site-packages (from requests->transformers) (2.8)\n",
      "Requirement already satisfied: click in /Users/yanivbronshtein/opt/anaconda3/lib/python3.7/site-packages (from sacremoses->transformers) (7.0)\n",
      "Requirement already satisfied: joblib in /Users/yanivbronshtein/opt/anaconda3/lib/python3.7/site-packages (from sacremoses->transformers) (0.14.1)\n",
      "Requirement already satisfied: six in /Users/yanivbronshtein/opt/anaconda3/lib/python3.7/site-packages (from sacremoses->transformers) (1.14.0)\n"
     ]
    }
   ],
   "source": [
    "!pip install transformers"
   ]
  },
  {
   "cell_type": "code",
   "execution_count": 4,
   "metadata": {},
   "outputs": [
    {
     "name": "stdout",
     "output_type": "stream",
     "text": [
      "Requirement already satisfied: pytest-cov in /Users/yanivbronshtein/opt/anaconda3/lib/python3.7/site-packages (3.0.0)\n",
      "Requirement already satisfied: pytest>=4.6 in /Users/yanivbronshtein/opt/anaconda3/lib/python3.7/site-packages (from pytest-cov) (5.3.5)\n",
      "Requirement already satisfied: coverage[toml]>=5.2.1 in /Users/yanivbronshtein/opt/anaconda3/lib/python3.7/site-packages (from pytest-cov) (6.1.2)\n",
      "Requirement already satisfied: tomli in /Users/yanivbronshtein/opt/anaconda3/lib/python3.7/site-packages (from coverage[toml]>=5.2.1->pytest-cov) (1.2.2)\n",
      "Requirement already satisfied: py>=1.5.0 in /Users/yanivbronshtein/opt/anaconda3/lib/python3.7/site-packages (from pytest>=4.6->pytest-cov) (1.8.1)\n",
      "Requirement already satisfied: packaging in /Users/yanivbronshtein/opt/anaconda3/lib/python3.7/site-packages (from pytest>=4.6->pytest-cov) (21.3)\n",
      "Requirement already satisfied: attrs>=17.4.0 in /Users/yanivbronshtein/opt/anaconda3/lib/python3.7/site-packages (from pytest>=4.6->pytest-cov) (19.3.0)\n",
      "Requirement already satisfied: more-itertools>=4.0.0 in /Users/yanivbronshtein/opt/anaconda3/lib/python3.7/site-packages (from pytest>=4.6->pytest-cov) (8.2.0)\n",
      "Requirement already satisfied: pluggy<1.0,>=0.12 in /Users/yanivbronshtein/opt/anaconda3/lib/python3.7/site-packages (from pytest>=4.6->pytest-cov) (0.13.1)\n",
      "Requirement already satisfied: wcwidth in /Users/yanivbronshtein/opt/anaconda3/lib/python3.7/site-packages (from pytest>=4.6->pytest-cov) (0.1.8)\n",
      "Requirement already satisfied: importlib-metadata>=0.12 in /Users/yanivbronshtein/opt/anaconda3/lib/python3.7/site-packages (from pytest>=4.6->pytest-cov) (1.5.0)\n",
      "Requirement already satisfied: zipp>=0.5 in /Users/yanivbronshtein/opt/anaconda3/lib/python3.7/site-packages (from importlib-metadata>=0.12->pytest>=4.6->pytest-cov) (2.2.0)\n",
      "Requirement already satisfied: pyparsing!=3.0.5,>=2.0.2 in /Users/yanivbronshtein/opt/anaconda3/lib/python3.7/site-packages (from packaging->pytest>=4.6->pytest-cov) (2.4.6)\n"
     ]
    }
   ],
   "source": [
    "!pip install pytest-cov"
   ]
  },
  {
   "cell_type": "code",
   "execution_count": 3,
   "metadata": {},
   "outputs": [
    {
     "name": "stdout",
     "output_type": "stream",
     "text": [
      "Collecting pytest-filter-subpackage\n",
      "  Downloading pytest_filter_subpackage-0.1.1-py2.py3-none-any.whl (5.1 kB)\n",
      "Requirement already satisfied: pytest>=3.0 in /Users/yanivbronshtein/opt/anaconda3/lib/python3.7/site-packages (from pytest-filter-subpackage) (5.3.5)\n",
      "Requirement already satisfied: py>=1.5.0 in /Users/yanivbronshtein/opt/anaconda3/lib/python3.7/site-packages (from pytest>=3.0->pytest-filter-subpackage) (1.8.1)\n",
      "Requirement already satisfied: packaging in /Users/yanivbronshtein/opt/anaconda3/lib/python3.7/site-packages (from pytest>=3.0->pytest-filter-subpackage) (21.3)\n",
      "Requirement already satisfied: attrs>=17.4.0 in /Users/yanivbronshtein/opt/anaconda3/lib/python3.7/site-packages (from pytest>=3.0->pytest-filter-subpackage) (19.3.0)\n",
      "Requirement already satisfied: more-itertools>=4.0.0 in /Users/yanivbronshtein/opt/anaconda3/lib/python3.7/site-packages (from pytest>=3.0->pytest-filter-subpackage) (8.2.0)\n",
      "Requirement already satisfied: pluggy<1.0,>=0.12 in /Users/yanivbronshtein/opt/anaconda3/lib/python3.7/site-packages (from pytest>=3.0->pytest-filter-subpackage) (0.13.1)\n",
      "Requirement already satisfied: wcwidth in /Users/yanivbronshtein/opt/anaconda3/lib/python3.7/site-packages (from pytest>=3.0->pytest-filter-subpackage) (0.1.8)\n",
      "Requirement already satisfied: importlib-metadata>=0.12 in /Users/yanivbronshtein/opt/anaconda3/lib/python3.7/site-packages (from pytest>=3.0->pytest-filter-subpackage) (1.5.0)\n",
      "Requirement already satisfied: zipp>=0.5 in /Users/yanivbronshtein/opt/anaconda3/lib/python3.7/site-packages (from importlib-metadata>=0.12->pytest>=3.0->pytest-filter-subpackage) (2.2.0)\n",
      "Requirement already satisfied: pyparsing!=3.0.5,>=2.0.2 in /Users/yanivbronshtein/opt/anaconda3/lib/python3.7/site-packages (from packaging->pytest>=3.0->pytest-filter-subpackage) (2.4.6)\n",
      "Installing collected packages: pytest-filter-subpackage\n",
      "Successfully installed pytest-filter-subpackage-0.1.1\n"
     ]
    }
   ],
   "source": [
    "!pip install pytest-filter-subpackage"
   ]
  },
  {
   "cell_type": "code",
   "execution_count": null,
   "metadata": {},
   "outputs": [],
   "source": []
  }
 ],
 "metadata": {
  "kernelspec": {
   "display_name": "Python 3",
   "language": "python",
   "name": "python3"
  },
  "language_info": {
   "codemirror_mode": {
    "name": "ipython",
    "version": 3
   },
   "file_extension": ".py",
   "mimetype": "text/x-python",
   "name": "python",
   "nbconvert_exporter": "python",
   "pygments_lexer": "ipython3",
   "version": "3.7.6"
  }
 },
 "nbformat": 4,
 "nbformat_minor": 4
}
