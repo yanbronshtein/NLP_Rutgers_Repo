{
 "cells": [
  {
   "cell_type": "code",
   "execution_count": 76,
   "metadata": {},
   "outputs": [
    {
     "name": "stdout",
     "output_type": "stream",
     "text": [
      "Collecting package metadata (current_repodata.json): done\n",
      "Solving environment: / \n",
      "The environment is inconsistent, please check the package plan carefully\n",
      "The following packages are causing the inconsistency:\n",
      "\n",
      "  - defaults/noarch::tifffile==2021.7.2=pyhd3eb1b0_2\n",
      "  - defaults/osx-64::python-language-server==0.31.7=py37_0\n",
      "  - defaults/osx-64::scikit-learn==1.0.1=py37hae1ba45_0\n",
      "  - defaults/osx-64::scipy==1.4.1=py37h9fa6033_0\n",
      "  - defaults/osx-64::matplotlib==3.1.3=py37_0\n",
      "  - defaults/osx-64::bokeh==1.4.0=py37_0\n",
      "  - defaults/osx-64::bottleneck==1.3.2=py37h776bbcc_0\n",
      "  - defaults/osx-64::spyder==4.0.1=py37_0\n",
      "  - defaults/osx-64::daal4py==2021.3.0=py37h01d92e1_0\n",
      "  - defaults/noarch::pytest-astropy==0.8.0=py_0\n",
      "  - defaults/osx-64::astropy==4.0=py37h1de35cc_0\n",
      "  - defaults/noarch::nbclient==0.5.3=pyhd3eb1b0_0\n",
      "  - defaults/osx-64::pytest-arraydiff==0.3=py37h39e3cac_0\n",
      "  - defaults/noarch::nbclassic==0.2.6=pyhd3eb1b0_0\n",
      "  - defaults/osx-64::pywavelets==1.1.1=py37h1de35cc_0\n",
      "  - defaults/osx-64::bkcharts==0.2=py37_0\n",
      "  - defaults/osx-64::numexpr==2.7.1=py37hce01a72_0\n",
      "  - defaults/osx-64::imagecodecs==2021.8.26=py37ha952a84_0\n",
      "  - defaults/osx-64::numba==0.48.0=py37h6c726b0_0\n",
      "  - defaults/noarch::pytest-doctestplus==0.5.0=py_0\n",
      "  - defaults/osx-64::matplotlib-base==3.1.3=py37h9aa3819_0\n",
      "  - defaults/osx-64::pytables==3.6.1=py37h5bccee9_0\n",
      "  - defaults/osx-64::statsmodels==0.11.0=py37h1de35cc_0\n",
      "  - defaults/osx-64::mkl_fft==1.0.15=py37h5e564d8_0\n",
      "  - defaults/osx-64::pyerfa==2.0.0=py37h9ed2024_0\n",
      "  - defaults/osx-64::numpy==1.18.1=py37h7241aed_0\n",
      "  - defaults/osx-64::scikit-image==0.16.2=py37h6c726b0_0\n",
      "  - defaults/osx-64::imageio==2.6.1=py37_0\n",
      "  - defaults/osx-64::scikit-learn-intelex==2021.3.0=py37hecd8cb5_0\n",
      "  - defaults/osx-64::h5py==2.10.0=py37h3134771_0\n",
      "  - defaults/osx-64::patsy==0.5.1=py37_0\n",
      "  - defaults/osx-64::pandas==1.3.4=py37h743cdd8_0\n",
      "  - defaults/osx-64::mkl_random==1.1.0=py37ha771720_0\n",
      "  - defaults/osx-64::_anaconda_depends==2021.11=py37_0\n",
      "  - defaults/osx-64::jupyter_server==1.4.1=py37hecd8cb5_0\n",
      "  - defaults/osx-64::anaconda==custom=py37_1\n",
      "  - defaults/noarch::dask==2.11.0=py_0\n",
      "  - defaults/noarch::seaborn==0.10.0=py_0\n",
      "failed with initial frozen solve. Retrying with flexible solve.\n",
      "Solving environment: failed with repodata from current_repodata.json, will retry with next repodata source.\n",
      "Collecting package metadata (repodata.json): done\n",
      "Solving environment: - \n",
      "The environment is inconsistent, please check the package plan carefully\n",
      "The following packages are causing the inconsistency:\n",
      "\n",
      "  - defaults/noarch::babel==2.9.1=pyhd3eb1b0_0\n",
      "  - defaults/noarch::tifffile==2021.7.2=pyhd3eb1b0_2\n",
      "  - defaults/noarch::python-slugify==5.0.2=pyhd3eb1b0_0\n",
      "  - defaults/noarch::qtpy==1.10.0=pyhd3eb1b0_0\n",
      "  - defaults/osx-64::python-language-server==0.31.7=py37_0\n",
      "  - defaults/noarch::networkx==2.6.3=pyhd3eb1b0_0\n",
      "  - defaults/noarch::xmltodict==0.12.0=pyhd3eb1b0_0\n",
      "  - defaults/osx-64::tbb4py==2021.4.0=py37haf03e11_0\n",
      "  - defaults/noarch::ptyprocess==0.7.0=pyhd3eb1b0_2\n",
      "  - defaults/osx-64::scikit-learn==1.0.1=py37hae1ba45_0\n",
      "  - defaults/noarch::cookiecutter==1.7.2=pyhd3eb1b0_0\n",
      "  - defaults/osx-64::xlwings==0.24.9=py37hecd8cb5_0\n",
      "  - defaults/osx-64::jupyter_core==4.9.1=py37hecd8cb5_0\n",
      "  - defaults/osx-64::scipy==1.4.1=py37h9fa6033_0\n",
      "  - defaults/noarch::jupyterlab_widgets==1.0.0=pyhd3eb1b0_1\n",
      "  - defaults/noarch::yapf==0.31.0=pyhd3eb1b0_0\n",
      "  - defaults/osx-64::gevent==21.8.0=py37h9ed2024_1\n",
      "  - defaults/osx-64::matplotlib==3.1.3=py37_0\n",
      "  - defaults/osx-64::pyqt==5.9.2=py37h655552a_2\n",
      "  - defaults/osx-64::lazy-object-proxy==1.6.0=py37h9ed2024_0\n",
      "  - defaults/noarch::poyo==0.5.0=pyhd3eb1b0_0\n",
      "  - defaults/osx-64::bokeh==1.4.0=py37_0\n",
      "  - defaults/noarch::pytest-astropy-header==0.1.2=pyhd3eb1b0_0\n",
      "  - defaults/noarch::pycodestyle==2.7.0=pyhd3eb1b0_0\n",
      "  - defaults/osx-64::notebook==6.0.3=py37_0\n",
      "  - defaults/osx-64::pyzmq==22.2.1=py37h23ab428_1\n",
      "  - defaults/noarch::py==1.10.0=pyhd3eb1b0_0\n",
      "  - defaults/noarch::qdarkstyle==3.0.2=pyhd3eb1b0_0\n",
      "  - defaults/osx-64::bottleneck==1.3.2=py37h776bbcc_0\n",
      "  - defaults/osx-64::msgpack-python==1.0.2=py37hf7b0b51_1\n",
      "  - defaults/osx-64::jupyter==1.0.0=py37_7\n",
      "  - defaults/osx-64::pyyaml==6.0=py37hca72f7f_1\n",
      "  - defaults/osx-64::pkginfo==1.7.1=py37hecd8cb5_0\n",
      "  - defaults/osx-64::spyder==4.0.1=py37_0\n",
      "  - defaults/osx-64::pycrypto==2.6.1=py37haf1e3a3_10\n",
      "  - defaults/osx-64::widgetsnbextension==3.5.1=py37_0\n",
      "  - defaults/noarch::importlib_metadata==4.8.1=hd3eb1b0_0\n",
      "  - defaults/osx-64::get_terminal_size==1.0.0=h7520d66_0\n",
      "  - defaults/osx-64::bitarray==2.3.0=py37h9ed2024_1\n",
      "  - defaults/osx-64::jedi==0.18.0=py37hecd8cb5_1\n",
      "  - defaults/noarch::charset-normalizer==2.0.4=pyhd3eb1b0_0\n",
      "  - defaults/noarch::backports==1.0=pyhd3eb1b0_2\n",
      "  - defaults/noarch::threadpoolctl==2.2.0=pyh0d69192_0\n",
      "  - defaults/osx-64::mpmath==1.2.1=py37hecd8cb5_0\n",
      "  - defaults/noarch::click==8.0.3=pyhd3eb1b0_0\n",
      "  - defaults/noarch::sortedcontainers==2.4.0=pyhd3eb1b0_0\n",
      "  - defaults/noarch::path.py==12.5.0=hd3eb1b0_0\n",
      "  - defaults/osx-64::daal4py==2021.3.0=py37h01d92e1_0\n",
      "  - defaults/osx-64::alabaster==0.7.12=py37_0\n",
      "  - defaults/osx-64::mkl-service==2.4.0=py37h9ed2024_0\n",
      "  - defaults/noarch::python-lsp-black==1.0.0=pyhd3eb1b0_0\n",
      "  - defaults/noarch::munkres==1.1.4=py_0\n",
      "  - defaults/osx-64::cycler==0.10.0=py37_0\n",
      "  - defaults/noarch::pytest-astropy==0.8.0=py_0\n",
      "  - defaults/noarch::isort==5.9.3=pyhd3eb1b0_0\n",
      "  - defaults/noarch::itsdangerous==2.0.1=pyhd3eb1b0_0\n",
      "  - defaults/noarch::jupyter_console==6.1.0=py_0\n",
      "  - defaults/osx-64::astropy==4.0=py37h1de35cc_0\n",
      "  - defaults/osx-64::mypy_extensions==0.4.3=py37_0\n",
      "  - defaults/osx-64::typed-ast==1.4.3=py37h9ed2024_1\n",
      "  - defaults/osx-64::pandocfilters==1.4.3=py37hecd8cb5_1\n",
      "  - defaults/osx-64::pysocks==1.7.1=py37hecd8cb5_0\n",
      "  - defaults/osx-64::astroid==2.6.6=py37hecd8cb5_0\n",
      "  - defaults/osx-64::clyent==1.2.2=py37_1\n",
      "  - defaults/noarch::defusedxml==0.7.1=pyhd3eb1b0_0\n",
      "  - defaults/noarch::idna==3.2=pyhd3eb1b0_0\n",
      "  - defaults/osx-64::kiwisolver==1.3.1=py37h23ab428_0\n",
      "  - defaults/noarch::typing-extensions==3.10.0.2=hd3eb1b0_0\n",
      "  - defaults/noarch::atomicwrites==1.4.0=py_0\n",
      "  - defaults/noarch::decorator==5.1.0=pyhd3eb1b0_0\n",
      "  - defaults/osx-64::wurlitzer==2.1.1=py37hecd8cb5_0\n",
      "  - defaults/osx-64::mistune==0.8.4=py37h1de35cc_0\n",
      "  - defaults/osx-64::inflection==0.5.1=py37hecd8cb5_0\n",
      "  - defaults/noarch::nbclient==0.5.3=pyhd3eb1b0_0\n",
      "  - defaults/osx-64::importlib-metadata==4.8.1=py37hecd8cb5_0\n",
      "  - defaults/noarch::sphinxcontrib-htmlhelp==2.0.0=pyhd3eb1b0_0\n",
      "  - defaults/noarch::backports.functools_lru_cache==1.6.4=pyhd3eb1b0_0\n",
      "  - defaults/osx-64::regex==2021.8.3=py37h9ed2024_0\n",
      "  - defaults/noarch::dask-core==2.11.0=py_0\n",
      "  - defaults/osx-64::pytest-arraydiff==0.3=py37h39e3cac_0\n",
      "  - defaults/noarch::ipywidgets==7.5.1=py_0\n",
      "  - defaults/osx-64::nbconvert==5.6.1=py37_0\n",
      "  - defaults/noarch::jdcal==1.4.1=pyhd3eb1b0_0\n",
      "  - defaults/noarch::pycparser==2.21=pyhd3eb1b0_0\n",
      "  - defaults/noarch::nose==1.3.7=pyhd3eb1b0_1006\n",
      "  - defaults/noarch::binaryornot==0.4.4=pyhd3eb1b0_1\n",
      "  - defaults/noarch::nbclassic==0.2.6=pyhd3eb1b0_0\n",
      "  - defaults/osx-64::pywavelets==1.1.1=py37h1de35cc_0\n",
      "  - defaults/noarch::openpyxl==3.0.9=pyhd3eb1b0_0\n",
      "  - defaults/noarch::pyls-spyder==0.4.0=pyhd3eb1b0_0\n",
      "  - defaults/osx-64::greenlet==1.1.1=py37h23ab428_0\n",
      "  - defaults/noarch::anaconda-project==0.8.4=py_0\n",
      "  - defaults/osx-64::conda-package-handling==1.7.3=py37h9ed2024_1\n",
      "  - defaults/noarch::json5==0.9.6=pyhd3eb1b0_0\n",
      "  - defaults/osx-64::future==0.18.2=py37_1\n",
      "  - defaults/noarch::pytz==2021.3=pyhd3eb1b0_0\n",
      "  - defaults/osx-64::keyring==23.1.0=py37hecd8cb5_0\n",
      "  - defaults/noarch::tqdm==4.62.3=pyhd3eb1b0_1\n",
      "  - defaults/noarch::xlsxwriter==3.0.2=pyhd3eb1b0_0\n",
      "  - defaults/noarch::urllib3==1.26.7=pyhd3eb1b0_0\n",
      "  - defaults/noarch::backports.tempfile==1.0=pyhd3eb1b0_1\n",
      "  - defaults/osx-64::argon2-cffi==20.1.0=py37h9ed2024_1\n",
      "  - defaults/noarch::fsspec==2021.10.1=pyhd3eb1b0_0\n",
      "  - defaults/noarch::sphinxcontrib-jsmath==1.0.1=pyhd3eb1b0_0\n",
      "  - defaults/noarch::jinja2==2.11.3=pyhd3eb1b0_0\n",
      "  - defaults/noarch::conda-content-trust==0.1.1=pyhd3eb1b0_0\n",
      "  - defaults/osx-64::anaconda-navigator==1.9.12=py37_0\n",
      "  - defaults/noarch::whichcraft==0.6.1=pyhd3eb1b0_0\n",
      "  - defaults/noarch::pexpect==4.8.0=pyhd3eb1b0_3\n",
      "  - defaults/osx-64::ply==3.11=py37_0\n",
      "  - defaults/osx-64::sympy==1.9=py37hecd8cb5_0\n",
      "  - defaults/noarch::fonttools==4.25.0=pyhd3eb1b0_0\n",
      "  - defaults/osx-64::locket==0.2.1=py37hecd8cb5_1\n",
      "  - defaults/osx-64::bkcharts==0.2=py37_0\n",
      "  - defaults/osx-64::pluggy==0.13.1=py37hecd8cb5_0\n",
      "  - defaults/noarch::six==1.16.0=pyhd3eb1b0_0\n",
      "  - defaults/noarch::pathspec==0.7.0=py_0\n",
      "  - defaults/noarch::parso==0.8.2=pyhd3eb1b0_0\n",
      "  - defaults/noarch::python-jsonrpc-server==0.3.4=py_0\n",
      "  - defaults/noarch::sphinx==4.2.0=pyhd3eb1b0_1\n",
      "  - defaults/osx-64::numexpr==2.7.1=py37hce01a72_0\n",
      "  - defaults/osx-64::imagecodecs==2021.8.26=py37ha952a84_0\n",
      "  - defaults/noarch::partd==1.2.0=pyhd3eb1b0_0\n",
      "  - defaults/noarch::singledispatch==3.7.0=pyhd3eb1b0_1001\n",
      "  - defaults/noarch::dataclasses==0.8=pyh6d0b6a4_7\n",
      "  - defaults/osx-64::numba==0.48.0=py37h6c726b0_0\n",
      "  - defaults/noarch::numpydoc==1.1.0=pyhd3eb1b0_1\n",
      "  - defaults/noarch::pytest-doctestplus==0.5.0=py_0\n",
      "  - defaults/osx-64::chardet==4.0.0=py37hecd8cb5_1003\n",
      "  - defaults/noarch::jupyterlab_server==1.0.6=py_0\n",
      "  - defaults/osx-64::lxml==4.6.3=py37h26b266a_0\n",
      "  - defaults/osx-64::matplotlib-base==3.1.3=py37h9aa3819_0\n",
      "  - defaults/osx-64::appscript==1.1.2=py37h9ed2024_0\n",
      "  - defaults/osx-64::llvmlite==0.31.0=py37h1341992_0\n",
      "  - defaults/noarch::snowballstemmer==2.1.0=pyhd3eb1b0_0\n",
      "  - defaults/osx-64::appnope==0.1.2=py37hecd8cb5_1001\n",
      "  - defaults/noarch::pytest-openfiles==0.5.0=pyhd3eb1b0_0\n",
      "  - defaults/osx-64::distributed==2.11.0=py37_0\n",
      "  - defaults/noarch::rope==0.21.1=pyhd3eb1b0_0\n",
      "  - defaults/noarch::text-unidecode==1.3=pyhd3eb1b0_0\n",
      "  - defaults/osx-64::zope==1.0=py37_1\n",
      "  - defaults/osx-64::path==16.0.0=py37hecd8cb5_0\n",
      "  - defaults/osx-64::python.app==2=py37_10\n",
      "  - defaults/noarch::pyflakes==2.3.1=pyhd3eb1b0_0\n",
      "  - defaults/noarch::tblib==1.7.0=pyhd3eb1b0_0\n",
      "  - defaults/osx-64::cffi==1.14.6=py37h2125817_0\n",
      "  - defaults/osx-64::traitlets==4.3.3=py37hecd8cb5_0\n",
      "  - defaults/noarch::python-dateutil==2.8.2=pyhd3eb1b0_0\n",
      "  - defaults/noarch::typing_extensions==3.10.0.2=pyh06a4308_0\n",
      "  - defaults/osx-64::psutil==5.8.0=py37h9ed2024_1\n",
      "  - defaults/noarch::diff-match-patch==20200713=pyhd3eb1b0_0\n",
      "  - defaults/osx-64::pytables==3.6.1=py37h5bccee9_0\n",
      "  - defaults/osx-64::watchdog==2.1.3=py37hd5f6b7e_0\n",
      "  - defaults/osx-64::zope.interface==5.4.0=py37h9ed2024_0\n",
      "  - defaults/osx-64::statsmodels==0.11.0=py37h1de35cc_0\n",
      "  - defaults/noarch::sphinxcontrib-applehelp==1.0.2=pyhd3eb1b0_0\n",
      "  - defaults/noarch::wcwidth==0.2.5=pyhd3eb1b0_0\n",
      "  - defaults/noarch::unidecode==1.2.0=pyhd3eb1b0_0\n",
      "  - defaults/osx-64::conda-build==3.18.11=py37_0\n",
      "  - defaults/osx-64::brotlipy==0.7.0=py37h9ed2024_1003\n",
      "  - defaults/osx-64::anyio==2.2.0=py37hecd8cb5_1\n",
      "  - defaults/noarch::prompt_toolkit==3.0.20=hd3eb1b0_0\n",
      "  - defaults/noarch::xlrd==2.0.1=pyhd3eb1b0_0\n",
      "  - defaults/noarch::conda-verify==3.4.2=py_1\n",
      "  - defaults/osx-64::setuptools==58.0.4=py37hecd8cb5_0\n",
      "  - defaults/osx-64::mkl_fft==1.0.15=py37h5e564d8_0\n",
      "  - defaults/noarch::send2trash==1.8.0=pyhd3eb1b0_1\n",
      "  - defaults/noarch::flake8==3.9.2=pyhd3eb1b0_0\n",
      "  - defaults/osx-64::anaconda-client==1.9.0=py37hecd8cb5_0\n",
      "  - defaults/noarch::attrs==21.2.0=pyhd3eb1b0_0\n",
      "  - defaults/noarch::iniconfig==1.1.1=pyhd3eb1b0_0\n",
      "  - defaults/noarch::html5lib==1.1=pyhd3eb1b0_0\n",
      "  - defaults/osx-64::gmpy2==2.0.8=py37h6ef4df4_2\n",
      "  - defaults/noarch::mock==4.0.3=pyhd3eb1b0_0\n",
      "  - defaults/noarch::requests==2.26.0=pyhd3eb1b0_0\n",
      "  - defaults/noarch::pathtools==0.1.2=py_1\n",
      "  - defaults/osx-64::ipython==7.29.0=py37h01d92e1_0\n",
      "  - defaults/noarch::nest-asyncio==1.5.1=pyhd3eb1b0_0\n",
      "  - defaults/osx-64::pyerfa==2.0.0=py37h9ed2024_0\n",
      "  - defaults/noarch::jupyterlab_pygments==0.1.2=py_0\n",
      "  - defaults/osx-64::pip==21.2.2=py37hecd8cb5_0\n",
      "  - defaults/noarch::testpath==0.5.0=pyhd3eb1b0_0\n",
      "  - defaults/noarch::textdistance==4.2.1=pyhd3eb1b0_0\n",
      "  - defaults/noarch::ipython_genutils==0.2.0=pyhd3eb1b0_1\n",
      "  - defaults/osx-64::numpy==1.18.1=py37h7241aed_0\n",
      "  - defaults/osx-64::webencodings==0.5.1=py37_1\n",
      "  - defaults/noarch::more-itertools==8.10.0=pyhd3eb1b0_0\n",
      "  - defaults/osx-64::entrypoints==0.3=py37_0\n",
      "  - defaults/osx-64::ujson==4.0.2=py37h23ab428_0\n",
      "  - defaults/noarch::toml==0.10.2=pyhd3eb1b0_0\n",
      "  - defaults/osx-64::wrapt==1.12.1=py37h1de35cc_1\n",
      "  - defaults/noarch::jinja2-time==0.2.0=pyhd3eb1b0_2\n",
      "  - defaults/noarch::bleach==4.0.0=pyhd3eb1b0_0\n",
      "  - defaults/osx-64::xlwt==1.3.0=py37_0\n",
      "  - defaults/osx-64::scikit-image==0.16.2=py37h6c726b0_0\n",
      "  - defaults/osx-64::certifi==2021.10.8=py37hecd8cb5_0\n",
      "  - defaults/osx-64::py-lief==0.10.1=py37haf313ee_0\n",
      "  - defaults/osx-64::debugpy==1.5.1=py37he9d5cce_0\n",
      "  - defaults/noarch::sphinxcontrib-qthelp==1.0.3=pyhd3eb1b0_0\n",
      "  - defaults/noarch::cloudpickle==2.0.0=pyhd3eb1b0_0\n",
      "  - defaults/osx-64::imageio==2.6.1=py37_0\n",
      "  - defaults/noarch::three-merge==0.1.1=pyhd3eb1b0_0\n",
      "  - defaults/noarch::python-lsp-jsonrpc==1.0.0=pyhd3eb1b0_0\n",
      "  - defaults/noarch::backcall==0.2.0=pyhd3eb1b0_0\n",
      "  - defaults/noarch::matplotlib-inline==0.1.2=pyhd3eb1b0_2\n",
      "  - defaults/noarch::qstylizer==0.1.10=pyhd3eb1b0_0\n",
      "  - defaults/noarch::jsonschema==3.2.0=pyhd3eb1b0_2\n",
      "  - defaults/osx-64::cytoolz==0.11.0=py37haf1e3a3_0\n",
      "  - defaults/osx-64::simplegeneric==0.8.1=py37_2\n",
      "  - defaults/osx-64::olefile==0.46=py37_0\n",
      "  - defaults/noarch::pydocstyle==6.1.1=pyhd3eb1b0_0\n",
      "  - defaults/noarch::glob2==0.7=pyhd3eb1b0_0\n",
      "  - defaults/osx-64::zope.event==4.5.0=py37_0\n",
      "  - defaults/osx-64::rtree==0.9.7=py37hecd8cb5_1\n",
      "  - defaults/osx-64::jupyter_client==5.3.4=py37_0\n",
      "  - defaults/noarch::backports.shutil_get_terminal_size==1.0.0=pyhd3eb1b0_3\n",
      "  - defaults/noarch::nltk==3.6.5=pyhd3eb1b0_0\n",
      "  - defaults/osx-64::scikit-learn-intelex==2021.3.0=py37hecd8cb5_0\n",
      "  - defaults/osx-64::async_generator==1.10=py37h28b3542_0\n",
      "  - defaults/noarch::flask==1.1.2=pyhd3eb1b0_0\n",
      "  - defaults/noarch::black==19.10b0=py_0\n",
      "  - defaults/osx-64::pyodbc==4.0.31=py37h23ab428_0\n",
      "  - defaults/noarch::pygments==2.10.0=pyhd3eb1b0_0\n",
      "  - defaults/noarch::nbformat==5.1.3=pyhd3eb1b0_0\n",
      "  - defaults/noarch::prompt-toolkit==3.0.20=pyhd3eb1b0_0\n",
      "  - defaults/osx-64::h5py==2.10.0=py37h3134771_0\n",
      "  - defaults/noarch::contextlib2==0.6.0.post1=pyhd3eb1b0_0\n",
      "  - defaults/noarch::pyopenssl==21.0.0=pyhd3eb1b0_1\n",
      "  - defaults/noarch::qtawesome==1.0.3=pyhd3eb1b0_0\n",
      "  - defaults/noarch::heapdict==1.0.1=pyhd3eb1b0_0\n",
      "  - defaults/osx-64::pytest==6.2.4=py37hecd8cb5_2\n",
      "  - defaults/noarch::appdirs==1.4.4=pyhd3eb1b0_0\n",
      "  - defaults/noarch::tinycss==0.4=pyhd3eb1b0_1002\n",
      "  - defaults/noarch::filelock==3.3.1=pyhd3eb1b0_1\n",
      "  - defaults/osx-64::markupsafe==1.1.1=py37h1de35cc_0\n",
      "  - defaults/noarch::sphinxcontrib-serializinghtml==1.1.5=pyhd3eb1b0_0\n",
      "  - defaults/osx-64::python==3.7.6=h359304d_2\n",
      "  - defaults/osx-64::cryptography==35.0.0=py37h2fd3fbb_0\n",
      "  - defaults/noarch::argcomplete==1.12.3=pyhd3eb1b0_0\n",
      "  - defaults/osx-64::pytest-remotedata==0.3.2=py37_0\n",
      "  - defaults/osx-64::sip==4.19.8=py37h0a44026_0\n",
      "  - defaults/osx-64::cython==0.29.24=py37he9d5cce_0\n",
      "  - defaults/noarch::beautifulsoup4==4.10.0=pyh06a4308_0\n",
      "  - defaults/osx-64::conda==4.10.3=py37hecd8cb5_0\n",
      "  - defaults/osx-64::sqlalchemy==1.4.22=py37h9ed2024_0\n",
      "  - defaults/noarch::hypothesis==6.14.1=pyhd3eb1b0_0\n",
      "  - defaults/osx-64::patsy==0.5.1=py37_0\n",
      "  - defaults/osx-64::multipledispatch==0.6.0=py37_0\n",
      "  - defaults/noarch::soupsieve==2.3.1=pyhd3eb1b0_0\n",
      "  - defaults/osx-64::numpy-base==1.21.2=py37he0bd621_0\n",
      "  - defaults/noarch::intervaltree==3.1.0=pyhd3eb1b0_0\n",
      "  - defaults/osx-64::_ipyw_jlab_nb_ext_conf==0.1.0=py37_0\n",
      "  - defaults/noarch::werkzeug==2.0.2=pyhd3eb1b0_0\n",
      "  - defaults/osx-64::pandas==1.3.4=py37h743cdd8_0\n",
      "  - defaults/osx-64::unicodecsv==0.14.1=py37_0\n",
      "  - defaults/noarch::python-lsp-server==1.2.4=pyhd3eb1b0_0\n",
      "  - defaults/noarch::applaunchservices==0.2.1=pyhd3eb1b0_0\n",
      "  - defaults/noarch::python-libarchive-c==2.9=pyhd3eb1b0_1\n",
      "  - defaults/osx-64::spyder-kernels==1.8.1=py37_0\n",
      "  - defaults/osx-64::ruamel_yaml==0.15.100=py37h9ed2024_0\n",
      "  - defaults/noarch::toolz==0.11.2=pyhd3eb1b0_0\n",
      "  - defaults/noarch::conda-token==0.3.0=pyhd3eb1b0_0\n",
      "  - defaults/osx-64::docutils==0.17.1=py37hecd8cb5_1\n",
      "  - defaults/osx-64::mkl_random==1.1.0=py37ha771720_0\n",
      "  - defaults/noarch::qtconsole==4.6.0=py_1\n",
      "  - defaults/osx-64::pathlib2==2.3.6=py37hecd8cb5_2\n",
      "  - defaults/osx-64::mccabe==0.6.1=py37_1\n",
      "  - defaults/osx-64::fastcache==1.1.0=py37h1de35cc_0\n",
      "  - defaults/noarch::jupyterlab==1.2.6=pyhf63ae98_0\n",
      "  - defaults/noarch::pyparsing==3.0.4=pyhd3eb1b0_0\n",
      "  - defaults/osx-64::sniffio==1.2.0=py37hecd8cb5_1\n",
      "  - defaults/noarch::sortedcollections==2.1.0=pyhd3eb1b0_0\n",
      "  - defaults/osx-64::argh==0.26.2=py37_0\n",
      "  - defaults/osx-64::arrow==0.13.1=py37_0\n",
      "  - defaults/noarch::autopep8==1.5.7=pyhd3eb1b0_0\n",
      "  - defaults/noarch::colorama==0.4.4=pyhd3eb1b0_0\n",
      "  - defaults/osx-64::ipykernel==5.1.4=py37h39e3cac_0\n",
      "  - defaults/osx-64::pillow==8.4.0=py37h98e4679_0\n",
      "  - defaults/noarch::wheel==0.37.0=pyhd3eb1b0_1\n",
      "  - defaults/osx-64::pylint==2.9.6=py37hecd8cb5_1\n",
      "  - defaults/noarch::joblib==1.1.0=pyhd3eb1b0_0\n",
      "  - defaults/osx-64::_anaconda_depends==2021.11=py37_0\n",
      "  - defaults/osx-64::pyrsistent==0.18.0=py37hca72f7f_0\n",
      "  - defaults/noarch::zipp==3.6.0=pyhd3eb1b0_0\n",
      "  - defaults/noarch::pickleshare==0.7.5=pyhd3eb1b0_1003\n",
      "  - defaults/osx-64::jupyter_server==1.4.1=py37hecd8cb5_0\n",
      "  - defaults/osx-64::sphinxcontrib==1.0=py37_1\n",
      "  - defaults/osx-64::anaconda==custom=py37_1\n",
      "  - defaults/noarch::sphinxcontrib-devhelp==1.0.2=pyhd3eb1b0_0\n",
      "  - defaults/noarch::packaging==21.3=pyhd3eb1b0_0\n",
      "  - defaults/osx-64::pycosat==0.6.3=py37h9ed2024_0\n",
      "  - defaults/noarch::sphinxcontrib-websupport==1.2.4=py_0\n",
      "  - defaults/noarch::imagesize==1.2.0=pyhd3eb1b0_0\n",
      "  - defaults/osx-64::pycurl==7.44.1=py37hbcfaee0_1\n",
      "  - defaults/osx-64::tornado==6.1=py37h9ed2024_0\n",
      "  - defaults/osx-64::boto==2.49.0=py37_0\n",
      "  - defaults/noarch::prometheus_client==0.12.0=pyhd3eb1b0_0\n",
      "  - defaults/noarch::dask==2.11.0=py_0\n",
      "  - defaults/osx-64::et_xmlfile==1.1.0=py37hecd8cb5_0\n",
      "  - defaults/noarch::backports.weakref==1.0.post1=py_1\n",
      "  - defaults/osx-64::pep8==1.7.1=py37_0\n",
      "  - defaults/noarch::zict==2.0.0=pyhd3eb1b0_0\n",
      "  - defaults/osx-64::terminado==0.8.3=py37_0\n",
      "  - defaults/noarch::asn1crypto==1.4.0=py_0\n",
      "  - defaults/osx-64::navigator-updater==0.2.1=py37_0\n",
      "  - defaults/noarch::seaborn==0.10.0=py_0\n"
     ]
    },
    {
     "name": "stdout",
     "output_type": "stream",
     "text": [
      "failed with initial frozen solve. Retrying with flexible solve.\n",
      "Solving environment: \\ \n",
      "Found conflicts! Looking for incompatible packages.\n",
      "This can take several minutes.  Press CTRL-C to abort.\n",
      "Examining conflict for patsy seaborn astropy scikit-learn-intelex scipy nltk sc- ^C\n",
      "                                                                               failed\n",
      "\n",
      "CondaError: KeyboardInterrupt\n",
      "\n"
     ]
    }
   ],
   "source": [
    "\n",
    "\n",
    "!conda install pytorch torchvision torchaudio -c pytorch\n",
    "\n"
   ]
  },
  {
   "cell_type": "code",
   "execution_count": 33,
   "metadata": {},
   "outputs": [
    {
     "name": "stderr",
     "output_type": "stream",
     "text": [
      "[nltk_data] Downloading package stopwords to\n",
      "[nltk_data]     /Users/yanivbronshtein/nltk_data...\n",
      "[nltk_data]   Package stopwords is already up-to-date!\n"
     ]
    }
   ],
   "source": [
    "import numpy as np\n",
    "import pandas as pd\n",
    "\n",
    "import matplotlib.pyplot as plt\n",
    "import seaborn as sns\n",
    "\n",
    "from sklearn.feature_extraction.text import CountVectorizer\n",
    "from sklearn.feature_extraction.text import TfidfVectorizer\n",
    "\n",
    "from sklearn.naive_bayes import MultinomialNB\n",
    "from sklearn.pipeline import make_pipeline\n",
    "\n",
    "from sklearn.metrics import confusion_matrix\n",
    "from sklearn.metrics import f1_score\n",
    "\n",
    "from sklearn.model_selection import train_test_split\n",
    "from sklearn.neural_network import MLPClassifier\n",
    "\n",
    "from sklearn.preprocessing import OneHotEncoder\n",
    "\n",
    "from sklearn.compose import make_column_transformer\n",
    "\n",
    "from gensim.test.utils import datapath, get_tmpfile\n",
    "from gensim.models import KeyedVectors\n",
    "from gensim.scripts.glove2word2vec import glove2word2vec\n",
    "\n",
    "import nltk.corpus\n",
    "\n",
    "from nltk.corpus import RegexpTokenizer\n",
    "from nltk.corpus import stopwords\n",
    "\n",
    "nltk.download('stopwords')\n",
    "from keras.layers import Dense\n",
    "from keras.layers import Embedding\n",
    "from keras.layers import SimpleRNN\n",
    "from keras.layers import LSTM\n",
    "from keras.models import Sequential\n",
    "\n",
    "from keras.preprocessing import sequence\n",
    "from keras.preprocessing.sequence import pad_sequences\n",
    "from keras.preprocessing.text import Tokenizer\n",
    "\n",
    "from transformers import AutoTokenizer\n",
    "from transformers import AutoModelForSequenceClassification\n",
    "from transformers import AdamW\n",
    "from transformers import get_scheduler\n",
    "\n",
    "import tensorflow as tf\n",
    "\n",
    "import json\n",
    "import string\n",
    "import warnings\n",
    "\n",
    "stopset = stopwords.words('english') + list(string.punctuation)\n",
    "warnings.filterwarnings('ignore')"
   ]
  },
  {
   "cell_type": "code",
   "execution_count": 64,
   "metadata": {},
   "outputs": [],
   "source": [
    "df = pd.read_json('News_Category_Dataset_v2.json', lines=True)\n",
    "df = df.groupby(by='category').head(1000)\n",
    "df['summary'] = df['headline'] + '. ' +  df['short_description']\n",
    "df = df[['summary','category']]"
   ]
  },
  {
   "cell_type": "code",
   "execution_count": 65,
   "metadata": {},
   "outputs": [],
   "source": [
    "category_list = ['POLITICS', 'ENTERTAINMENT', 'TRAVEL', 'BUSINESS', 'SPORTS', 'RELIGION']\n",
    "df_news = df[df['category'].isin(category_list)]"
   ]
  },
  {
   "cell_type": "code",
   "execution_count": 66,
   "metadata": {},
   "outputs": [
    {
     "data": {
      "text/html": [
       "<div>\n",
       "<style scoped>\n",
       "    .dataframe tbody tr th:only-of-type {\n",
       "        vertical-align: middle;\n",
       "    }\n",
       "\n",
       "    .dataframe tbody tr th {\n",
       "        vertical-align: top;\n",
       "    }\n",
       "\n",
       "    .dataframe thead th {\n",
       "        text-align: right;\n",
       "    }\n",
       "</style>\n",
       "<table border=\"1\" class=\"dataframe\">\n",
       "  <thead>\n",
       "    <tr style=\"text-align: right;\">\n",
       "      <th></th>\n",
       "      <th>summary</th>\n",
       "      <th>category</th>\n",
       "    </tr>\n",
       "  </thead>\n",
       "  <tbody>\n",
       "    <tr>\n",
       "      <th>1</th>\n",
       "      <td>Will Smith Joins Diplo And Nicky Jam For The 2...</td>\n",
       "      <td>ENTERTAINMENT</td>\n",
       "    </tr>\n",
       "    <tr>\n",
       "      <th>2</th>\n",
       "      <td>Hugh Grant Marries For The First Time At Age 5...</td>\n",
       "      <td>ENTERTAINMENT</td>\n",
       "    </tr>\n",
       "    <tr>\n",
       "      <th>3</th>\n",
       "      <td>Jim Carrey Blasts 'Castrato' Adam Schiff And D...</td>\n",
       "      <td>ENTERTAINMENT</td>\n",
       "    </tr>\n",
       "    <tr>\n",
       "      <th>4</th>\n",
       "      <td>Julianna Margulies Uses Donald Trump Poop Bags...</td>\n",
       "      <td>ENTERTAINMENT</td>\n",
       "    </tr>\n",
       "    <tr>\n",
       "      <th>5</th>\n",
       "      <td>Morgan Freeman 'Devastated' That Sexual Harass...</td>\n",
       "      <td>ENTERTAINMENT</td>\n",
       "    </tr>\n",
       "  </tbody>\n",
       "</table>\n",
       "</div>"
      ],
      "text/plain": [
       "                                             summary       category\n",
       "1  Will Smith Joins Diplo And Nicky Jam For The 2...  ENTERTAINMENT\n",
       "2  Hugh Grant Marries For The First Time At Age 5...  ENTERTAINMENT\n",
       "3  Jim Carrey Blasts 'Castrato' Adam Schiff And D...  ENTERTAINMENT\n",
       "4  Julianna Margulies Uses Donald Trump Poop Bags...  ENTERTAINMENT\n",
       "5  Morgan Freeman 'Devastated' That Sexual Harass...  ENTERTAINMENT"
      ]
     },
     "execution_count": 66,
     "metadata": {},
     "output_type": "execute_result"
    }
   ],
   "source": [
    "df_news.head()"
   ]
  },
  {
   "cell_type": "markdown",
   "metadata": {},
   "source": [
    "# Let's try the pd.get_dummies() approach instead"
   ]
  },
  {
   "cell_type": "code",
   "execution_count": 67,
   "metadata": {},
   "outputs": [],
   "source": [
    "df_news2 = pd.get_dummies(df_news, columns=['category'])"
   ]
  },
  {
   "cell_type": "code",
   "execution_count": 69,
   "metadata": {},
   "outputs": [
    {
     "data": {
      "text/html": [
       "<div>\n",
       "<style scoped>\n",
       "    .dataframe tbody tr th:only-of-type {\n",
       "        vertical-align: middle;\n",
       "    }\n",
       "\n",
       "    .dataframe tbody tr th {\n",
       "        vertical-align: top;\n",
       "    }\n",
       "\n",
       "    .dataframe thead th {\n",
       "        text-align: right;\n",
       "    }\n",
       "</style>\n",
       "<table border=\"1\" class=\"dataframe\">\n",
       "  <thead>\n",
       "    <tr style=\"text-align: right;\">\n",
       "      <th></th>\n",
       "      <th>summary</th>\n",
       "      <th>category_BUSINESS</th>\n",
       "      <th>category_ENTERTAINMENT</th>\n",
       "      <th>category_POLITICS</th>\n",
       "      <th>category_RELIGION</th>\n",
       "      <th>category_SPORTS</th>\n",
       "      <th>category_TRAVEL</th>\n",
       "    </tr>\n",
       "  </thead>\n",
       "  <tbody>\n",
       "    <tr>\n",
       "      <th>1</th>\n",
       "      <td>Will Smith Joins Diplo And Nicky Jam For The 2...</td>\n",
       "      <td>0</td>\n",
       "      <td>1</td>\n",
       "      <td>0</td>\n",
       "      <td>0</td>\n",
       "      <td>0</td>\n",
       "      <td>0</td>\n",
       "    </tr>\n",
       "  </tbody>\n",
       "</table>\n",
       "</div>"
      ],
      "text/plain": [
       "                                             summary  category_BUSINESS  \\\n",
       "1  Will Smith Joins Diplo And Nicky Jam For The 2...                  0   \n",
       "\n",
       "   category_ENTERTAINMENT  category_POLITICS  category_RELIGION  \\\n",
       "1                       1                  0                  0   \n",
       "\n",
       "   category_SPORTS  category_TRAVEL  \n",
       "1                0                0  "
      ]
     },
     "execution_count": 69,
     "metadata": {},
     "output_type": "execute_result"
    }
   ],
   "source": [
    "df_news2.head(1)"
   ]
  },
  {
   "cell_type": "code",
   "execution_count": 70,
   "metadata": {},
   "outputs": [],
   "source": [
    "all_data = df_news2['summary']\n",
    "all_labels = df_news2.drop(columns=['summary'])\n",
    "X_train, X_test, y_train, y_test = train_test_split(all_data, all_labels, train_size=.8, random_state=1)\n"
   ]
  },
  {
   "cell_type": "markdown",
   "metadata": {},
   "source": [
    "# Check matching dimensions"
   ]
  },
  {
   "cell_type": "code",
   "execution_count": 71,
   "metadata": {},
   "outputs": [
    {
     "name": "stdout",
     "output_type": "stream",
     "text": [
      "The number of samples in the training data and training labels match.\n"
     ]
    }
   ],
   "source": [
    "assert(len(X_train) == len(y_train))\n",
    "print('The number of samples in the training data and training labels match.')"
   ]
  },
  {
   "cell_type": "code",
   "execution_count": null,
   "metadata": {},
   "outputs": [],
   "source": [
    "assert(len(X_test) == len(y_test))\n",
    "print('The number of samples in the test data and test labels match.')"
   ]
  },
  {
   "cell_type": "markdown",
   "metadata": {},
   "source": [
    "# tfidf vectorize"
   ]
  },
  {
   "cell_type": "code",
   "execution_count": 75,
   "metadata": {},
   "outputs": [],
   "source": [
    "vectorizer = TfidfVectorizer() #make Tfidf Vectorizer\n",
    "tfidf_encodings = vectorizer.fit_transform(X_train) #encode the text\n",
    "                   \n",
    "# df['tfidf'] = list(tfidf_encodings.toarray()) #vectorized texts to dense list format for storage in dataframe\n",
    "\n",
    "# vectors_for_training = np.array(df['tfidf'].tolist()) #get the vectors back out of the dataframe for use in something else"
   ]
  },
  {
   "cell_type": "markdown",
   "metadata": {},
   "source": [
    "# Train RNN's"
   ]
  },
  {
   "cell_type": "code",
   "execution_count": 74,
   "metadata": {},
   "outputs": [
    {
     "name": "stdout",
     "output_type": "stream",
     "text": [
      "Epoch 1/10\n"
     ]
    },
    {
     "ename": "UnimplementedError",
     "evalue": " Cast string to float is not supported\n\t [[node sequential_2/Cast\n (defined at /Users/yanivbronshtein/opt/anaconda3/lib/python3.7/site-packages/keras/engine/functional.py:671)\n]] [Op:__inference_train_function_3358]\n\nErrors may have originated from an input operation.\nInput Source operations connected to node sequential_2/Cast:\nIn[0] IteratorGetNext (defined at /Users/yanivbronshtein/opt/anaconda3/lib/python3.7/site-packages/keras/engine/training.py:866)\n\nOperation defined at: (most recent call last)\n>>>   File \"/Users/yanivbronshtein/opt/anaconda3/lib/python3.7/runpy.py\", line 193, in _run_module_as_main\n>>>     \"__main__\", mod_spec)\n>>> \n>>>   File \"/Users/yanivbronshtein/opt/anaconda3/lib/python3.7/runpy.py\", line 85, in _run_code\n>>>     exec(code, run_globals)\n>>> \n>>>   File \"/Users/yanivbronshtein/opt/anaconda3/lib/python3.7/site-packages/ipykernel_launcher.py\", line 16, in <module>\n>>>     app.launch_new_instance()\n>>> \n>>>   File \"/Users/yanivbronshtein/opt/anaconda3/lib/python3.7/site-packages/traitlets/config/application.py\", line 664, in launch_instance\n>>>     app.start()\n>>> \n>>>   File \"/Users/yanivbronshtein/opt/anaconda3/lib/python3.7/site-packages/ipykernel/kernelapp.py\", line 583, in start\n>>>     self.io_loop.start()\n>>> \n>>>   File \"/Users/yanivbronshtein/opt/anaconda3/lib/python3.7/site-packages/tornado/platform/asyncio.py\", line 132, in start\n>>>     # Remove the mapping before closing the asyncio loop. If this\n>>> \n>>>   File \"/Users/yanivbronshtein/opt/anaconda3/lib/python3.7/asyncio/base_events.py\", line 538, in run_forever\n>>>     self._run_once()\n>>> \n>>>   File \"/Users/yanivbronshtein/opt/anaconda3/lib/python3.7/asyncio/base_events.py\", line 1782, in _run_once\n>>>     handle._run()\n>>> \n>>>   File \"/Users/yanivbronshtein/opt/anaconda3/lib/python3.7/asyncio/events.py\", line 88, in _run\n>>>     self._context.run(self._callback, *self._args)\n>>> \n>>>   File \"/Users/yanivbronshtein/opt/anaconda3/lib/python3.7/site-packages/tornado/ioloop.py\", line 758, in _run_callback\n>>>     except asyncio.CancelledError:\n>>> \n>>>   File \"/Users/yanivbronshtein/opt/anaconda3/lib/python3.7/site-packages/tornado/stack_context.py\", line 300, in null_wrapper\n>>>     return fn(*args, **kwargs)\n>>> \n>>>   File \"/Users/yanivbronshtein/opt/anaconda3/lib/python3.7/site-packages/tornado/gen.py\", line 1233, in inner\n>>> \n>>>   File \"/Users/yanivbronshtein/opt/anaconda3/lib/python3.7/site-packages/tornado/gen.py\", line 1147, in run\n>>> \n>>>   File \"/Users/yanivbronshtein/opt/anaconda3/lib/python3.7/site-packages/ipykernel/kernelbase.py\", line 361, in process_one\n>>>     yield gen.maybe_future(dispatch(*args))\n>>> \n>>>   File \"/Users/yanivbronshtein/opt/anaconda3/lib/python3.7/site-packages/tornado/gen.py\", line 326, in wrapper\n>>> \n>>>   File \"/Users/yanivbronshtein/opt/anaconda3/lib/python3.7/site-packages/ipykernel/kernelbase.py\", line 268, in dispatch_shell\n>>>     yield gen.maybe_future(handler(stream, idents, msg))\n>>> \n>>>   File \"/Users/yanivbronshtein/opt/anaconda3/lib/python3.7/site-packages/tornado/gen.py\", line 326, in wrapper\n>>> \n>>>   File \"/Users/yanivbronshtein/opt/anaconda3/lib/python3.7/site-packages/ipykernel/kernelbase.py\", line 541, in execute_request\n>>>     user_expressions, allow_stdin,\n>>> \n>>>   File \"/Users/yanivbronshtein/opt/anaconda3/lib/python3.7/site-packages/tornado/gen.py\", line 326, in wrapper\n>>> \n>>>   File \"/Users/yanivbronshtein/opt/anaconda3/lib/python3.7/site-packages/ipykernel/ipkernel.py\", line 300, in do_execute\n>>>     res = shell.run_cell(code, store_history=store_history, silent=silent)\n>>> \n>>>   File \"/Users/yanivbronshtein/opt/anaconda3/lib/python3.7/site-packages/ipykernel/zmqshell.py\", line 536, in run_cell\n>>>     return super(ZMQInteractiveShell, self).run_cell(*args, **kwargs)\n>>> \n>>>   File \"/Users/yanivbronshtein/opt/anaconda3/lib/python3.7/site-packages/IPython/core/interactiveshell.py\", line 2858, in run_cell\n>>>     The name of the module to be executed.\n>>> \n>>>   File \"/Users/yanivbronshtein/opt/anaconda3/lib/python3.7/site-packages/IPython/core/interactiveshell.py\", line 2886, in _run_cell\n>>>     silent : bool\n>>> \n>>>   File \"/Users/yanivbronshtein/opt/anaconda3/lib/python3.7/site-packages/IPython/core/async_helpers.py\", line 68, in _pseudo_sync_runner\n>>>     coro.send(None)\n>>> \n>>>   File \"/Users/yanivbronshtein/opt/anaconda3/lib/python3.7/site-packages/IPython/core/interactiveshell.py\", line 3063, in run_cell_async\n>>>     self.events.trigger('pre_run_cell', info)\n>>> \n>>>   File \"/Users/yanivbronshtein/opt/anaconda3/lib/python3.7/site-packages/IPython/core/interactiveshell.py\", line 3254, in run_ast_nodes\n>>>     \"\"\"Run a sequence of AST nodes. The execution mode depends on the\n>>> \n>>>   File \"/Users/yanivbronshtein/opt/anaconda3/lib/python3.7/site-packages/IPython/core/interactiveshell.py\", line 3331, in run_code\n>>>     # If interactivity is async the semantics of run_code are\n>>> \n>>>   File \"<ipython-input-74-8324f2be2095>\", line 15, in <module>\n>>>     validation_data=(X_test, y_test))\n>>> \n>>>   File \"/Users/yanivbronshtein/opt/anaconda3/lib/python3.7/site-packages/keras/utils/traceback_utils.py\", line 64, in error_handler\n>>>     return fn(*args, **kwargs)\n>>> \n>>>   File \"/Users/yanivbronshtein/opt/anaconda3/lib/python3.7/site-packages/keras/engine/training.py\", line 1216, in fit\n>>>     tmp_logs = self.train_function(iterator)\n>>> \n>>>   File \"/Users/yanivbronshtein/opt/anaconda3/lib/python3.7/site-packages/keras/engine/training.py\", line 878, in train_function\n>>>     return step_function(self, iterator)\n>>> \n>>>   File \"/Users/yanivbronshtein/opt/anaconda3/lib/python3.7/site-packages/keras/engine/training.py\", line 867, in step_function\n>>>     outputs = model.distribute_strategy.run(run_step, args=(data,))\n>>> \n>>>   File \"/Users/yanivbronshtein/opt/anaconda3/lib/python3.7/site-packages/keras/engine/training.py\", line 860, in run_step\n>>>     outputs = model.train_step(data)\n>>> \n>>>   File \"/Users/yanivbronshtein/opt/anaconda3/lib/python3.7/site-packages/keras/engine/training.py\", line 808, in train_step\n>>>     y_pred = self(x, training=True)\n>>> \n>>>   File \"/Users/yanivbronshtein/opt/anaconda3/lib/python3.7/site-packages/keras/utils/traceback_utils.py\", line 64, in error_handler\n>>>     return fn(*args, **kwargs)\n>>> \n>>>   File \"/Users/yanivbronshtein/opt/anaconda3/lib/python3.7/site-packages/keras/engine/base_layer.py\", line 1083, in __call__\n>>>     outputs = call_fn(inputs, *args, **kwargs)\n>>> \n>>>   File \"/Users/yanivbronshtein/opt/anaconda3/lib/python3.7/site-packages/keras/utils/traceback_utils.py\", line 92, in error_handler\n>>>     return fn(*args, **kwargs)\n>>> \n>>>   File \"/Users/yanivbronshtein/opt/anaconda3/lib/python3.7/site-packages/keras/engine/sequential.py\", line 373, in call\n>>>     return super(Sequential, self).call(inputs, training=training, mask=mask)\n>>> \n>>>   File \"/Users/yanivbronshtein/opt/anaconda3/lib/python3.7/site-packages/keras/engine/functional.py\", line 452, in call\n>>>     inputs, training=training, mask=mask)\n>>> \n>>>   File \"/Users/yanivbronshtein/opt/anaconda3/lib/python3.7/site-packages/keras/engine/functional.py\", line 571, in _run_internal_graph\n>>>     y = self._conform_to_reference_input(y, ref_input=x)\n>>> \n>>>   File \"/Users/yanivbronshtein/opt/anaconda3/lib/python3.7/site-packages/keras/engine/functional.py\", line 671, in _conform_to_reference_input\n>>>     tensor = tf.cast(tensor, dtype=ref_input.dtype)\n>>> ",
     "output_type": "error",
     "traceback": [
      "\u001b[0;31m---------------------------------------------------------------------------\u001b[0m",
      "\u001b[0;31mUnimplementedError\u001b[0m                        Traceback (most recent call last)",
      "\u001b[0;32m<ipython-input-74-8324f2be2095>\u001b[0m in \u001b[0;36m<module>\u001b[0;34m\u001b[0m\n\u001b[1;32m     13\u001b[0m                     \u001b[0mepochs\u001b[0m\u001b[0;34m=\u001b[0m\u001b[0;36m10\u001b[0m\u001b[0;34m,\u001b[0m\u001b[0;34m\u001b[0m\u001b[0;34m\u001b[0m\u001b[0m\n\u001b[1;32m     14\u001b[0m                     \u001b[0mbatch_size\u001b[0m\u001b[0;34m=\u001b[0m\u001b[0;36m32\u001b[0m\u001b[0;34m,\u001b[0m\u001b[0;34m\u001b[0m\u001b[0;34m\u001b[0m\u001b[0m\n\u001b[0;32m---> 15\u001b[0;31m                     validation_data=(X_test, y_test))\n\u001b[0m\u001b[1;32m     16\u001b[0m \u001b[0;34m\u001b[0m\u001b[0m\n\u001b[1;32m     17\u001b[0m \u001b[0;31m# Error: Cast string to float is not supported\u001b[0m\u001b[0;34m\u001b[0m\u001b[0;34m\u001b[0m\u001b[0;34m\u001b[0m\u001b[0m\n",
      "\u001b[0;32m~/opt/anaconda3/lib/python3.7/site-packages/keras/utils/traceback_utils.py\u001b[0m in \u001b[0;36merror_handler\u001b[0;34m(*args, **kwargs)\u001b[0m\n\u001b[1;32m     65\u001b[0m     \u001b[0;32mexcept\u001b[0m \u001b[0mException\u001b[0m \u001b[0;32mas\u001b[0m \u001b[0me\u001b[0m\u001b[0;34m:\u001b[0m  \u001b[0;31m# pylint: disable=broad-except\u001b[0m\u001b[0;34m\u001b[0m\u001b[0;34m\u001b[0m\u001b[0m\n\u001b[1;32m     66\u001b[0m       \u001b[0mfiltered_tb\u001b[0m \u001b[0;34m=\u001b[0m \u001b[0m_process_traceback_frames\u001b[0m\u001b[0;34m(\u001b[0m\u001b[0me\u001b[0m\u001b[0;34m.\u001b[0m\u001b[0m__traceback__\u001b[0m\u001b[0;34m)\u001b[0m\u001b[0;34m\u001b[0m\u001b[0;34m\u001b[0m\u001b[0m\n\u001b[0;32m---> 67\u001b[0;31m       \u001b[0;32mraise\u001b[0m \u001b[0me\u001b[0m\u001b[0;34m.\u001b[0m\u001b[0mwith_traceback\u001b[0m\u001b[0;34m(\u001b[0m\u001b[0mfiltered_tb\u001b[0m\u001b[0;34m)\u001b[0m \u001b[0;32mfrom\u001b[0m \u001b[0;32mNone\u001b[0m\u001b[0;34m\u001b[0m\u001b[0;34m\u001b[0m\u001b[0m\n\u001b[0m\u001b[1;32m     68\u001b[0m     \u001b[0;32mfinally\u001b[0m\u001b[0;34m:\u001b[0m\u001b[0;34m\u001b[0m\u001b[0;34m\u001b[0m\u001b[0m\n\u001b[1;32m     69\u001b[0m       \u001b[0;32mdel\u001b[0m \u001b[0mfiltered_tb\u001b[0m\u001b[0;34m\u001b[0m\u001b[0;34m\u001b[0m\u001b[0m\n",
      "\u001b[0;32m~/opt/anaconda3/lib/python3.7/site-packages/tensorflow/python/eager/execute.py\u001b[0m in \u001b[0;36mquick_execute\u001b[0;34m(op_name, num_outputs, inputs, attrs, ctx, name)\u001b[0m\n\u001b[1;32m     57\u001b[0m     \u001b[0mctx\u001b[0m\u001b[0;34m.\u001b[0m\u001b[0mensure_initialized\u001b[0m\u001b[0;34m(\u001b[0m\u001b[0;34m)\u001b[0m\u001b[0;34m\u001b[0m\u001b[0;34m\u001b[0m\u001b[0m\n\u001b[1;32m     58\u001b[0m     tensors = pywrap_tfe.TFE_Py_Execute(ctx._handle, device_name, op_name,\n\u001b[0;32m---> 59\u001b[0;31m                                         inputs, attrs, num_outputs)\n\u001b[0m\u001b[1;32m     60\u001b[0m   \u001b[0;32mexcept\u001b[0m \u001b[0mcore\u001b[0m\u001b[0;34m.\u001b[0m\u001b[0m_NotOkStatusException\u001b[0m \u001b[0;32mas\u001b[0m \u001b[0me\u001b[0m\u001b[0;34m:\u001b[0m\u001b[0;34m\u001b[0m\u001b[0;34m\u001b[0m\u001b[0m\n\u001b[1;32m     61\u001b[0m     \u001b[0;32mif\u001b[0m \u001b[0mname\u001b[0m \u001b[0;32mis\u001b[0m \u001b[0;32mnot\u001b[0m \u001b[0;32mNone\u001b[0m\u001b[0;34m:\u001b[0m\u001b[0;34m\u001b[0m\u001b[0;34m\u001b[0m\u001b[0m\n",
      "\u001b[0;31mUnimplementedError\u001b[0m:  Cast string to float is not supported\n\t [[node sequential_2/Cast\n (defined at /Users/yanivbronshtein/opt/anaconda3/lib/python3.7/site-packages/keras/engine/functional.py:671)\n]] [Op:__inference_train_function_3358]\n\nErrors may have originated from an input operation.\nInput Source operations connected to node sequential_2/Cast:\nIn[0] IteratorGetNext (defined at /Users/yanivbronshtein/opt/anaconda3/lib/python3.7/site-packages/keras/engine/training.py:866)\n\nOperation defined at: (most recent call last)\n>>>   File \"/Users/yanivbronshtein/opt/anaconda3/lib/python3.7/runpy.py\", line 193, in _run_module_as_main\n>>>     \"__main__\", mod_spec)\n>>> \n>>>   File \"/Users/yanivbronshtein/opt/anaconda3/lib/python3.7/runpy.py\", line 85, in _run_code\n>>>     exec(code, run_globals)\n>>> \n>>>   File \"/Users/yanivbronshtein/opt/anaconda3/lib/python3.7/site-packages/ipykernel_launcher.py\", line 16, in <module>\n>>>     app.launch_new_instance()\n>>> \n>>>   File \"/Users/yanivbronshtein/opt/anaconda3/lib/python3.7/site-packages/traitlets/config/application.py\", line 664, in launch_instance\n>>>     app.start()\n>>> \n>>>   File \"/Users/yanivbronshtein/opt/anaconda3/lib/python3.7/site-packages/ipykernel/kernelapp.py\", line 583, in start\n>>>     self.io_loop.start()\n>>> \n>>>   File \"/Users/yanivbronshtein/opt/anaconda3/lib/python3.7/site-packages/tornado/platform/asyncio.py\", line 132, in start\n>>>     # Remove the mapping before closing the asyncio loop. If this\n>>> \n>>>   File \"/Users/yanivbronshtein/opt/anaconda3/lib/python3.7/asyncio/base_events.py\", line 538, in run_forever\n>>>     self._run_once()\n>>> \n>>>   File \"/Users/yanivbronshtein/opt/anaconda3/lib/python3.7/asyncio/base_events.py\", line 1782, in _run_once\n>>>     handle._run()\n>>> \n>>>   File \"/Users/yanivbronshtein/opt/anaconda3/lib/python3.7/asyncio/events.py\", line 88, in _run\n>>>     self._context.run(self._callback, *self._args)\n>>> \n>>>   File \"/Users/yanivbronshtein/opt/anaconda3/lib/python3.7/site-packages/tornado/ioloop.py\", line 758, in _run_callback\n>>>     except asyncio.CancelledError:\n>>> \n>>>   File \"/Users/yanivbronshtein/opt/anaconda3/lib/python3.7/site-packages/tornado/stack_context.py\", line 300, in null_wrapper\n>>>     return fn(*args, **kwargs)\n>>> \n>>>   File \"/Users/yanivbronshtein/opt/anaconda3/lib/python3.7/site-packages/tornado/gen.py\", line 1233, in inner\n>>> \n>>>   File \"/Users/yanivbronshtein/opt/anaconda3/lib/python3.7/site-packages/tornado/gen.py\", line 1147, in run\n>>> \n>>>   File \"/Users/yanivbronshtein/opt/anaconda3/lib/python3.7/site-packages/ipykernel/kernelbase.py\", line 361, in process_one\n>>>     yield gen.maybe_future(dispatch(*args))\n>>> \n>>>   File \"/Users/yanivbronshtein/opt/anaconda3/lib/python3.7/site-packages/tornado/gen.py\", line 326, in wrapper\n>>> \n>>>   File \"/Users/yanivbronshtein/opt/anaconda3/lib/python3.7/site-packages/ipykernel/kernelbase.py\", line 268, in dispatch_shell\n>>>     yield gen.maybe_future(handler(stream, idents, msg))\n>>> \n>>>   File \"/Users/yanivbronshtein/opt/anaconda3/lib/python3.7/site-packages/tornado/gen.py\", line 326, in wrapper\n>>> \n>>>   File \"/Users/yanivbronshtein/opt/anaconda3/lib/python3.7/site-packages/ipykernel/kernelbase.py\", line 541, in execute_request\n>>>     user_expressions, allow_stdin,\n>>> \n>>>   File \"/Users/yanivbronshtein/opt/anaconda3/lib/python3.7/site-packages/tornado/gen.py\", line 326, in wrapper\n>>> \n>>>   File \"/Users/yanivbronshtein/opt/anaconda3/lib/python3.7/site-packages/ipykernel/ipkernel.py\", line 300, in do_execute\n>>>     res = shell.run_cell(code, store_history=store_history, silent=silent)\n>>> \n>>>   File \"/Users/yanivbronshtein/opt/anaconda3/lib/python3.7/site-packages/ipykernel/zmqshell.py\", line 536, in run_cell\n>>>     return super(ZMQInteractiveShell, self).run_cell(*args, **kwargs)\n>>> \n>>>   File \"/Users/yanivbronshtein/opt/anaconda3/lib/python3.7/site-packages/IPython/core/interactiveshell.py\", line 2858, in run_cell\n>>>     The name of the module to be executed.\n>>> \n>>>   File \"/Users/yanivbronshtein/opt/anaconda3/lib/python3.7/site-packages/IPython/core/interactiveshell.py\", line 2886, in _run_cell\n>>>     silent : bool\n>>> \n>>>   File \"/Users/yanivbronshtein/opt/anaconda3/lib/python3.7/site-packages/IPython/core/async_helpers.py\", line 68, in _pseudo_sync_runner\n>>>     coro.send(None)\n>>> \n>>>   File \"/Users/yanivbronshtein/opt/anaconda3/lib/python3.7/site-packages/IPython/core/interactiveshell.py\", line 3063, in run_cell_async\n>>>     self.events.trigger('pre_run_cell', info)\n>>> \n>>>   File \"/Users/yanivbronshtein/opt/anaconda3/lib/python3.7/site-packages/IPython/core/interactiveshell.py\", line 3254, in run_ast_nodes\n>>>     \"\"\"Run a sequence of AST nodes. The execution mode depends on the\n>>> \n>>>   File \"/Users/yanivbronshtein/opt/anaconda3/lib/python3.7/site-packages/IPython/core/interactiveshell.py\", line 3331, in run_code\n>>>     # If interactivity is async the semantics of run_code are\n>>> \n>>>   File \"<ipython-input-74-8324f2be2095>\", line 15, in <module>\n>>>     validation_data=(X_test, y_test))\n>>> \n>>>   File \"/Users/yanivbronshtein/opt/anaconda3/lib/python3.7/site-packages/keras/utils/traceback_utils.py\", line 64, in error_handler\n>>>     return fn(*args, **kwargs)\n>>> \n>>>   File \"/Users/yanivbronshtein/opt/anaconda3/lib/python3.7/site-packages/keras/engine/training.py\", line 1216, in fit\n>>>     tmp_logs = self.train_function(iterator)\n>>> \n>>>   File \"/Users/yanivbronshtein/opt/anaconda3/lib/python3.7/site-packages/keras/engine/training.py\", line 878, in train_function\n>>>     return step_function(self, iterator)\n>>> \n>>>   File \"/Users/yanivbronshtein/opt/anaconda3/lib/python3.7/site-packages/keras/engine/training.py\", line 867, in step_function\n>>>     outputs = model.distribute_strategy.run(run_step, args=(data,))\n>>> \n>>>   File \"/Users/yanivbronshtein/opt/anaconda3/lib/python3.7/site-packages/keras/engine/training.py\", line 860, in run_step\n>>>     outputs = model.train_step(data)\n>>> \n>>>   File \"/Users/yanivbronshtein/opt/anaconda3/lib/python3.7/site-packages/keras/engine/training.py\", line 808, in train_step\n>>>     y_pred = self(x, training=True)\n>>> \n>>>   File \"/Users/yanivbronshtein/opt/anaconda3/lib/python3.7/site-packages/keras/utils/traceback_utils.py\", line 64, in error_handler\n>>>     return fn(*args, **kwargs)\n>>> \n>>>   File \"/Users/yanivbronshtein/opt/anaconda3/lib/python3.7/site-packages/keras/engine/base_layer.py\", line 1083, in __call__\n>>>     outputs = call_fn(inputs, *args, **kwargs)\n>>> \n>>>   File \"/Users/yanivbronshtein/opt/anaconda3/lib/python3.7/site-packages/keras/utils/traceback_utils.py\", line 92, in error_handler\n>>>     return fn(*args, **kwargs)\n>>> \n>>>   File \"/Users/yanivbronshtein/opt/anaconda3/lib/python3.7/site-packages/keras/engine/sequential.py\", line 373, in call\n>>>     return super(Sequential, self).call(inputs, training=training, mask=mask)\n>>> \n>>>   File \"/Users/yanivbronshtein/opt/anaconda3/lib/python3.7/site-packages/keras/engine/functional.py\", line 452, in call\n>>>     inputs, training=training, mask=mask)\n>>> \n>>>   File \"/Users/yanivbronshtein/opt/anaconda3/lib/python3.7/site-packages/keras/engine/functional.py\", line 571, in _run_internal_graph\n>>>     y = self._conform_to_reference_input(y, ref_input=x)\n>>> \n>>>   File \"/Users/yanivbronshtein/opt/anaconda3/lib/python3.7/site-packages/keras/engine/functional.py\", line 671, in _conform_to_reference_input\n>>>     tensor = tf.cast(tensor, dtype=ref_input.dtype)\n>>> "
     ]
    }
   ],
   "source": [
    "max_features = 10000\n",
    "\n",
    "model = Sequential()\n",
    "model.add(Embedding(max_features, 100))\n",
    "model.add(SimpleRNN(32))\n",
    "model.add(Dense(6, activation='softmax'))\n",
    "\n",
    "model.compile(optimizer='rmsprop',\n",
    "              loss='binary_crossentropy',\n",
    "              metrics=['acc'])\n",
    "\n",
    "history = model.fit(tfidf_encodings, y_train,\n",
    "                    epochs=10,\n",
    "                    batch_size=32,\n",
    "                    validation_data=(X_test, y_test))\n",
    "\n",
    "# Error: Cast string to float is not supported"
   ]
  },
  {
   "cell_type": "code",
   "execution_count": 12,
   "metadata": {},
   "outputs": [
    {
     "name": "stdout",
     "output_type": "stream",
     "text": [
      "1    Will Smith Joins Diplo And Nicky Jam For The 2...\n",
      "2    Hugh Grant Marries For The First Time At Age 5...\n",
      "Name: summary, dtype: object \n",
      "\n",
      "1    ENTERTAINMENT\n",
      "2    ENTERTAINMENT\n",
      "Name: category, dtype: object \n",
      "\n",
      "Total number of reviews: 6000\n",
      "Total number of labels: 6000\n"
     ]
    }
   ],
   "source": [
    "all_data = df_news['summary']\n",
    "all_labels = df_news['category']\n",
    "\n",
    "print(all_data[:2], '\\n')\n",
    "print(all_labels[:2], '\\n')\n",
    "\n",
    "print('Total number of reviews:', len(all_data))\n",
    "print('Total number of labels:', len(all_labels))"
   ]
  },
  {
   "cell_type": "code",
   "execution_count": null,
   "metadata": {},
   "outputs": [],
   "source": []
  },
  {
   "cell_type": "code",
   "execution_count": null,
   "metadata": {},
   "outputs": [],
   "source": [
    "assert(len(X_train) == len(y_train))\n",
    "print('The number of samples in the training data and training labels match.')"
   ]
  },
  {
   "cell_type": "code",
   "execution_count": null,
   "metadata": {},
   "outputs": [],
   "source": [
    "assert(len(X_test) == len(y_test))\n",
    "print('The number of samples in the test data and test labels match.')"
   ]
  },
  {
   "cell_type": "code",
   "execution_count": null,
   "metadata": {},
   "outputs": [],
   "source": [
    "model = make_pipeline(TfidfVectorizer(), MultinomialNB())\n",
    "model.fit(X_train, y_train); labels = model.predict(X_test)"
   ]
  },
  {
   "cell_type": "code",
   "execution_count": null,
   "metadata": {},
   "outputs": [],
   "source": [
    "mat = confusion_matrix(y_test, labels)\n",
    "plt.figure(figsize=(2,2))\n",
    "\n",
    "sns.heatmap(mat.T, square=True, annot=True, fmt='d', cbar=False,\n",
    "            xticklabels=np.unique(y_train), yticklabels=np.unique(y_train))\n",
    "\n",
    "plt.xlabel('True Labeling'); plt.ylabel('Predicted Labeling')"
   ]
  },
  {
   "cell_type": "code",
   "execution_count": null,
   "metadata": {},
   "outputs": [],
   "source": [
    "print('Microaveraged F1 score:', f1_score(y_test, labels, average='micro'))\n",
    "print('Macroaveraged F1 score:', f1_score(y_test, labels, average='macro'))"
   ]
  },
  {
   "cell_type": "code",
   "execution_count": null,
   "metadata": {},
   "outputs": [],
   "source": [
    "model = make_pipeline(TfidfVectorizer(), MLPClassifier(verbose=True))\n",
    "model.fit(X_train, y_train); labels = model.predict(X_test)"
   ]
  },
  {
   "cell_type": "code",
   "execution_count": null,
   "metadata": {},
   "outputs": [],
   "source": [
    "mat = confusion_matrix(y_test, labels)\n",
    "plt.figure(figsize=(2,2))\n",
    "\n",
    "sns.heatmap(mat.T, square=True, annot=True, fmt='d', cbar=False,\n",
    "            xticklabels=np.unique(y_train), yticklabels=np.unique(y_train))\n",
    "\n",
    "plt.xlabel('true label'); plt.ylabel('predicted label')"
   ]
  },
  {
   "cell_type": "code",
   "execution_count": null,
   "metadata": {},
   "outputs": [],
   "source": [
    "print('Microaveraged F1 score:', f1_score(y_test, labels, average='micro'))\n",
    "print('Macroaveraged F1 score:', f1_score(y_test, labels, average='macro'))"
   ]
  },
  {
   "cell_type": "code",
   "execution_count": null,
   "metadata": {},
   "outputs": [],
   "source": [
    "model = make_pipeline(TfidfVectorizer(), MLPClassifier(hidden_layer_sizes=(100,100),verbose=True))\n",
    "model.fit(X_train, y_train); labels = model.predict(X_test)"
   ]
  },
  {
   "cell_type": "code",
   "execution_count": null,
   "metadata": {},
   "outputs": [],
   "source": [
    "mat = confusion_matrix(y_test, labels)\n",
    "plt.figure(figsize=(2,2))\n",
    "\n",
    "sns.heatmap(mat.T, square=True, annot=True, fmt='d', cbar=False,\n",
    "            xticklabels=np.unique(y_train), yticklabels=np.unique(y_train))\n",
    "\n",
    "plt.xlabel('true label'); plt.ylabel('predicted label')"
   ]
  },
  {
   "cell_type": "code",
   "execution_count": null,
   "metadata": {},
   "outputs": [],
   "source": [
    "print('Microaveraged F1 score:', f1_score(y_test, labels, average='micro'))\n",
    "print('Macroaveraged F1 score:', f1_score(y_test, labels, average='macro'))"
   ]
  },
  {
   "cell_type": "code",
   "execution_count": null,
   "metadata": {},
   "outputs": [],
   "source": [
    "model = make_pipeline(TfidfVectorizer(), MLPClassifier(hidden_layer_sizes=(100,100,100),verbose=True))\n",
    "model.fit(X_train, y_train); labels = model.predict(X_test)"
   ]
  },
  {
   "cell_type": "code",
   "execution_count": null,
   "metadata": {},
   "outputs": [],
   "source": [
    "mat = confusion_matrix(y_test, labels)\n",
    "plt.figure(figsize=(2,2))\n",
    "\n",
    "sns.heatmap(mat.T, square=True, annot=True, fmt='d', cbar=False,\n",
    "            xticklabels=np.unique(y_train), yticklabels=np.unique(y_train))\n",
    "\n",
    "plt.xlabel('true label'); plt.ylabel('predicted label')"
   ]
  },
  {
   "cell_type": "code",
   "execution_count": null,
   "metadata": {},
   "outputs": [],
   "source": [
    "print('Microaveraged F1 score:', f1_score(y_test, labels, average='micro'))\n",
    "print('Macroaveraged F1 score:', f1_score(y_test, labels, average='macro'))"
   ]
  },
  {
   "cell_type": "code",
   "execution_count": null,
   "metadata": {},
   "outputs": [],
   "source": [
    "mat = confusion_matrix(y_test, labels)\n",
    "plt.figure(figsize=(2,2))\n",
    "\n",
    "sns.heatmap(mat.T, square=True, annot=True, fmt='d', cbar=False,\n",
    "            xticklabels=np.unique(y_train), yticklabels=np.unique(y_train))\n",
    "\n",
    "plt.xlabel('true label'); plt.ylabel('predicted label')"
   ]
  },
  {
   "cell_type": "code",
   "execution_count": null,
   "metadata": {},
   "outputs": [],
   "source": [
    "print('Microaveraged F1 score:', f1_score(y_test, labels, average='micro'))\n",
    "print('Macroaveraged F1 score:', f1_score(y_test, labels, average='macro'))"
   ]
  },
  {
   "cell_type": "code",
   "execution_count": null,
   "metadata": {},
   "outputs": [],
   "source": [
    "glove_file = datapath('C:/Users/benja/Downloads/glove.6B.100d.txt')\n",
    "word2vec_text_file = get_tmpfile(\"glove.6B.100d.word2vec.txt\")\n",
    "glove2word2vec(glove_file, word2vec_text_file)"
   ]
  },
  {
   "cell_type": "code",
   "execution_count": null,
   "metadata": {},
   "outputs": [],
   "source": [
    "wv = KeyedVectors.load_word2vec_format(word2vec_text_file)"
   ]
  },
  {
   "cell_type": "code",
   "execution_count": null,
   "metadata": {},
   "outputs": [],
   "source": [
    "def calc_doc_embedding(doc, embeddings, embed_size, OOV_embed):\n",
    "    word_count = 0\n",
    "    doc_embed = np.zeros(embed_size, dtype=float)\n",
    "    \n",
    "    for word in doc.split():\n",
    "        if word not in stopset:\n",
    "            if (word in embeddings):\n",
    "                word_embedding = embeddings[word]\n",
    "                \n",
    "            elif word in OOV_embed:\n",
    "                word_embedding = OOV_embed[word]\n",
    "                \n",
    "            else:\n",
    "                word_embedding = np.random.random(embed_size)\n",
    "                OOV_embed[word] = word_embedding\n",
    "                \n",
    "            doc_embed += word_embedding\n",
    "            word_count += 1\n",
    "            \n",
    "    doc_embed /= word_count\n",
    "    return doc_embed"
   ]
  },
  {
   "cell_type": "code",
   "execution_count": null,
   "metadata": {},
   "outputs": [],
   "source": [
    "OOV_embed = {}\n",
    "X_train_embed = np.vstack([calc_doc_embedding(doc, wv, 100, OOV_embed) for doc in X_train])\n",
    "X_test_embed = np.vstack([calc_doc_embedding(doc, wv, 100, OOV_embed) for doc in X_test])"
   ]
  },
  {
   "cell_type": "code",
   "execution_count": null,
   "metadata": {},
   "outputs": [],
   "source": [
    "model = MLPClassifier(verbose=True)\n",
    "model.fit(X_train_embed, y_train); labels = model.predict(X_test_embed)"
   ]
  },
  {
   "cell_type": "code",
   "execution_count": null,
   "metadata": {},
   "outputs": [],
   "source": [
    "mat = confusion_matrix(y_test, labels)\n",
    "plt.figure(figsize=(2,2))\n",
    "\n",
    "sns.heatmap(mat.T, square=True, annot=True, fmt='d', cbar=False,\n",
    "            xticklabels=np.unique(y_train), yticklabels=np.unique(y_train))\n",
    "\n",
    "plt.xlabel('True Labeling'); plt.ylabel('Predicted Labeling')"
   ]
  },
  {
   "cell_type": "code",
   "execution_count": null,
   "metadata": {},
   "outputs": [],
   "source": [
    "print('Microaveraged F1 score:', f1_score(y_test, labels, average='micro'))\n",
    "print('Macroaveraged F1 score:', f1_score(y_test, labels, average='macro'))"
   ]
  },
  {
   "cell_type": "code",
   "execution_count": null,
   "metadata": {},
   "outputs": [],
   "source": [
    "model = MLPClassifier(hidden_layer_sizes=(100,100), verbose=True)\n",
    "model.fit(X_train_embed, y_train); labels = model.predict(X_test_embed)"
   ]
  },
  {
   "cell_type": "code",
   "execution_count": null,
   "metadata": {},
   "outputs": [],
   "source": [
    "mat = confusion_matrix(y_test, labels)\n",
    "plt.figure(figsize=(2,2))\n",
    "\n",
    "sns.heatmap(mat.T, square=True, annot=True, fmt='d', cbar=False,\n",
    "            xticklabels=np.unique(y_train), yticklabels=np.unique(y_train))\n",
    "\n",
    "plt.xlabel('True Labeling'); plt.ylabel('Predicted Labeling')"
   ]
  },
  {
   "cell_type": "code",
   "execution_count": null,
   "metadata": {},
   "outputs": [],
   "source": [
    "print('Microaveraged F1 score:', f1_score(y_test, labels, average='micro'))\n",
    "print('Macroaveraged F1 score:', f1_score(y_test, labels, average='macro'))"
   ]
  },
  {
   "cell_type": "code",
   "execution_count": null,
   "metadata": {},
   "outputs": [],
   "source": [
    "model = MLPClassifier(hidden_layer_sizes=(100,100,100), verbose=True)\n",
    "model.fit(X_train_embed, y_train); labels = model.predict(X_test_embed)"
   ]
  },
  {
   "cell_type": "code",
   "execution_count": null,
   "metadata": {},
   "outputs": [],
   "source": [
    "mat = confusion_matrix(y_test, labels)\n",
    "plt.figure(figsize=(2,2))\n",
    "\n",
    "sns.heatmap(mat.T, square=True, annot=True, fmt='d', cbar=False,\n",
    "            xticklabels=np.unique(y_train), yticklabels=np.unique(y_train))\n",
    "\n",
    "plt.xlabel('True Labeling'); plt.ylabel('Predicted Labeling')"
   ]
  },
  {
   "cell_type": "code",
   "execution_count": null,
   "metadata": {},
   "outputs": [],
   "source": [
    "print('Microaveraged F1 score:', f1_score(y_test, labels, average='micro'))\n",
    "print('Macroaveraged F1 score:', f1_score(y_test, labels, average='macro'))"
   ]
  },
  {
   "cell_type": "code",
   "execution_count": null,
   "metadata": {},
   "outputs": [],
   "source": [
    "embeddings_index = {}\n",
    "f = open('C:/Users/benja/Downloads/glove.6B.100d.txt', encoding='utf-8')\n",
    "for line in f:\n",
    "    values = line.split()\n",
    "    word = values[0]\n",
    "    coefs = np.asarray(values[1:], dtype='float32')\n",
    "    embeddings_index[word] = coefs\n",
    "    \n",
    "f.close()\n",
    "print('Found %s word vectors.' % len(embeddings_index))"
   ]
  },
  {
   "cell_type": "code",
   "execution_count": null,
   "metadata": {},
   "outputs": [],
   "source": [
    "max_words = 10000; maxlen=100\n",
    "tokenizer = Tokenizer(num_words=max_words)\n",
    "tokenizer.fit_on_texts(X_train)\n",
    "sequences = tokenizer.texts_to_sequences(X_train)\n",
    "\n",
    "word_index = tokenizer.word_index\n",
    "print('Found %s unique tokens.' % len(word_index))\n",
    "\n",
    "data = pad_sequences(sequences, maxlen=maxlen)"
   ]
  },
  {
   "cell_type": "code",
   "execution_count": null,
   "metadata": {},
   "outputs": [],
   "source": [
    "embedding_dim = 100\n",
    "\n",
    "embedding_matrix = np.zeros((max_words, embedding_dim))\n",
    "for word, i in word_index.items():\n",
    "    embedding_vector = embeddings_index.get(word)\n",
    "    if i < max_words:\n",
    "        if embedding_vector is not None:\n",
    "            embedding_matrix[i] = embedding_vector"
   ]
  },
  {
   "cell_type": "code",
   "execution_count": null,
   "metadata": {},
   "outputs": [],
   "source": [
    "max_features = 10000\n",
    "\n",
    "model = Sequential()\n",
    "model.add(Embedding(max_features, 100))\n",
    "model.add(SimpleRNN(32))\n",
    "model.add(Dense(1, activation='sigmoid'))\n",
    "\n",
    "model.compile(optimizer='rmsprop',\n",
    "              loss='binary_crossentropy',\n",
    "              metrics=['acc'])\n",
    "\n",
    "history = model.fit(X_train_embed, y_train,\n",
    "                    epochs=10,\n",
    "                    batch_size=32,\n",
    "                    validation_data=(X_test_embed, y_test))\n",
    "\n",
    "# Error: Cast string to float is not supported"
   ]
  }
 ],
 "metadata": {
  "kernelspec": {
   "display_name": "Python 3",
   "language": "python",
   "name": "python3"
  },
  "language_info": {
   "codemirror_mode": {
    "name": "ipython",
    "version": 3
   },
   "file_extension": ".py",
   "mimetype": "text/x-python",
   "name": "python",
   "nbconvert_exporter": "python",
   "pygments_lexer": "ipython3",
   "version": "3.7.6"
  }
 },
 "nbformat": 4,
 "nbformat_minor": 5
}
